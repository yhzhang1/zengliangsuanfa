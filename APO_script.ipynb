{
 "cells": [
  {
   "cell_type": "code",
   "execution_count": 10,
   "metadata": {},
   "outputs": [],
   "source": [
    "import numba\n",
    "\n",
    "\n",
    "def APO_inc(fastMA, slowMA):    \n",
    "    return fastMA - slowMA\n",
    "\n",
    "\n",
    "def APO(close, fastperiod=12, slowperiod=26):\n",
    "\n",
    "    fastma = np.full_like(close, fill_value=np.nan)\n",
    "    slowma = np.full_like(close, fill_value=np.nan)\n",
    "    apo = np.full_like(close, fill_value=np.nan)\n",
    "\n",
    "    \n",
    "    for i in range(len(close)):\n",
    "        if i >= fastperiod-1:\n",
    "            fastma[i] = close[i-fastperiod+1:i+1].mean()\n",
    "        if i >= slowperiod-1:\n",
    "            slowma[i] = close[i-slowperiod+1:i+1].mean()\n",
    "            apo[i] = APO_inc(fastma[i], slowma[i])\n",
    "            \n",
    "    return apo"
   ]
  },
  {
   "cell_type": "code",
   "execution_count": 9,
   "metadata": {},
   "outputs": [
    {
     "data": {
      "text/plain": [
       "array([            nan,             nan,             nan,             nan,\n",
       "                   nan,             nan,             nan,             nan,\n",
       "                   nan,             nan,             nan,             nan,\n",
       "                   nan,             nan,             nan,             nan,\n",
       "                   nan,             nan,             nan,             nan,\n",
       "                   nan,             nan,             nan,             nan,\n",
       "                   nan,  0.00000000e+00,  1.66533454e-16, -5.55111512e-17,\n",
       "        1.11022302e-16,  1.11022302e-16,  1.11022302e-16, -1.11022302e-16,\n",
       "        0.00000000e+00, -1.11022302e-16,  0.00000000e+00,  0.00000000e+00,\n",
       "       -1.11022302e-16, -1.11022302e-16, -1.11022302e-16,  0.00000000e+00,\n",
       "       -1.11022302e-16,  0.00000000e+00, -1.11022302e-16,  5.55111512e-17,\n",
       "        1.66533454e-16,  5.55111512e-17,  0.00000000e+00,  0.00000000e+00,\n",
       "        0.00000000e+00,  0.00000000e+00, -5.55111512e-17,  0.00000000e+00,\n",
       "       -5.55111512e-17, -2.22044605e-16, -2.77555756e-16, -2.22044605e-16,\n",
       "       -3.33066907e-16, -3.88578059e-16, -3.88578059e-16, -2.22044605e-16,\n",
       "       -1.66533454e-16, -2.22044605e-16, -2.77555756e-16, -3.88578059e-16,\n",
       "       -1.66533454e-16, -1.66533454e-16, -1.11022302e-16, -1.11022302e-16,\n",
       "       -1.11022302e-16,  5.55111512e-17,  0.00000000e+00, -5.55111512e-17,\n",
       "        1.11022302e-16,  1.11022302e-16,  0.00000000e+00,  5.55111512e-17,\n",
       "        1.66533454e-16,  2.77555756e-16,  2.22044605e-16,  2.77555756e-16,\n",
       "        1.66533454e-16,  1.11022302e-16,  0.00000000e+00,  5.55111512e-17,\n",
       "        1.11022302e-16,  5.55111512e-17,  1.11022302e-16,  2.22044605e-16,\n",
       "        1.11022302e-16,  1.66533454e-16,  2.22044605e-16,  1.66533454e-16,\n",
       "        2.22044605e-16,  2.77555756e-16,  1.11022302e-16,  1.11022302e-16,\n",
       "        5.55111512e-17, -5.55111512e-17,  0.00000000e+00,  0.00000000e+00])"
      ]
     },
     "execution_count": 9,
     "metadata": {},
     "output_type": "execute_result"
    }
   ],
   "source": [
    "import numpy as np\n",
    "close = np.random.random(100)\n",
    "import talib\n",
    "\n",
    "APO(close) - talib.APO(close)"
   ]
  },
  {
   "cell_type": "code",
   "execution_count": 37,
   "metadata": {},
   "outputs": [
    {
     "name": "stdout",
     "output_type": "stream",
     "text": [
      "75.1 µs ± 195 ns per loop (mean ± std. dev. of 7 runs, 10000 loops each)\n"
     ]
    }
   ],
   "source": [
    "%timeit APO(inputs)"
   ]
  }
 ],
 "metadata": {
  "kernelspec": {
   "display_name": "Python 3",
   "language": "python",
   "name": "python3"
  },
  "language_info": {
   "codemirror_mode": {
    "name": "ipython",
    "version": 3
   },
   "file_extension": ".py",
   "mimetype": "text/x-python",
   "name": "python",
   "nbconvert_exporter": "python",
   "pygments_lexer": "ipython3",
   "version": "3.7.4"
  }
 },
 "nbformat": 4,
 "nbformat_minor": 4
}
