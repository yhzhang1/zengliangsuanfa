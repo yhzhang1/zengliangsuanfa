{
 "cells": [
  {
   "cell_type": "code",
   "execution_count": 2,
   "metadata": {},
   "outputs": [],
   "source": [
    "def customized_indicator_1_inc(sma_max_part, sma_abs_part):\n",
    "    return sma_max_part/sma_abs_part*100\n",
    "\n",
    "def customized_indicator_1(vol, timeperiod=30):\n",
    "    indicator = np.full_like(vol, fill_value=np.nan)\n",
    "    max_part = np.full_like(vol, fill_value=np.nan)\n",
    "    abs_part = np.full_like(vol, fill_value=np.nan)\n",
    "    sma_max_part = np.full_like(vol, fill_value=np.nan)\n",
    "    sma_abs_part = np.full_like(vol, fill_value=np.nan)\n",
    "    \n",
    "    for i in range(len(vol)):\n",
    "        if i == 0:\n",
    "            pass\n",
    "        else:\n",
    "            vol_inc = vol[i] - vol[i-1]\n",
    "            max_part[i] = max(vol_inc, 0)\n",
    "            abs_part[i] = abs(vol_inc)\n",
    "            if i == timeperiod:\n",
    "                sma_max_part[i] = max_part[i-timeperiod+1:i+1].mean()\n",
    "                sma_abs_part[i] = abs_part[i-timeperiod+1:i+1].mean()\n",
    "                indicator[i] = customized_indicator_1_inc(sma_max_part[i], sma_abs_part[i])\n",
    "            elif i > timeperiod:\n",
    "                sma_max_part[i] = sma_max_part[i-1] - max_part[i-timeperiod]/timeperiod + max_part[i]/timeperiod\n",
    "                sma_abs_part[i] = sma_abs_part[i-1] - abs_part[i-timeperiod]/timeperiod + abs_part[i]/timeperiod\n",
    "                indicator[i] = customized_indicator_1_inc(sma_max_part[i], sma_abs_part[i])\n",
    "                \n",
    "    return indicator"
   ]
  },
  {
   "cell_type": "code",
   "execution_count": 3,
   "metadata": {},
   "outputs": [],
   "source": [
    "import numpy as np\n",
    "\n",
    "vol = np.random.random(100)"
   ]
  },
  {
   "cell_type": "code",
   "execution_count": 4,
   "metadata": {},
   "outputs": [
    {
     "data": {
      "text/plain": [
       "array([        nan,         nan,         nan,         nan,         nan,\n",
       "               nan,         nan,         nan,         nan,         nan,\n",
       "               nan,         nan,         nan,         nan,         nan,\n",
       "               nan,         nan,         nan,         nan,         nan,\n",
       "               nan,         nan,         nan,         nan,         nan,\n",
       "               nan,         nan,         nan,         nan,         nan,\n",
       "       48.61525796, 47.44480801, 49.76733605, 50.46425441, 48.62765414,\n",
       "       51.28244864, 48.72582061, 52.27017763, 48.95168588, 51.01704679,\n",
       "       46.24269967, 50.41933379, 49.01656536, 48.66000416, 53.17511232,\n",
       "       47.56844322, 48.07403746, 52.89902898, 47.94577497, 49.77051315,\n",
       "       53.07312429, 50.48374333, 49.72167211, 50.4582094 , 51.77177121,\n",
       "       51.31159871, 46.14530713, 49.62318048, 46.68213805, 49.77830111,\n",
       "       47.65812994, 51.54157154, 49.66194193, 49.18689587, 46.91222118,\n",
       "       48.35354244, 50.12614337, 49.27366872, 51.21844498, 53.49404762,\n",
       "       51.28561745, 47.55988286, 48.70961492, 51.81608075, 48.15745462,\n",
       "       53.43972846, 51.47717778, 51.00443273, 52.18216741, 49.38171137,\n",
       "       45.41157532, 48.96021744, 51.38664223, 53.026219  , 51.06657994,\n",
       "       46.96518663, 52.49485069, 49.03263549, 48.91294144, 51.04026985,\n",
       "       49.57333419, 51.43397917, 49.08231077, 47.03804219, 53.97136872,\n",
       "       48.64452434, 49.89132409, 51.46476403, 50.40395687, 47.44010301])"
      ]
     },
     "execution_count": 4,
     "metadata": {},
     "output_type": "execute_result"
    }
   ],
   "source": [
    "customized_indicator_1(vol)"
   ]
  }
 ],
 "metadata": {
  "kernelspec": {
   "display_name": "Python 3",
   "language": "python",
   "name": "python3"
  },
  "language_info": {
   "codemirror_mode": {
    "name": "ipython",
    "version": 3
   },
   "file_extension": ".py",
   "mimetype": "text/x-python",
   "name": "python",
   "nbconvert_exporter": "python",
   "pygments_lexer": "ipython3",
   "version": "3.7.4"
  }
 },
 "nbformat": 4,
 "nbformat_minor": 4
}
