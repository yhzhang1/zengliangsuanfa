{
 "cells": [
  {
   "cell_type": "markdown",
   "metadata": {},
   "source": [
    "https://github.com/Khushali26/MoneyFlowIndexCalculations/blob/master/money_flow_index.ipynb"
   ]
  },
  {
   "cell_type": "code",
   "execution_count": 1,
   "metadata": {},
   "outputs": [],
   "source": [
    "import numpy as np\n",
    "from scipy.ndimage.interpolation import shift\n",
    "\n",
    "\n",
    "\n",
    "inputs = {\n",
    "    'open': np.random.random(100),\n",
    "    'high': np.random.random(100),\n",
    "    'low': np.random.random(100),\n",
    "    'close': np.random.random(100),\n",
    "    'volume': np.random.random(100)\n",
    "}"
   ]
  },
  {
   "cell_type": "code",
   "execution_count": 2,
   "metadata": {},
   "outputs": [
    {
     "name": "stderr",
     "output_type": "stream",
     "text": [
      "/opt/anaconda3/lib/python3.6/site-packages/ipykernel/__main__.py:15: RuntimeWarning: invalid value encountered in greater\n",
      "/opt/anaconda3/lib/python3.6/site-packages/ipykernel/__main__.py:17: RuntimeWarning: invalid value encountered in less_equal\n"
     ]
    }
   ],
   "source": [
    "high = inputs['high']\n",
    "low = inputs['low']\n",
    "close = inputs['close']\n",
    "vol = inputs['volume']\n",
    "\n",
    "typicalPrice = (high + low + close)/3\n",
    "preTypicalPrice = shift(typicalPrice, 1, cval=np.nan)\n",
    "\n",
    "moneyFlow = typicalPrice * vol\n",
    "pmf = np.zeros_like(high)\n",
    "pmf[0] = np.nan\n",
    "nmf = np.zeros_like(high)\n",
    "nmf[0] = np.nan\n",
    "\n",
    "condition1 = typicalPrice > preTypicalPrice\n",
    "pmf[condition1] = moneyFlow[condition1]\n",
    "condition2 = typicalPrice <= preTypicalPrice\n",
    "nmf[condition2] = moneyFlow[condition2]"
   ]
  },
  {
   "cell_type": "code",
   "execution_count": 4,
   "metadata": {},
   "outputs": [
    {
     "data": {
      "text/plain": [
       "array([       nan, 0.15716184, 0.        , 0.        , 0.10457107,\n",
       "       0.        , 0.46089382, 0.        , 0.        , 0.        ,\n",
       "       0.16167614, 0.37231559, 0.        , 0.        , 0.14262733,\n",
       "       0.5506388 , 0.        , 0.23031477, 0.2585752 , 0.        ,\n",
       "       0.3962347 , 0.        , 0.36313305, 0.        , 0.26836878,\n",
       "       0.06924511, 0.        , 0.        , 0.20255638, 0.        ,\n",
       "       0.3307599 , 0.        , 0.        , 0.85093446, 0.        ,\n",
       "       0.06037494, 0.        , 0.06212197, 0.        , 0.01523911,\n",
       "       0.08626247, 0.        , 0.23423719, 0.45140705, 0.        ,\n",
       "       0.36537035, 0.23452018, 0.        , 0.02291061, 0.08941765,\n",
       "       0.14852839, 0.        , 0.        , 0.        , 0.19168411,\n",
       "       0.        , 0.        , 0.28533648, 0.        , 0.54357631,\n",
       "       0.        , 0.        , 0.17377461, 0.        , 0.40395966,\n",
       "       0.        , 0.3998375 , 0.02868262, 0.        , 0.00442338,\n",
       "       0.        , 0.24738827, 0.        , 0.30344049, 0.4315529 ,\n",
       "       0.        , 0.00675775, 0.        , 0.24929853, 0.        ,\n",
       "       0.58999397, 0.35250903, 0.        , 0.11574796, 0.        ,\n",
       "       0.11424107, 0.03646437, 0.3794428 , 0.        , 0.51961716,\n",
       "       0.        , 0.38596808, 0.46487109, 0.36889238, 0.        ,\n",
       "       0.        , 0.47700339, 0.        , 0.        , 0.4515359 ])"
      ]
     },
     "execution_count": 4,
     "metadata": {},
     "output_type": "execute_result"
    }
   ],
   "source": [
    "\n",
    "pmf"
   ]
  },
  {
   "cell_type": "code",
   "execution_count": 14,
   "metadata": {},
   "outputs": [],
   "source": [
    "\n",
    "pmfs = np.full_like(pmf, np.nan)\n",
    "nmfs = np.full_like(nmf, np.nan)\n",
    "n = 5\n",
    "i = 0\n",
    "set_first_pmfs = False\n",
    "set_first_nmfs = False\n",
    "while (i+n) <= len(pmf):\n",
    "    if not set_first_pmfs:\n",
    "        pmfs[i+n-1] = pmf[i:i+n].sum(where=np.invert(np.isnan(pmf[i:i+n])))\n",
    "        \n",
    "        set_first_pmfs = True\n",
    "    else:\n",
    "        if np.isnan(pmf[i-1]):\n",
    "            prePmf = 0\n",
    "        else:\n",
    "            prePmf = pmf[i-1]\n",
    "            \n",
    "        nextPmf = pmf[i+n-1]\n",
    "            \n",
    "        pmfs[i+n-1] = pmfs[i+n-2] - prePmf + nextPmf\n",
    " \n",
    "    if not set_first_nmfs:\n",
    "        nmfs[i+n-1] = nmf[i:i+n].sum(where=np.invert(np.isnan(nmf[i:i+n])))\n",
    "        set_first_nmfs = True\n",
    "    else:\n",
    "        if np.isnan(nmf[i-1]):\n",
    "            preNmf = 0\n",
    "        else:\n",
    "            preNmf = nmf[i-1]    \n",
    "            \n",
    "        nextNmf = nmf[i+n-1]\n",
    "            \n",
    "        nmfs[i+n-1] = nmfs[i+n-2] - preNmf + nextNmf\n",
    "        \n",
    "    i+=1\n",
    "    "
   ]
  },
  {
   "cell_type": "code",
   "execution_count": 15,
   "metadata": {},
   "outputs": [
    {
     "data": {
      "text/plain": [
       "array([       nan,        nan,        nan,        nan, 0.26173291,\n",
       "       0.26173291, 0.56546488, 0.56546488, 0.56546488, 0.46089382,\n",
       "       0.62256995, 0.53399173, 0.53399173, 0.53399173, 0.67661906,\n",
       "       1.06558172, 0.69326613, 0.9235809 , 1.1821561 , 1.03952877,\n",
       "       0.88512468, 0.88512468, 1.01794295, 0.75936775, 1.02773654,\n",
       "       0.70074695, 0.70074695, 0.3376139 , 0.54017028, 0.2718015 ,\n",
       "       0.53331629, 0.53331629, 0.53331629, 1.18169436, 1.18169436,\n",
       "       0.9113094 , 0.9113094 , 0.97343137, 0.12249692, 0.13773603,\n",
       "       0.16362356, 0.16362356, 0.33573878, 0.78714583, 0.77190672,\n",
       "       1.05101459, 1.28553478, 1.05129758, 0.62280114, 0.7122188 ,\n",
       "       0.49537683, 0.26085665, 0.26085665, 0.23794604, 0.34021249,\n",
       "       0.19168411, 0.19168411, 0.47702059, 0.47702059, 0.8289128 ,\n",
       "       0.8289128 , 0.8289128 , 0.71735093, 0.71735093, 0.57773427,\n",
       "       0.57773427, 0.97757176, 0.83247978, 0.83247978, 0.4329435 ,\n",
       "       0.4329435 , 0.28049427, 0.25181165, 0.55525214, 0.98238166,\n",
       "       0.98238166, 0.74175114, 0.74175114, 0.68760919, 0.25605628,\n",
       "       0.84605025, 1.19180153, 1.19180153, 1.05825096, 1.05825096,\n",
       "       0.58249806, 0.2664534 , 0.6458962 , 0.53014824, 1.0497654 ,\n",
       "       0.93552433, 1.28502804, 1.37045633, 1.73934871, 1.21973155,\n",
       "       1.21973155, 1.31076686, 0.84589577, 0.47700339, 0.92853929])"
      ]
     },
     "execution_count": 15,
     "metadata": {},
     "output_type": "execute_result"
    }
   ],
   "source": [
    "pmfs"
   ]
  },
  {
   "cell_type": "code",
   "execution_count": 16,
   "metadata": {},
   "outputs": [
    {
     "data": {
      "text/plain": [
       "array([       nan,        nan,        nan,        nan, 0.429639  ,\n",
       "       0.87838474, 0.87838474, 0.87908791, 0.80367259, 0.99004029,\n",
       "       0.54129454, 0.54129454, 0.27524045, 0.51774283, 0.33137513,\n",
       "       0.33137513, 0.34652551, 0.33731017, 0.01515039, 0.15939287,\n",
       "       0.15939287, 0.15367846, 0.15367846, 0.31295614, 0.16871366,\n",
       "       0.16871366, 0.63470815, 0.6432391 , 0.48396141, 0.54185394,\n",
       "       0.54185394, 0.36011219, 0.57202711, 0.57202711, 0.90760685,\n",
       "       0.90760685, 0.9915904 , 0.77114453, 0.95792654, 0.56445427,\n",
       "       0.56445427, 0.39845353, 0.39845353, 0.21167153, 0.39262219,\n",
       "       0.39262219, 0.18095066, 0.2691224 , 0.2691224 , 0.08817174,\n",
       "       0.08817174, 0.62171619, 0.73343977, 0.77162028, 0.77162028,\n",
       "       0.82505676, 0.66828413, 0.4683888 , 0.69989571, 0.69989571,\n",
       "       1.04195357, 0.9773603 , 0.9773603 , 0.7828179 , 0.7828179 ,\n",
       "       0.56032784, 0.24814929, 0.24814929, 0.32957471, 0.32957471,\n",
       "       0.46162852, 0.46162852, 0.66861967, 0.51204924, 0.51204924,\n",
       "       0.29716696, 0.29716696, 0.45275908, 0.45275908, 0.7067087 ,\n",
       "       0.6165329 , 0.6165329 , 0.58340341, 0.58340341, 0.37589488,\n",
       "       0.37589488, 0.37589488, 0.04644109, 0.60533474, 0.55889365,\n",
       "       0.77894771, 0.77894771, 0.77894771, 0.22005406, 0.4358185 ,\n",
       "       0.35364069, 0.35364069, 0.35761885, 0.38347684, 0.1677124 ])"
      ]
     },
     "execution_count": 16,
     "metadata": {},
     "output_type": "execute_result"
    }
   ],
   "source": [
    "nmfs"
   ]
  },
  {
   "cell_type": "code",
   "execution_count": 18,
   "metadata": {},
   "outputs": [
    {
     "data": {
      "text/plain": [
       "array([        nan,         nan,         nan,         nan,  0.60919262,\n",
       "        0.29797069,  0.64375536,  0.64324043,  0.70360106,  0.46553036,\n",
       "        1.15015006,  0.98650861,  1.94009179,  1.03138412,  2.04185228,\n",
       "        3.21563578,  2.00062074,  2.73807607, 78.02812106,  6.52180206,\n",
       "        5.55310069,  5.75958853,  6.6238494 ,  2.42643504,  6.09160257,\n",
       "        4.15346907,  1.10404593,  0.52486532,  1.11614329,  0.50161396,\n",
       "        0.98424363,  1.48097258,  0.93232694,  2.06580132,  1.30198924,\n",
       "        1.00407946,  0.91903814,  1.26232027,  0.12787715,  0.24401628,\n",
       "        0.28987921,  0.41064653,  0.8426046 ,  3.71871384,  1.96602929,\n",
       "        2.67691086,  7.10433868,  3.90639199,  2.31419289,  8.07763132,\n",
       "        5.61831762,  0.41957513,  0.35566199,  0.30837194,  0.44090663,\n",
       "        0.23232839,  0.28683026,  1.01842868,  0.68155953,  1.18433759,\n",
       "        0.79553717,  0.84811384,  0.73396774,  0.91637011,  0.73801872,\n",
       "        1.03106471,  3.93945023,  3.35475386,  2.52592127,  1.31364296,\n",
       "        0.93786125,  0.60761902,  0.37661417,  1.08437255,  1.91852969,\n",
       "        3.30582401,  2.49607544,  1.63829104,  1.51870877,  0.36232224,\n",
       "        1.37227106,  1.93307046,  2.04284294,  1.81392659,  2.81528434,\n",
       "        1.54963023,  0.70885083, 13.90786061,  0.87579352,  1.87829189,\n",
       "        1.20101044,  1.64969744,  1.75936885,  7.90418819,  2.7987145 ,\n",
       "        3.44907013,  3.70649329,  2.36535564,  1.24389101,  5.53649757])"
      ]
     },
     "execution_count": 18,
     "metadata": {},
     "output_type": "execute_result"
    }
   ],
   "source": [
    "moneyRatio = pmfs/nmfs\n",
    "moneyRatio"
   ]
  },
  {
   "cell_type": "code",
   "execution_count": 20,
   "metadata": {},
   "outputs": [
    {
     "data": {
      "text/plain": [
       "array([        nan,         nan,         nan,         nan, 37.85703559,\n",
       "       22.95665798, 39.16369633, 39.14463248, 41.30081121, 31.76531688,\n",
       "       53.49161817, 49.66042463, 65.98745645, 50.77248125, 67.12529379,\n",
       "       76.27878566, 66.67356231, 73.24827049, 98.73462764, 86.70531355,\n",
       "       84.7400483 , 85.20620012, 86.88326661, 70.81514785, 85.89881497,\n",
       "       80.59559518, 52.47252042, 34.42043794, 52.74422075, 33.40498758,\n",
       "       49.60296274, 59.69322649, 48.24892319, 67.38210026, 56.55931051,\n",
       "       50.10177891, 47.8905615 , 55.79759355, 11.33786151, 19.61519961,\n",
       "       22.4733612 , 29.11051927, 45.72899686, 78.80778461, 66.28489125,\n",
       "       72.8032569 , 87.66093027, 79.61842424, 69.8267411 , 88.9839104 ,\n",
       "       84.89041994, 29.55638763, 26.23529996, 23.56913413, 30.59925033,\n",
       "       18.85279871, 22.28967306, 50.4565105 , 40.53139472, 54.21953063,\n",
       "       44.30636054, 45.89077908, 42.32880004, 47.81801303, 42.46322052,\n",
       "       50.76473965, 79.75483194, 77.03658959, 71.63861803, 56.77811933,\n",
       "       48.3967182 , 37.79620763, 27.35800501, 52.02393167, 65.73617171,\n",
       "       76.77564159, 71.39649827, 62.09667606, 60.29711686, 26.595928  ,\n",
       "       57.846301  , 65.90603558, 67.13599684, 64.46247028, 73.78963374,\n",
       "       60.77862628, 41.48114152, 93.29212939, 46.68922843, 65.25717197,\n",
       "       54.56632184, 62.25984206, 63.75982859, 88.76932991, 73.67530517,\n",
       "       77.52339318, 78.75275842, 70.28545841, 55.43455553, 84.70128704])"
      ]
     },
     "execution_count": 20,
     "metadata": {},
     "output_type": "execute_result"
    }
   ],
   "source": [
    "mfi = 100 - 100/(1+moneyRatio)\n",
    "mfi"
   ]
  },
  {
   "cell_type": "code",
   "execution_count": 30,
   "metadata": {},
   "outputs": [],
   "source": [
    "def MFI_inc(MoneyRatio):\n",
    "    return 100 - (100/(1+MoneyRatio))\n",
    "\n",
    "def MFI(high, low, close, vol, n=14):\n",
    "    typical_price = np.full_like(high, fill_value=np.nan)\n",
    "    money_flow = np.full_like(high, fill_value=np.nan)\n",
    "    positive_money_flow = np.full_like(high, fill_value=np.nan)\n",
    "    negative_money_flow = np.full_like(high, fill_value=np.nan)\n",
    "    money_ratio = np.full_like(high, fill_value=np.nan)\n",
    "    mfi = np.full_like(high, fill_value=np.nan)\n",
    "    \n",
    "    for i in range(len(high)):\n",
    "        # 更新 typicalprice, moneyflow\n",
    "        typical_price[i] = (high[i] + low[i] + close[i]) / 3\n",
    "        money_flow[i] = typical_price[i] * vol[i]\n",
    "        \n",
    "        if i == 0:\n",
    "            pass\n",
    "        else:\n",
    "            # 更新 positivemoneyflow, negativemoneyflow\n",
    "            if typical_price[i] > typical_price[i-1]:\n",
    "                positive_money_flow[i] = money_flow[i]\n",
    "                negative_money_flow[i] = 0\n",
    "            else:\n",
    "                positive_money_flow[i] = 0\n",
    "                negative_money_flow[i] = money_flow[i]\n",
    "                \n",
    "            # 更新 moneyratio\n",
    "            if i >= n:\n",
    "                money_ratio[i] = positive_money_flow[i-n+1:i+1].sum() / negative_money_flow[i-n+1:i+1].sum()\n",
    "                # 更新 moneyflowindex\n",
    "                mfi[i] = MFI_inc(money_ratio[i])\n",
    "                                \n",
    "    return mfi\n",
    "            \n",
    "    "
   ]
  },
  {
   "cell_type": "code",
   "execution_count": 24,
   "metadata": {},
   "outputs": [],
   "source": [
    "import numpy as np\n",
    "import talib\n",
    "\n",
    "high = np.random.random(100)\n",
    "low = np.random.random(100)\n",
    "close = np.random.random(100)\n",
    "vol = np.random.random(100)"
   ]
  },
  {
   "cell_type": "code",
   "execution_count": 32,
   "metadata": {},
   "outputs": [
    {
     "data": {
      "text/plain": [
       "array([           nan,            nan,            nan,            nan,\n",
       "                  nan,            nan,            nan,            nan,\n",
       "                  nan,            nan,            nan,            nan,\n",
       "                  nan,            nan, 0.00000000e+00, 0.00000000e+00,\n",
       "       7.10542736e-15, 7.10542736e-15, 7.10542736e-15, 2.13162821e-14,\n",
       "       1.42108547e-14, 1.42108547e-14, 2.13162821e-14, 2.84217094e-14,\n",
       "       1.42108547e-14, 1.42108547e-14, 2.84217094e-14, 1.42108547e-14,\n",
       "       2.13162821e-14, 2.13162821e-14, 2.13162821e-14, 2.13162821e-14,\n",
       "       2.13162821e-14, 7.10542736e-15, 1.42108547e-14, 1.42108547e-14,\n",
       "       7.10542736e-15, 7.10542736e-15, 1.42108547e-14, 7.10542736e-15,\n",
       "       0.00000000e+00, 7.10542736e-15, 2.13162821e-14, 1.42108547e-14,\n",
       "       7.10542736e-15, 1.42108547e-14, 1.42108547e-14, 1.42108547e-14,\n",
       "       2.84217094e-14, 1.42108547e-14, 1.42108547e-14, 0.00000000e+00,\n",
       "       1.42108547e-14, 1.42108547e-14, 0.00000000e+00, 1.42108547e-14,\n",
       "       0.00000000e+00, 1.42108547e-14, 0.00000000e+00, 1.42108547e-14,\n",
       "       1.42108547e-14, 1.42108547e-14, 0.00000000e+00, 0.00000000e+00,\n",
       "       1.42108547e-14, 0.00000000e+00, 0.00000000e+00, 0.00000000e+00,\n",
       "       1.42108547e-14, 0.00000000e+00, 0.00000000e+00, 1.42108547e-14,\n",
       "       2.13162821e-14, 0.00000000e+00, 1.42108547e-14, 1.42108547e-14,\n",
       "       2.84217094e-14, 2.84217094e-14, 2.84217094e-14, 2.84217094e-14,\n",
       "       1.42108547e-14, 2.13162821e-14, 1.06581410e-14, 2.48689958e-14,\n",
       "       1.77635684e-14, 1.42108547e-14, 2.84217094e-14, 1.42108547e-14,\n",
       "       1.42108547e-14, 2.13162821e-14, 2.13162821e-14, 1.42108547e-14,\n",
       "       1.42108547e-14, 2.13162821e-14, 2.13162821e-14, 1.42108547e-14,\n",
       "       2.84217094e-14, 2.84217094e-14, 2.13162821e-14, 1.42108547e-14])"
      ]
     },
     "execution_count": 32,
     "metadata": {},
     "output_type": "execute_result"
    }
   ],
   "source": [
    "MFI(high, low, close, vol) - talib.MFI(high, low, close, vol)"
   ]
  },
  {
   "cell_type": "code",
   "execution_count": 27,
   "metadata": {},
   "outputs": [
    {
     "data": {
      "text/plain": [
       "array([0, 1, 2, 3, 4])"
      ]
     },
     "execution_count": 27,
     "metadata": {},
     "output_type": "execute_result"
    }
   ],
   "source": [
    "a = np.arange(5)\n",
    "a"
   ]
  },
  {
   "cell_type": "code",
   "execution_count": 28,
   "metadata": {},
   "outputs": [
    {
     "data": {
      "text/plain": [
       "array([0, 1, 2])"
      ]
     },
     "execution_count": 28,
     "metadata": {},
     "output_type": "execute_result"
    }
   ],
   "source": [
    "a[0:3]"
   ]
  }
 ],
 "metadata": {
  "kernelspec": {
   "display_name": "Python 3",
   "language": "python",
   "name": "python3"
  },
  "language_info": {
   "codemirror_mode": {
    "name": "ipython",
    "version": 3
   },
   "file_extension": ".py",
   "mimetype": "text/x-python",
   "name": "python",
   "nbconvert_exporter": "python",
   "pygments_lexer": "ipython3",
   "version": "3.7.4"
  }
 },
 "nbformat": 4,
 "nbformat_minor": 4
}
