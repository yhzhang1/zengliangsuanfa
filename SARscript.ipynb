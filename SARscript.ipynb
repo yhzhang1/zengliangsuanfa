{
 "cells": [
  {
   "cell_type": "markdown",
   "metadata": {},
   "source": [
    "https://blog.csdn.net/xmuecor/article/details/78383352"
   ]
  },
  {
   "cell_type": "code",
   "execution_count": 8,
   "metadata": {},
   "outputs": [],
   "source": [
    "import talib\n",
    "import numpy as np\n",
    "import matplotlib.pyplot as plt\n",
    "%matplotlib inline\n",
    "import pdb\n",
    "\n",
    "high = np.random.random(100)*100\n",
    "low = np.random.random(100)*100\n",
    "\n",
    "#high = np.arange(100).astype(float)\n",
    "#low = np.arange(100).astype(float) - 1\n"
   ]
  },
  {
   "cell_type": "code",
   "execution_count": 41,
   "metadata": {},
   "outputs": [],
   "source": [
    "\n",
    "def dm_one_period(high, prehigh, low, prelow):\n",
    "    deltahigh = high - prehigh\n",
    "    deltalow = prelow - low\n",
    "    \n",
    "    if (deltahigh < 0 and deltalow < 0) or deltahigh == deltalow:\n",
    "        plusdm = 0\n",
    "        minusdm = 0\n",
    "    elif deltahigh > deltalow:\n",
    "        plusdm = deltahigh\n",
    "        minusdm = 0\n",
    "    elif deltahigh < deltalow:\n",
    "        plusdm = 0\n",
    "        minusdm = deltalow\n",
    "    else:\n",
    "        raise ExceptionError\n",
    "        \n",
    "    return plusdm, minusdm\n",
    "\n",
    "def SAR_inc(xp, af, preSAR):\n",
    "    sar = af*(xp - preSAR) + preSAR\n",
    "    \n",
    "    return sar\n",
    "\n",
    "def SAR(high, low, acceleration=0, maximum=0):\n",
    "    sar = np.full_like(high, fill_value=np.nan)\n",
    "    direction = [''] * len(high)\n",
    "    xp = None\n",
    "    af = acceleration\n",
    "    \n",
    "    for i in range(len(high)):\n",
    "        if i == 0:\n",
    "            pass\n",
    "        elif i == 1:\n",
    "            dm_plus, dm_minus = dm_one_period(high[i], high[i-1], low[i], low[i-1])\n",
    "            direction[i] = 'long' if dm_plus >= dm_minus else 'short'\n",
    "            \n",
    "            if direction[i] == 'long':\n",
    "                sar[i] = low[i-1]\n",
    "                xp = high[i-1]\n",
    "            elif direction[i] == 'short':\n",
    "                sar[i] = high[i-1]\n",
    "                xp = low[i-1]\n",
    "            else:\n",
    "                raise ExceptionError\n",
    "        else:\n",
    "            # 判断当前方向\n",
    "            if direction[i-1] == 'long':\n",
    "                # 反转\n",
    "                if low[i] <= sar[i-1]:\n",
    "                    # 跌势第一步\n",
    "                    direction[i] = 'short'\n",
    "                    sar[i] = xp\n",
    "                    if sar[i] < high[i-1]:\n",
    "                        sar[i] = high[i-1]\n",
    "                    if sar[i] < high[i]:\n",
    "                        sar[i] = high[i]\n",
    "                    \n",
    "                    af = acceleration\n",
    "                    xp = low[i]\n",
    "                    sar[i] = sar[i] + af*(xp - sar[i])\n",
    "                    if sar[i] < high[i-1]:\n",
    "                        sar[i] = high[i-1]\n",
    "                    if sar[i] < high[i]:\n",
    "                        sar[i] = high[i]\n",
    "                else:\n",
    "                    # 涨势第二步\n",
    "                    direction[i] = 'long'\n",
    "                    if high[i] > xp:\n",
    "                        xp = high[i]\n",
    "                        af += acceleration\n",
    "                        if af > maximum:\n",
    "                            af = maximum\n",
    "                    sar[i] = sar[i-1] + (xp - sar[i-1])*af\n",
    "                    if sar[i] > low[i-1]:\n",
    "                        sar[i] = low[i-1]\n",
    "                    if sar[i] > low[i]:\n",
    "                        sar[i] = low[i]\n",
    "            elif direction[i-1] == 'short':\n",
    "                # 反转\n",
    "                if high[i] >= sar[i-1]:\n",
    "                    # 涨势第一步\n",
    "                    direction[i] = 'long'\n",
    "                    sar[i] = xp\n",
    "                    if sar[i] > low[i-1]:\n",
    "                        sar[i] = low[i-1]\n",
    "                    if sar[i] > low[i]:\n",
    "                        sar[i] = low[i]\n",
    "                        \n",
    "                    af = acceleration\n",
    "                    xp = high[i]\n",
    "                    sar[i] = sar[i] + af*(xp - sar[i])\n",
    "                    if sar[i] > low[i-1]:\n",
    "                        sar[i] = low[i-1]\n",
    "                    if sar[i] > low[i]:\n",
    "                        sar[i] = low[i]\n",
    "                else:\n",
    "                    # 跌势第二步\n",
    "                    direction[i] = 'short'\n",
    "                    if low[i] < xp:\n",
    "                        xp = low[i]\n",
    "                        af += acceleration\n",
    "                        if af > maximum:\n",
    "                            af = maximum\n",
    "                    sar[i] = sar[i-1] + (xp - sar[i-1])*af\n",
    "                    if sar[i] < high[i-1]:\n",
    "                        sar[i] = high[i-1]\n",
    "                    if sar[i] < high[i]:\n",
    "                        sar[i] = high[i]\n",
    "\n",
    "                        \n",
    "            else:\n",
    "                raise ValueError\n",
    "            \n",
    "\n",
    "\n",
    "            #sar[i] = SAR_inc(xp, af, sar[i-1])\n",
    "    print(direction)        \n",
    "    \n",
    "    return sar    \n",
    "            "
   ]
  },
  {
   "cell_type": "code",
   "execution_count": 9,
   "metadata": {},
   "outputs": [
    {
     "data": {
      "text/plain": [
       "array([27.21613057, 11.05455109, 29.47989371, 67.33815094, 25.51750044,\n",
       "       53.05875056, 91.86038902, 67.6714435 , 95.86792357, 15.00681479,\n",
       "       45.3017918 , 43.0969136 , 83.02015322, 45.25862699, 91.83258067,\n",
       "        1.67618352, 98.29388976, 98.26942135, 43.5923002 , 35.36220755,\n",
       "       36.46352543,  5.57920418, 82.63839682, 97.23019266, 31.10810285,\n",
       "       73.41131204, 67.58549767, 10.94676165, 37.4380095 , 77.2540889 ,\n",
       "       52.17297569, 35.87872867, 36.84370406, 91.61161607, 18.81368632,\n",
       "       83.64881763, 70.7975417 , 29.12372871,  0.66604967, 15.90576013,\n",
       "        2.97956941, 76.31341632,  8.15300412, 92.11866932, 32.79505683,\n",
       "        6.0971182 , 48.95984857, 36.78110879, 51.49392779, 21.31552518,\n",
       "       55.40714538, 66.49548698, 57.17572671, 79.26543038, 26.27574936,\n",
       "       77.02120141, 10.16097318, 92.74416668, 89.9958961 , 16.0106075 ,\n",
       "       49.65950406,  9.18107906, 46.37314192, 76.34477507, 74.20522238,\n",
       "       96.64315667, 10.26340073, 56.46477758, 93.8307297 , 64.18875522,\n",
       "       27.65298426, 60.88804238, 14.92714928, 48.61361111, 14.68338477,\n",
       "       36.20879674, 47.68626941, 85.22132048, 96.67310338, 88.08050222,\n",
       "       82.63514242, 47.48399703, 53.90285198, 73.95539045,  8.96494526,\n",
       "       25.6087862 , 51.431791  , 60.07230202, 47.45749428, 18.03234284,\n",
       "       96.6812781 , 32.73157268, 49.11339737, 59.15622612, 29.95294287,\n",
       "       16.8092993 , 41.78533378, 27.88379574, 96.03004899, 95.15048157])"
      ]
     },
     "execution_count": 9,
     "metadata": {},
     "output_type": "execute_result"
    }
   ],
   "source": [
    "high"
   ]
  },
  {
   "cell_type": "code",
   "execution_count": 43,
   "metadata": {},
   "outputs": [
    {
     "data": {
      "text/plain": [
       "array([ 4.99178006, 52.24132309, 40.36336318, 30.90618508, 38.02937622,\n",
       "       54.83330729, 61.48398157,  3.55750497, 83.06198309, 20.02272284,\n",
       "       16.70049432, 15.85972653, 65.93366005, 79.01748272, 19.6247644 ,\n",
       "       97.5414912 , 83.29667347, 30.5005054 , 89.65493488, 31.25754062,\n",
       "       65.49038981, 35.09666783, 45.42740616, 13.63645821, 42.86526495,\n",
       "       70.37841428, 71.374283  , 93.9363843 ,  4.32835522, 56.49403354,\n",
       "       21.0150225 , 35.74502259, 91.26673421, 21.98698942,  1.3081256 ,\n",
       "       86.42059625,  4.6959933 , 66.42448581, 72.92679752, 13.7368291 ,\n",
       "       99.66236368, 15.99623433, 61.72463917, 96.01570912, 96.41425082,\n",
       "       56.1589587 , 62.38254541, 87.56317115, 74.82875988, 98.06490349,\n",
       "       65.88031873, 69.13373126, 11.54129936, 21.15284766,  2.59982408,\n",
       "       70.87005926, 66.08334224, 12.57130995, 81.5480436 ,  5.33176609,\n",
       "       92.56558028, 97.50537872, 58.62459054, 24.47766881, 93.26158233,\n",
       "       90.77917037, 19.7824653 , 16.86368853, 13.77389084, 46.25823923,\n",
       "       44.72414477, 96.64185107, 27.03699709, 33.05901231,  7.43486285,\n",
       "       13.13082808, 17.45946862, 74.05959493, 19.395561  , 68.37353143,\n",
       "       93.01041339, 76.48647773,  9.57866648, 34.0497103 , 19.65087995,\n",
       "       79.15158878, 27.55548558,  0.38203115, 48.18574466, 72.12920649,\n",
       "       68.46684451, 72.9290217 , 81.38057404, 86.04856113, 79.0355839 ,\n",
       "       99.11530995, 89.02460299, 38.35972893, 90.00101023, 28.97771267])"
      ]
     },
     "execution_count": 43,
     "metadata": {},
     "output_type": "execute_result"
    }
   ],
   "source": [
    "low"
   ]
  },
  {
   "cell_type": "code",
   "execution_count": 42,
   "metadata": {},
   "outputs": [
    {
     "name": "stdout",
     "output_type": "stream",
     "text": [
      "['', 'long', 'long', 'long', 'long', 'long', 'long', 'short', 'long', 'long', 'long', 'long', 'long', 'long', 'long', 'long', 'long', 'long', 'long', 'long', 'long', 'long', 'long', 'short', 'short', 'short', 'short', 'short', 'short', 'short', 'short', 'short', 'short', 'long', 'short', 'short', 'short', 'short', 'short', 'short', 'short', 'short', 'short', 'long', 'long', 'long', 'long', 'long', 'long', 'long', 'long', 'long', 'short', 'short', 'short', 'short', 'short', 'long', 'long', 'short', 'short', 'short', 'short', 'short', 'short', 'long', 'long', 'long', 'long', 'long', 'long', 'long', 'long', 'long', 'short', 'short', 'short', 'short', 'long', 'long', 'long', 'long', 'short', 'short', 'short', 'short', 'short', 'short', 'short', 'short', 'long', 'long', 'long', 'long', 'long', 'long', 'long', 'long', 'long', 'long']\n"
     ]
    },
    {
     "data": {
      "text/plain": [
       "array([        nan,  0.        ,  0.85826913,  3.56560558,  3.35166924,\n",
       "        3.15056909,  5.9427204 ,  0.        ,  0.        ,  1.84620837,\n",
       "        1.8092842 ,  1.77309852,  1.73763655,  1.70288382,  1.66882614,\n",
       "        1.63544962,  3.3025199 ,  3.17041911,  3.04360234,  2.92185825,\n",
       "        2.80498392,  2.69278456,  1.42960755, -1.0636971 ,  0.        ,\n",
       "       -1.67187469, -1.6384372 , -1.60566845, -3.51943428, -3.37865691,\n",
       "       -3.24351064, -3.11377021, -2.9892194 ,  1.74566522,  0.        ,\n",
       "       -1.80606981, -1.76994841, -1.73454944, -1.69985846, -1.66586129,\n",
       "       -1.63254406, -1.59989318, -1.56789532,  1.81621087,  1.77988666,\n",
       "        1.74428892,  1.70940315,  1.67521508,  1.64171078,  1.60887657,\n",
       "        1.57669903,  1.54516505, -1.6115474 , -1.57931645, -3.45311926,\n",
       "       -3.31499449, -3.18239471,  1.80288685,  1.76682912, -1.74824801,\n",
       "       -1.71328305, -1.67901739, -1.64543704, -1.6125283 , -1.58027774,\n",
       "        1.82622781,  1.78970326,  1.75390919,  1.71883101,  1.35345349,\n",
       "        1.65738532,  1.62423761,  1.59175286,  1.5599178 , -1.78416588,\n",
       "       -1.74848256, -1.71351291, -1.67924265,  1.78476481,  1.74906951,\n",
       "        1.71408812,  1.67980636, -1.74188874, -1.70705096, -1.67290994,\n",
       "       -1.63945175, -1.60666271, -3.51692433, -3.37624735, -3.24119746,\n",
       "        1.92598494,  1.88746524,  1.84971594,  1.81272162,  1.77646718,\n",
       "        1.74093784,  1.70611908,  1.6719967 ,  1.63855677,  1.60578563])"
      ]
     },
     "execution_count": 42,
     "metadata": {},
     "output_type": "execute_result"
    }
   ],
   "source": [
    "SAR(high, low, acceleration=0.02, maximum=0.2) - talib.SAR(high, low, acceleration=0.02, maximum=0.2)"
   ]
  },
  {
   "cell_type": "code",
   "execution_count": 44,
   "metadata": {},
   "outputs": [
    {
     "name": "stdout",
     "output_type": "stream",
     "text": [
      "['', 'long', 'long', 'long', 'long', 'long', 'long', 'short', 'long', 'long', 'long', 'long', 'long', 'long', 'long', 'long', 'long', 'long', 'long', 'long', 'long', 'long', 'long', 'short', 'short', 'short', 'short', 'short', 'short', 'short', 'short', 'short', 'short', 'long', 'short', 'short', 'short', 'short', 'short', 'short', 'short', 'short', 'short', 'long', 'long', 'long', 'long', 'long', 'long', 'long', 'long', 'long', 'short', 'short', 'short', 'short', 'short', 'long', 'long', 'short', 'short', 'short', 'short', 'short', 'short', 'long', 'long', 'long', 'long', 'long', 'long', 'long', 'long', 'long', 'short', 'short', 'short', 'short', 'long', 'long', 'long', 'long', 'short', 'short', 'short', 'short', 'short', 'short', 'short', 'short', 'long', 'long', 'long', 'long', 'long', 'long', 'long', 'long', 'long', 'long']\n"
     ]
    },
    {
     "data": {
      "text/plain": [
       "array([        nan,  4.99178006,  5.97130461,  9.65331539, 13.11440552,\n",
       "       16.36783025, 22.40723495, 91.86038902,  3.55750497,  5.40371335,\n",
       "        7.21299755,  8.98609607, 10.72373262, 12.42661644, 14.09544258,\n",
       "       15.7308922 , 19.0334121 , 22.20383121, 25.24743355, 28.1692918 ,\n",
       "       30.97427572, 33.66706028, 35.09666783, 97.23019266, 97.23019266,\n",
       "       95.55831797, 93.91988077, 92.31421232, 88.79477804, 85.41612112,\n",
       "       82.17261049, 79.05884028, 76.06962087,  6.07402043, 91.61161607,\n",
       "       89.80554626, 88.03559785, 86.3010484 , 84.60118994, 82.93532866,\n",
       "       81.3027846 , 79.70289142, 78.1349961 ,  3.12433648,  4.90422314,\n",
       "        6.64851206,  8.35791521, 10.03313029, 11.67484107, 13.28371763,\n",
       "       14.86041667, 16.40558172, 90.50712192, 88.92780547, 85.47468622,\n",
       "       82.15969173, 78.97729702,  4.40271093,  6.16954005, 90.99591867,\n",
       "       89.28263562, 87.60361823, 85.95818119, 84.34565289, 82.76537515,\n",
       "        7.15799391,  8.94769716, 10.70160635, 12.42043736, 13.77389084,\n",
       "       15.43127616, 17.05551377, 18.64726663, 20.20718443, 94.8589908 ,\n",
       "       93.11050824, 91.39699533, 89.71775268,  9.21962766, 10.96869717,\n",
       "       12.6827853 , 14.36259166, 94.93121465, 93.22416368, 91.55125374,\n",
       "       89.91180199, 88.30513928, 84.78821496, 81.41196761, 78.17077015,\n",
       "        2.30801609,  4.19548133,  6.04519726,  7.85791888,  9.63438607,\n",
       "       11.37532391, 13.08144299, 14.75343969, 16.39199646, 17.99778209])"
      ]
     },
     "execution_count": 44,
     "metadata": {},
     "output_type": "execute_result"
    }
   ],
   "source": [
    "SAR(high, low, acceleration=0.02, maximum=0.2)"
   ]
  },
  {
   "cell_type": "code",
   "execution_count": 45,
   "metadata": {},
   "outputs": [
    {
     "data": {
      "text/plain": [
       "array([        nan,  4.99178006,  5.11303548,  6.08770981,  9.76273628,\n",
       "       13.21726116, 16.46451455, 91.86038902,  3.55750497,  3.55750497,\n",
       "        5.40371335,  7.21299755,  8.98609607, 10.72373262, 12.42661644,\n",
       "       14.09544258, 15.7308922 , 19.0334121 , 22.20383121, 25.24743355,\n",
       "       28.1692918 , 30.97427572, 33.66706028, 98.29388976, 97.23019266,\n",
       "       97.23019266, 95.55831797, 93.91988077, 92.31421232, 88.79477804,\n",
       "       85.41612112, 82.17261049, 79.05884028,  4.32835522, 91.61161607,\n",
       "       91.61161607, 89.80554626, 88.03559785, 86.3010484 , 84.60118994,\n",
       "       82.93532866, 81.3027846 , 79.70289142,  1.3081256 ,  3.12433648,\n",
       "        4.90422314,  6.64851206,  8.35791521, 10.03313029, 11.67484107,\n",
       "       13.28371763, 14.86041667, 92.11866932, 90.50712192, 88.92780547,\n",
       "       85.47468622, 82.15969173,  2.59982408,  4.40271093, 92.74416668,\n",
       "       90.99591867, 89.28263562, 87.60361823, 85.95818119, 84.34565289,\n",
       "        5.33176609,  7.15799391,  8.94769716, 10.70160635, 12.42043736,\n",
       "       13.77389084, 15.43127616, 17.05551377, 18.64726663, 96.64315667,\n",
       "       94.8589908 , 93.11050824, 91.39699533,  7.43486285,  9.21962766,\n",
       "       10.96869717, 12.6827853 , 96.67310338, 94.93121465, 93.22416368,\n",
       "       91.55125374, 89.91180199, 88.30513928, 84.78821496, 81.41196761,\n",
       "        0.38203115,  2.30801609,  4.19548133,  6.04519726,  7.85791888,\n",
       "        9.63438607, 11.37532391, 13.08144299, 14.75343969, 16.39199646])"
      ]
     },
     "execution_count": 45,
     "metadata": {},
     "output_type": "execute_result"
    }
   ],
   "source": [
    "talib.SAR(high, low, acceleration=0.02, maximum=0.2)"
   ]
  },
  {
   "cell_type": "code",
   "execution_count": 57,
   "metadata": {},
   "outputs": [],
   "source": [
    " l = [''] * 20"
   ]
  },
  {
   "cell_type": "code",
   "execution_count": 68,
   "metadata": {},
   "outputs": [
    {
     "ename": "TypeError",
     "evalue": "unsupported operand type(s) for *: 'NoneType' and 'int'",
     "output_type": "error",
     "traceback": [
      "\u001b[0;31m---------------------------------------------------------------------------\u001b[0m",
      "\u001b[0;31mTypeError\u001b[0m                                 Traceback (most recent call last)",
      "\u001b[0;32m<ipython-input-68-60f90da77edb>\u001b[0m in \u001b[0;36m<module>\u001b[0;34m()\u001b[0m\n\u001b[0;32m----> 1\u001b[0;31m \u001b[0;32mNone\u001b[0m \u001b[0;34m*\u001b[0m \u001b[0;36m2\u001b[0m\u001b[0;34m\u001b[0m\u001b[0;34m\u001b[0m\u001b[0m\n\u001b[0m",
      "\u001b[0;31mTypeError\u001b[0m: unsupported operand type(s) for *: 'NoneType' and 'int'"
     ]
    }
   ],
   "source": [
    "None * 2"
   ]
  },
  {
   "cell_type": "code",
   "execution_count": null,
   "metadata": {},
   "outputs": [],
   "source": []
  },
  {
   "cell_type": "code",
   "execution_count": 2,
   "metadata": {},
   "outputs": [
    {
     "data": {
      "text/plain": [
       "'false'"
      ]
     },
     "execution_count": 2,
     "metadata": {},
     "output_type": "execute_result"
    }
   ],
   "source": [
    "'true' if False else 'false'"
   ]
  }
 ],
 "metadata": {
  "kernelspec": {
   "display_name": "Python 3",
   "language": "python",
   "name": "python3"
  },
  "language_info": {
   "codemirror_mode": {
    "name": "ipython",
    "version": 3
   },
   "file_extension": ".py",
   "mimetype": "text/x-python",
   "name": "python",
   "nbconvert_exporter": "python",
   "pygments_lexer": "ipython3",
   "version": "3.7.4"
  }
 },
 "nbformat": 4,
 "nbformat_minor": 4
}
