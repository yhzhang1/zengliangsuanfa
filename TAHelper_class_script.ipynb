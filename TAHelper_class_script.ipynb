{
 "cells": [
  {
   "cell_type": "code",
   "execution_count": 5,
   "metadata": {},
   "outputs": [],
   "source": [
    "class TAHelper:\n",
    "    def __init__(self):\n",
    "        self.i=-1\n",
    "        self.length = 10000\n",
    "        self.high = np.full(self.length, fill_value=np.nan)\n",
    "        self.low = np.full(self.length, fill_value=np.nan)\n",
    "        self.close = np.full(self.length, fill_value=np.nan)\n",
    "        self.vol = np.full(self.length, fill_value=np.nan)\n",
    "        \n",
    "        # 计算DX需要的变量\n",
    "        self.dx_n = 14\n",
    "        self.deltahigh = np.full(self.length, fill_value=np.nan)\n",
    "        self.deltalow = np.full(self.length, fill_value=np.nan)\n",
    "        self.plusdm = np.full(self.length, fill_value=np.nan)\n",
    "        self.minusdm = np.full(self.length, fill_value=np.nan)\n",
    "        self.admplus = np.full(self.length, fill_value=np.nan)\n",
    "        self.admminus = np.full(self.length, fill_value=np.nan)\n",
    "        self.tr = np.full(self.length, fill_value=np.nan)\n",
    "        self.dx_atr = np.full(self.length, fill_value=np.nan)\n",
    "        self.plusdi = np.full(self.length, fill_value=np.nan)\n",
    "        self.minusdi = np.full(self.length, fill_value=np.nan)\n",
    "        self.dx = np.full(self.length, fill_value=np.nan)\n",
    "        # 计算ADX需要的变量\n",
    "        self.adx = np.full(self.length, fill_value=np.nan)\n",
    "        \n",
    "        # 计算MFI需要的变量\n",
    "        self.mfi_n = 14\n",
    "        self.typical_price = np.full(self.length, fill_value=np.nan)\n",
    "        self.money_flow = np.full(self.length, fill_value=np.nan)\n",
    "        self.positive_money_flow = np.full(self.length, fill_value=np.nan)\n",
    "        self.negative_money_flow = np.full(self.length, fill_value=np.nan)\n",
    "        self.money_ratio = np.full(self.length, fill_value=np.nan)\n",
    "        self.mfi = np.full(self.length, fill_value=np.nan)\n",
    "        \n",
    "        # 计算APO需要的变量\n",
    "        self.apo_fast_n = 12\n",
    "        self.apo_slow_n = 26\n",
    "        self.apo_fastma = np.full(self.length, fill_value=np.nan)\n",
    "        self.apo_slowma = np.full(self.length, fill_value=np.nan)\n",
    "        self.apo = np.full(self.length, fill_value=np.nan)\n",
    "        \n",
    "        # 计算MACD需要的变量\n",
    "        self.macd_fast_n = 12\n",
    "        self.macd_slow_n = 26\n",
    "        self.macd_signal_n = 9\n",
    "        self.macd_fastema = np.full(self.length, fill_value=np.nan)\n",
    "        self.macd_slowema = np.full(self.length, fill_value=np.nan)\n",
    "        self.macd = np.full(self.length, fill_value=np.nan)\n",
    "        self.macdsignal = np.full(self.length, fill_value=np.nan)\n",
    "        self.macdhist = np.full(self.length, fill_value=np.nan)\n",
    "        \n",
    "        # 计算NATR需要的变量\n",
    "        self.natr_n = 14\n",
    "        self.natr_atr = np.full(self.length, fill_value=np.nan)\n",
    "        self.natr = np.full(self.length, fill_value=np.nan)\n",
    "        \n",
    "        # 计算PLUS_DM需要的变量\n",
    "        self.plus_dm_n = 14\n",
    "        self.plus_dm = np.full(self.length, fill_value=np.nan)\n",
    "        self.init_plusdm = 0\n",
    "        \n",
    "        # 计算RSI需要的变量\n",
    "        self.rsi_n = 14\n",
    "        self.upavg = np.full(self.length, fill_value=np.nan)\n",
    "        self.dnavg = np.full(self.length, fill_value=np.nan)\n",
    "        self.rsi = np.full(self.length, fill_value=np.nan)\n",
    "        \n",
    "        # 计算TEMA需要的变量\n",
    "        self.tema_n = 30\n",
    "        self.tema_ema1 = np.full(self.length, fill_value=np.nan)\n",
    "        self.tema_ema2 = np.full(self.length, fill_value=np.nan)\n",
    "        self.tema_ema3 = np.full(self.length, fill_value=np.nan)\n",
    "        self.tema = np.full(self.length, fill_value=np.nan)\n",
    "        \n",
    "        # 计算自定义指标1需要的变量\n",
    "        self.customized_indicator_n = 30\n",
    "        self.customized_indicator = np.full(self.length, fill_value=np.nan)\n",
    "        self.customized_indicator_max_part = np.full(self.length, fill_value=np.nan)\n",
    "        self.customized_indicator_abs_part = np.full(self.length, fill_value=np.nan)\n",
    "        self.customized_indicator_sma_max_part = np.full(self.length, fill_value=np.nan)\n",
    "        self.customized_indicator_sma_abs_part = np.full(self.length, fill_value=np.nan)\n",
    "        \n",
    "        # 计算CCI需要的变量\n",
    "        self.cci_n = 14\n",
    "        self.avg_typical_price = np.full(self.length, fill_value=np.nan)\n",
    "        self.mean_deviation = np.full(self.length, fill_value=np.nan)\n",
    "        self.cci = np.full(self.length, fill_value=np.nan)\n",
    "        \n",
    "        # 计算KDJ需要的变量\n",
    "        self.kdj_n = 14\n",
    "        self.k_n = 9\n",
    "        self.d_n = 9\n",
    "        self.highest_high = np.full(self.length, fill_value=np.nan)\n",
    "        self.lowest_low = np.full(self.length, fill_value=np.nan)\n",
    "        self.rsv = np.full(self.length, fill_value=np.nan)\n",
    "        self.k = np.full(self.length, fill_value=np.nan)\n",
    "        self.d = np.full(self.length, fill_value=np.nan)\n",
    "        self.j = np.full(self.length, fill_value=np.nan)\n",
    "    \n",
    "    def TrueRange(self, high, low, preClose):\n",
    "        return max([high-low, abs(high-preClose), abs(preClose-low)])\n",
    "    \n",
    "    def DX_inc(self, plusDI, minusDI):\n",
    "        return 100 * abs(plusDI - minusDI) / (plusDI + minusDI)\n",
    "    \n",
    "    def MFI_inc(self, MoneyRatio):\n",
    "        return 100 - (100/(1+MoneyRatio))\n",
    "    \n",
    "    def APO_inc(self, fastMA, slowMA):    \n",
    "        return fastMA - slowMA\n",
    "    \n",
    "    def MACD_inc(self, fastema, slowema, preSignal, signal_n):\n",
    "        macd = fastema - slowema\n",
    "        signal = ((signal_n-1)/(signal_n+1))*preSignal + (2/(signal_n+1))*macd\n",
    "        hist = macd - signal\n",
    "        return macd, signal, hist\n",
    "    \n",
    "    def NATR_inc(self, close, atr):\n",
    "        natr = 100*atr/close\n",
    "        return natr\n",
    "    \n",
    "    def dm_one_period(self, high, prehigh, low, prelow):\n",
    "        deltahigh = high - prehigh\n",
    "        deltalow = prelow - low\n",
    "\n",
    "        if (deltahigh < 0 and deltalow < 0) or deltahigh == deltalow:\n",
    "            plusdm = 0\n",
    "            minusdm = 0\n",
    "        elif deltahigh > deltalow:\n",
    "            plusdm = deltahigh\n",
    "            minusdm = 0\n",
    "        elif deltahigh < deltalow:\n",
    "            plusdm = 0\n",
    "            minusdm = deltalow\n",
    "        else:\n",
    "            raise ExceptionError\n",
    "\n",
    "        return plusdm, minusdm\n",
    "    \n",
    "    def PLUS_DM_inc(self, high, prehigh, low, prelow, pre_plus_dm_n, n):\n",
    "        plusdm, _ = self.dm_one_period(high, prehigh, low, prelow)\n",
    "        plus_dm_n = pre_plus_dm_n - pre_plus_dm_n/n + plusdm\n",
    "\n",
    "        return plus_dm_n\n",
    "    \n",
    "    def RSI_inc(self, close, preClose, preUpavg, preDnavg, n=14):\n",
    "        if close > preClose:\n",
    "            up = close - preClose\n",
    "            dn = 0\n",
    "        else:\n",
    "            up = 0\n",
    "            dn = preClose - close\n",
    "\n",
    "        upavg = (preUpavg*(n-1) + up) / n\n",
    "        dnavg = (preDnavg*(n-1) + dn) / n\n",
    "        rsi = 100 * upavg/(upavg + dnavg)\n",
    "\n",
    "        return rsi\n",
    "    \n",
    "    def TEMA_inc(self, ema1, ema2, ema3):\n",
    "        return 3*ema1 - 3*ema2 + ema3\n",
    "\n",
    "    def customized_indicator_inc(self, sma_max_part, sma_abs_part):\n",
    "        return sma_max_part/sma_abs_part*100\n",
    "    \n",
    "    def CCI_inc(self, typical_price, avg_typical_price, avg_deviation):\n",
    "        return (typical_price - avg_typical_price)/(0.015*avg_deviation)\n",
    "    \n",
    "    def dx_depends_update(self):\n",
    "        # DX 依赖变量更新\n",
    "        # 更新 typicalprice, moneyflow\n",
    "        self.typical_price[self.i] = (self.high[self.i] + self.low[self.i] + self.close[self.i]) / 3\n",
    "        self.money_flow[self.i] = self.typical_price[self.i] * self.vol[self.i]\n",
    "        \n",
    "        if self.i == 0:\n",
    "            pass\n",
    "        else:\n",
    "            self.deltahigh[self.i] = self.high[self.i] - self.high[self.i-1]\n",
    "            self.deltalow[self.i] = self.low[self.i-1] - self.low[self.i]\n",
    "            self.tr[self.i] = self.TrueRange(self.high[self.i], self.low[self.i], self.close[self.i-1])\n",
    "            # 更新 plusdm minusdm\n",
    "            if (self.deltahigh[self.i] < 0 and self.deltalow[self.i] < 0) or \\\n",
    "            (self.deltahigh[self.i] == self.deltalow[self.i]):\n",
    "                self.plusdm[self.i] = 0\n",
    "                self.minusdm[self.i] = 0\n",
    "            elif self.deltahigh[self.i] > self.deltalow[self.i]:\n",
    "                self.plusdm[self.i] = self.deltahigh[self.i]\n",
    "                self.minusdm[self.i] = 0\n",
    "            elif self.deltahigh[self.i] < self.deltalow[self.i]:\n",
    "                self.plusdm[self.i] = 0\n",
    "                self.minusdm[self.i] = self.deltalow[self.i]\n",
    "                \n",
    "            if self.i == 1:\n",
    "                # 更新第一个 adm\n",
    "                \n",
    "                self.admplus[self.i] = self.plusdm[self.i]\n",
    "                self.admminus[self.i] = self.minusdm[self.i]\n",
    "                \n",
    "                # 更新第一个 atr\n",
    "                self.dx_atr[self.i] = self.tr[self.i]  \n",
    "            else:\n",
    "                # 更新第二个及以后的 adm\n",
    "                \n",
    "                self.admplus[self.i] = (self.plusdm[self.i] + (self.dx_n-1)*self.admplus[self.i-1]) / self.dx_n\n",
    "                self.admminus[self.i] = (self.minusdm[self.i] + (self.dx_n-1)*self.admminus[self.i-1]) / self.dx_n\n",
    "\n",
    "                # 更新第二个及以后的 atr\n",
    "                self.dx_atr[self.i] = (self.tr[self.i] + (self.dx_n-1)*self.dx_atr[self.i-1]) / self.dx_n\n",
    "            # 更新 di\n",
    "            self.plusdi[self.i] = 100 * self.admplus[self.i] / self.dx_atr[self.i]\n",
    "            self.minusdi[self.i] = 100 * self.admminus[self.i] / self.dx_atr[self.i]\n",
    "            # 更新 dx\n",
    "            self.dx[self.i] = self.DX_inc(self.plusdi[self.i], self.minusdi[self.i])\n",
    "            \n",
    "            # 更新 adx\n",
    "            if self.i == 1:\n",
    "                self.adx[self.i] = self.dx[self.i]\n",
    "            else:\n",
    "                self.adx[self.i] = ((self.dx_n-1) * self.adx[self.i-1] + self.dx[self.i]) / self.dx_n\n",
    "                \n",
    "    def mfi_depends_update(self):\n",
    "        # MFI 依赖变量更新\n",
    "        # 更新 typicalprice, moneyflow\n",
    "        self.typical_price[self.i] = (self.high[self.i] + self.low[self.i] + self.close[self.i]) / 3\n",
    "        self.money_flow[self.i] = self.typical_price[self.i] * self.vol[self.i]\n",
    "\n",
    "        if self.i == 0:\n",
    "            pass\n",
    "        else:\n",
    "            # 更新 positivemoneyflow, negativemoneyflow\n",
    "            if self.typical_price[self.i] > self.typical_price[self.i-1]:\n",
    "                self.positive_money_flow[self.i] = self.money_flow[self.i]\n",
    "                self.negative_money_flow[self.i] = 0\n",
    "            else:\n",
    "                self.positive_money_flow[self.i] = 0\n",
    "                self.negative_money_flow[self.i] = self.money_flow[self.i]\n",
    "\n",
    "            # 更新 moneyratio\n",
    "            if self.i >= self.mfi_n:\n",
    "                self.money_ratio[self.i] = ( self.positive_money_flow[self.i-self.mfi_n+1:self.i+1].sum() /                                                          self.negative_money_flow[self.i-self.mfi_n+1:self.i+1].sum() )\n",
    "                # 更新 moneyflowindex\n",
    "                self.mfi[self.i] = self.MFI_inc(self.money_ratio[self.i])\n",
    "           \n",
    "    def apo_depends_update(self):\n",
    "        # APO 依赖变量更新\n",
    "        # 更新fastma\n",
    "        if self.i >= self.apo_fast_n-1:\n",
    "            self.apo_fastma[self.i] = self.close[self.i-self.apo_fast_n+1:self.i+1].mean()\n",
    "        # 更新slowma\n",
    "        if self.i >= self.apo_slow_n-1:\n",
    "            self.apo_slowma[self.i] = self.close[self.i-self.apo_slow_n+1:self.i+1].mean()\n",
    "            # 更新apo\n",
    "            self.apo[self.i] = self.APO_inc(self.apo_fastma[self.i], self.apo_slowma[self.i])\n",
    "            \n",
    "    def macd_depends_update(self):\n",
    "        # MACD 依赖变量更新\n",
    "        # 更新第一个fastema slowema\n",
    "        if self.i == 0:\n",
    "            self.macd_fastema[self.i] = self.close[self.i]\n",
    "            self.macd_slowema[self.i] = self.close[self.i]\n",
    "            self.macd[self.i] = self.macd_fastema[self.i] - self.macd_slowema[self.i]\n",
    "            self.macdsignal[self.i] = self.macd[self.i]\n",
    "            self.macdhist[self.i] = self.macd[self.i] - self.macdsignal[self.i]\n",
    "        else:\n",
    "            self.macd_fastema[self.i] = self.macd_fastema[self.i-1]*((self.macd_fast_n-1)/(self.macd_fast_n+1)) + (2/(self.macd_fast_n+1))*self.close[self.i]\n",
    "            self.macd_slowema[self.i] = self.macd_slowema[self.i-1]*((self.macd_slow_n-1)/(self.macd_slow_n+1)) + (2/(self.macd_slow_n+1))*self.close[self.i]\n",
    "            self.macd[self.i], self.macdsignal[self.i], self.macdhist[self.i] = self.MACD_inc(self.macd_fastema[self.i], self.macd_slowema[self.i], self.macdsignal[self.i-1], self.macd_signal_n)                \n",
    "            \n",
    "    def natr_depends_update(self):\n",
    "        # NATR 依赖变量更新\n",
    "        if self.i == 0:\n",
    "            pass\n",
    "        else:\n",
    "            if self.i == 1:\n",
    "                # 更新第一个natr_atr\n",
    "                self.natr_atr[self.i] = self.tr[self.i] \n",
    "            elif self.i >= 2:\n",
    "                self.natr_atr[self.i] = (self.tr[self.i] + (self.natr_n-1)*self.natr_atr[self.i-1]) / self.natr_n\n",
    "                self.natr[self.i] = self.NATR_inc(self.close[self.i], self.natr_atr[self.i])\n",
    "                \n",
    "    def plus_dm_depends_update(self):\n",
    "        # PLUS_DM 依赖变量更新\n",
    "        if self.i == 0:\n",
    "            pass\n",
    "        elif self.i < self.plus_dm_n:\n",
    "            self.init_plusdm += self.dm_one_period(self.high[self.i], self.high[self.i-1], self.low[self.i], self.low[self.i])[0]\n",
    "            if self.i == self.plus_dm_n-1:\n",
    "                self.plus_dm[self.i] = self.init_plusdm\n",
    "        else:\n",
    "            self.plus_dm[self.i] = self.PLUS_DM_inc(self.high[self.i], self.high[self.i-1], self.low[self.i], self.low[self.i-1], self.plus_dm[self.i-1], self.plus_dm_n) \n",
    "            \n",
    "    def rsi_depends_update(self):\n",
    "        # RSI 依赖变量更新\n",
    "        if self.i == 0:\n",
    "            pass\n",
    "        else:\n",
    "            if self.close[self.i] > self.close[self.i-1]:\n",
    "                up = self.close[self.i] - self.close[self.i-1]\n",
    "                dn = 0\n",
    "            else:\n",
    "                up = 0\n",
    "                dn = self.close[self.i-1] - self.close[self.i]\n",
    "                \n",
    "            if self.i == 1:\n",
    "                self.upavg[self.i] = up\n",
    "                self.dnavg[self.i] = dn\n",
    "            else:\n",
    "                self.rsi[self.i] = self.RSI_inc(self.close[self.i], self.close[self.i-1], self.upavg[self.i-1], self.dnavg[self.i-1], self.rsi_n)\n",
    "                self.upavg[self.i] = ((self.rsi_n-1)*self.upavg[self.i-1] + up) / self.rsi_n\n",
    "                self.dnavg[self.i] = ((self.rsi_n-1)*self.dnavg[self.i-1] + dn) / self.rsi_n    \n",
    " \n",
    "    def tema_depends_update(self):\n",
    "        # TEMA 依赖变量更新\n",
    "        if self.i == 0:\n",
    "            # 更新第一个ema1 ema2 ema3\n",
    "            self.tema_ema1[self.i] = self.close[self.i]\n",
    "            self.tema_ema2[self.i] = self.tema_ema1[self.i]\n",
    "            self.tema_ema3[self.i] = self.tema_ema2[self.i]\n",
    "        else:\n",
    "            self.tema_ema1[self.i] = ((self.tema_n-1)/(self.tema_n+1))*self.tema_ema1[self.i-1] + (2/(self.tema_n+1))*self.close[self.i]\n",
    "            self.tema_ema2[self.i] = ((self.tema_n-1)/(self.tema_n+1))*self.tema_ema2[self.i-1] + (2/(self.tema_n+1))*self.tema_ema1[self.i]\n",
    "            self.tema_ema3[self.i] = ((self.tema_n-1)/(self.tema_n+1))*self.tema_ema3[self.i-1] + (2/(self.tema_n+1))*self.tema_ema2[self.i]\n",
    "            \n",
    "        self.tema[self.i] = self.TEMA_inc(self.tema_ema1[self.i], self.tema_ema2[self.i], self.tema_ema3[self.i])  \n",
    "          \n",
    "    def customized_indicator_depends_update(self):\n",
    "        # 自定义指标 依赖变量更新\n",
    "        if self.i == 0:\n",
    "            pass\n",
    "        else:\n",
    "            vol_inc = self.vol[self.i] - self.vol[self.i-1]\n",
    "            self.customized_indicator_max_part[self.i] = max(vol_inc, 0)\n",
    "            self.customized_indicator_abs_part[self.i] = abs(vol_inc)\n",
    "            if self.i == self.customized_indicator_n:\n",
    "                self.customized_indicator_sma_max_part[self.i] = self.customized_indicator_max_part[self.i-self.customized_indicator_n+1:self.i+1].mean()\n",
    "                self.customized_indicator_sma_abs_part[self.i] = self.customized_indicator_abs_part[self.i-self.customized_indicator_n+1:self.i+1].mean()\n",
    "                self.customized_indicator[self.i] = self.customized_indicator_inc(self.customized_indicator_sma_max_part[self.i], self.customized_indicator_sma_abs_part[self.i])\n",
    "            elif self.i > self.customized_indicator_n:\n",
    "                self.customized_indicator_sma_max_part[self.i] = self.customized_indicator_sma_max_part[self.i-1] - self.customized_indicator_max_part[self.i-self.customized_indicator_n]/self.customized_indicator_n + self.customized_indicator_max_part[self.i]/self.customized_indicator_n\n",
    "                self.customized_indicator_sma_abs_part[self.i] = self.customized_indicator_sma_abs_part[self.i-1] - self.customized_indicator_abs_part[self.i-self.customized_indicator_n]/self.customized_indicator_n + self.customized_indicator_abs_part[self.i]/self.customized_indicator_n\n",
    "                self.customized_indicator[self.i] = self.customized_indicator_inc(self.customized_indicator_sma_max_part[self.i], self.customized_indicator_sma_abs_part[self.i])\n",
    "                \n",
    "    def cci_depends_update(self):\n",
    "        # CCI 依赖变量更新\n",
    "        # typical_price 已在mfi update 更新了\n",
    "        if self.i >= self.cci_n-1:\n",
    "            if self.i == self.cci_n-1:\n",
    "                self.avg_typical_price[self.i] = self.typical_price[self.i-self.cci_n+1:self.i+1].mean()\n",
    "            elif self.i > self.cci_n-1:\n",
    "                self.avg_typical_price[self.i] = self.avg_typical_price[self.i-1] - self.typical_price[self.i-self.cci_n]/self.cci_n + self.typical_price[self.i]/self.cci_n\n",
    "            self.mean_deviation[self.i] = abs(self.typical_price[self.i-self.cci_n+1:self.i+1] - self.avg_typical_price[self.i]).mean()\n",
    "            self.cci[self.i] = self.CCI_inc(self.typical_price[self.i], self.avg_typical_price[self.i], self.mean_deviation[self.i])\n",
    "                           \n",
    "    def kdj_depends_update(self):\n",
    "        # KDJ 依赖变量更新\n",
    "        if self.i >= self.kdj_n - 1:\n",
    "            self.lowest_low[self.i] = self.low[self.i+1-self.kdj_n:self.i+1].min()\n",
    "            self.highest_high[self.i] = self.high[self.i+1-self.kdj_n:self.i+1].max()\n",
    "            self.rsv[self.i] = (self.close[self.i] - self.lowest_low[self.i])/(self.highest_high[self.i] - self.lowest_low[self.i]) * 100\n",
    "            if self.i == self.kdj_n - 1 + self.k_n - 1:\n",
    "                self.k[self.i] = self.rsv[self.i+1-self.k_n:self.i+1].mean()\n",
    "            elif self.i > self.kdj_n - 1 + self.k_n - 1:\n",
    "                self.k[self.i] = self.k[self.i-1] - self.rsv[self.i-self.k_n]/self.k_n + self.rsv[self.i]/self.k_n\n",
    "                if self.i >= self.kdj_n - 1 + self.k_n - 1 + self.d_n - 1:\n",
    "                    if self.i == self.kdj_n - 1 + self.k_n - 1 + self.d_n - 1:\n",
    "                        self.d[self.i] = self.k[self.i+1-self.d_n:self.i+1].mean()\n",
    "                    elif self.i > self.kdj_n - 1 + self.k_n - 1 + self.d_n - 1:\n",
    "                        self.d[self.i] = self.d[self.i-1] - self.k[self.i-self.d_n]/self.d_n + self.k[self.i]/self.d_n\n",
    "                    self.j[self.i] = 3*self.k[self.i] - 2*self.d[self.i]    \n",
    "    \n",
    "    def new_bar(self, high, low, close, vol):\n",
    "        self.i += 1\n",
    "        self.high[self.i] = high\n",
    "        self.low[self.i] = low\n",
    "        self.close[self.i] = close\n",
    "        self.vol[self.i] = vol\n",
    "        \n",
    "        self.dx_depends_update()\n",
    "        self.mfi_depends_update()\n",
    "        self.apo_depends_update()\n",
    "        self.macd_depends_update()\n",
    "        self.plus_dm_depends_update()    \n",
    "        self.rsi_depends_update()\n",
    "        self.tema_depends_update()\n",
    "        self.customized_indicator_depends_update()\n",
    "        self.cci_depends_update()\n",
    "        self.kdj_depends_update()\n",
    "\n",
    "        \n",
    "    def get_indicators(self):\n",
    "        return {\n",
    "            'DX': self.dx[self.i],\n",
    "            'ADX': self.adx[self.i],\n",
    "            'MFI': self.mfi[self.i],\n",
    "            'APO': self.apo[self.i],\n",
    "            'MACD': self.macd[self.i],\n",
    "            'MACDsignal': self.macdsignal[self.i],\n",
    "            'MACDhist': self.macdhist[self.i],\n",
    "            'NATR': self.natr[self.i],\n",
    "            'PLUS_DM': self.plus_dm[self.i],\n",
    "            'RSI': self.rsi[self.i],\n",
    "            'TEMA': self.tema[self.i],\n",
    "            'CUSTOMIZED_INDICATOR': self.customized_indicator[self.i],\n",
    "            'CCI': self.cci[self.i],\n",
    "            'RSV': self.rsv[self.i],\n",
    "            'KDJ_K': self.k[self.i],\n",
    "            'KDJ_D': self.d[self.i],\n",
    "            'KDJ_J': self.j[self.i]\n",
    "        }"
   ]
  },
  {
   "cell_type": "code",
   "execution_count": 6,
   "metadata": {},
   "outputs": [],
   "source": [
    "# test\n",
    "\n",
    "import numpy as np \n",
    "\n",
    "size = 100\n",
    "high = np.random.random(size)\n",
    "low = np.random.random(size)\n",
    "close = np.random.random(size)\n",
    "vol = np.random.random(size)\n"
   ]
  },
  {
   "cell_type": "code",
   "execution_count": 8,
   "metadata": {},
   "outputs": [],
   "source": [
    "ta = TAHelper()\n",
    "DX = list()\n",
    "ADX = list()\n",
    "MFI = list()\n",
    "APO = list()\n",
    "MACD = list()\n",
    "MACDsignal = list()\n",
    "MACDhist = list()\n",
    "NATR = list()\n",
    "PLUS_DM = list()\n",
    "RSI = list()\n",
    "TEMA = list()\n",
    "CUSTOMIZED_INDICATOR = list()\n",
    "CCI = list()\n",
    "RSV = list()\n",
    "KDJ_K = list()\n",
    "KDJ_D = list()\n",
    "KDJ_J = list()\n",
    "\n",
    "for i in range(len(high)):\n",
    "    ta.new_bar(high[i], low[i], close[i], vol[i])\n",
    "    indicators_dict = ta.get_indicators()\n",
    "    DX.append(indicators_dict['DX'])\n",
    "    ADX.append(indicators_dict['ADX'])\n",
    "    MFI.append(indicators_dict['MFI'])\n",
    "    APO.append(indicators_dict['APO'])\n",
    "    MACD.append(indicators_dict['MACD'])\n",
    "    MACDsignal.append(indicators_dict['MACDsignal'])\n",
    "    MACDhist.append(indicators_dict['MACDhist'])\n",
    "    NATR.append(indicators_dict['NATR'])\n",
    "    PLUS_DM.append(indicators_dict['PLUS_DM'])\n",
    "    RSI.append(indicators_dict['RSI'])\n",
    "    TEMA.append(indicators_dict['TEMA'])\n",
    "    CUSTOMIZED_INDICATOR.append(indicators_dict['CUSTOMIZED_INDICATOR'])\n",
    "    CCI.append(indicators_dict['CCI'])\n",
    "    RSV.append(indicators_dict['RSV'])\n",
    "    KDJ_K.append(indicators_dict['KDJ_K'])\n",
    "    KDJ_D.append(indicators_dict['KDJ_D'])\n",
    "    KDJ_J.append(indicators_dict['KDJ_J'])"
   ]
  },
  {
   "cell_type": "code",
   "execution_count": 12,
   "metadata": {},
   "outputs": [
    {
     "data": {
      "text/plain": [
       "[nan,\n",
       " nan,\n",
       " nan,\n",
       " nan,\n",
       " nan,\n",
       " nan,\n",
       " nan,\n",
       " nan,\n",
       " nan,\n",
       " nan,\n",
       " nan,\n",
       " nan,\n",
       " nan,\n",
       " nan,\n",
       " nan,\n",
       " nan,\n",
       " nan,\n",
       " nan,\n",
       " nan,\n",
       " nan,\n",
       " nan,\n",
       " nan,\n",
       " nan,\n",
       " nan,\n",
       " nan,\n",
       " nan,\n",
       " nan,\n",
       " nan,\n",
       " nan,\n",
       " 40.944275190513665,\n",
       " 37.69891144569995,\n",
       " 31.38677769145744,\n",
       " 19.728298406871104,\n",
       " 36.67763274864549,\n",
       " 26.232305765374733,\n",
       " 29.38554773486895,\n",
       " 26.04436022378617,\n",
       " 56.52453063802477,\n",
       " 35.5385468888872,\n",
       " 23.915710732496706,\n",
       " 29.866132457766398,\n",
       " 22.046416144941404,\n",
       " 15.576976492485443,\n",
       " 12.779207782104962,\n",
       " 10.107349674205793,\n",
       " 8.172761337123774,\n",
       " 18.049620167095405,\n",
       " 18.814328489867805,\n",
       " 21.777006436298592,\n",
       " 16.391399440749915,\n",
       " 42.93294744576488,\n",
       " 38.61295304033137,\n",
       " 43.30267261800905,\n",
       " 63.19066370781739,\n",
       " 55.47422378803391,\n",
       " 54.04329194020205,\n",
       " 72.10783383431382,\n",
       " 72.49929035923458,\n",
       " 76.96899432528853,\n",
       " 70.59159618035626,\n",
       " 68.1563597412353,\n",
       " 77.56463613665443,\n",
       " 69.19143274377268,\n",
       " 66.20784174586215,\n",
       " 54.147512635702924,\n",
       " 51.842458984605756,\n",
       " 62.4596966438956,\n",
       " 56.34110615903445,\n",
       " 34.38709604143911,\n",
       " 41.19614840023286,\n",
       " 19.077634625662853,\n",
       " 31.848549459319813,\n",
       " 23.000619411270876,\n",
       " 10.453690758916807,\n",
       " 9.448197240866733,\n",
       " 10.769586267472917,\n",
       " 15.892083982014597,\n",
       " 32.355604194947546,\n",
       " 24.560339070758815,\n",
       " 36.79188354502743,\n",
       " 31.405044322792463,\n",
       " 48.54079375702828,\n",
       " 43.117943402250944,\n",
       " 30.117187338755343,\n",
       " 29.773569008436965,\n",
       " 30.85331908847823,\n",
       " 47.35972482196999,\n",
       " 52.8950876126986,\n",
       " 70.22698279724193,\n",
       " 61.68336336121476,\n",
       " 64.73380135541858,\n",
       " 59.74782756538448,\n",
       " 63.885499694479435,\n",
       " 67.71310207028701,\n",
       " 72.80294334068677,\n",
       " 69.38829706100549,\n",
       " 81.36149261071904,\n",
       " 54.934867765916806,\n",
       " 72.39991631519457,\n",
       " 74.14160168013454]"
      ]
     },
     "execution_count": 12,
     "metadata": {},
     "output_type": "execute_result"
    }
   ],
   "source": [
    "KDJ_J"
   ]
  },
  {
   "cell_type": "code",
   "execution_count": 27,
   "metadata": {},
   "outputs": [
    {
     "data": {
      "text/plain": [
       "array([            nan,             nan,             nan, ...,\n",
       "       -1.77635684e-14, -2.13162821e-14, -2.48689958e-14])"
      ]
     },
     "execution_count": 27,
     "metadata": {},
     "output_type": "execute_result"
    }
   ],
   "source": [
    "import talib \n",
    "np.set_printoptions(threshold=200)\n",
    "\n",
    "np.array(DX) - talib.DX(high, low, close)"
   ]
  },
  {
   "cell_type": "code",
   "execution_count": 28,
   "metadata": {},
   "outputs": [
    {
     "data": {
      "text/plain": [
       "array([            nan,             nan,             nan, ...,\n",
       "       -1.06581410e-14, -1.06581410e-14, -1.77635684e-14])"
      ]
     },
     "execution_count": 28,
     "metadata": {},
     "output_type": "execute_result"
    }
   ],
   "source": [
    "np.array(ADX) - talib.ADX(high, low, close)"
   ]
  },
  {
   "cell_type": "code",
   "execution_count": 29,
   "metadata": {},
   "outputs": [
    {
     "data": {
      "text/plain": [
       "array([           nan,            nan,            nan, ...,\n",
       "       2.84217094e-14, 7.10542736e-15, 2.13162821e-14])"
      ]
     },
     "execution_count": 29,
     "metadata": {},
     "output_type": "execute_result"
    }
   ],
   "source": [
    "np.array(MFI) - talib.MFI(high, low, close, vol)"
   ]
  },
  {
   "cell_type": "code",
   "execution_count": 30,
   "metadata": {},
   "outputs": [
    {
     "data": {
      "text/plain": [
       "array([            nan,             nan,             nan, ...,\n",
       "       -7.77156117e-16, -6.10622664e-16, -7.77156117e-16])"
      ]
     },
     "execution_count": 30,
     "metadata": {},
     "output_type": "execute_result"
    }
   ],
   "source": [
    "np.array(APO) - talib.APO(close)"
   ]
  },
  {
   "cell_type": "code",
   "execution_count": 31,
   "metadata": {},
   "outputs": [],
   "source": [
    "macd1 = np.array(MACD)\n",
    "signal1 = np.array(MACDsignal)\n",
    "hist1 = np.array(MACDhist)\n",
    "macd2, signal2, hist2 = talib.MACD(close)"
   ]
  },
  {
   "cell_type": "code",
   "execution_count": 32,
   "metadata": {},
   "outputs": [
    {
     "data": {
      "text/plain": [
       "array([           nan,            nan,            nan, ...,\n",
       "       0.00000000e+00, 0.00000000e+00, 1.11022302e-16])"
      ]
     },
     "execution_count": 32,
     "metadata": {},
     "output_type": "execute_result"
    }
   ],
   "source": [
    "macd1 - macd2"
   ]
  },
  {
   "cell_type": "code",
   "execution_count": 33,
   "metadata": {},
   "outputs": [
    {
     "data": {
      "text/plain": [
       "array([           nan,            nan,            nan, ...,\n",
       "       1.38777878e-17, 1.38777878e-17, 3.46944695e-17])"
      ]
     },
     "execution_count": 33,
     "metadata": {},
     "output_type": "execute_result"
    }
   ],
   "source": [
    "signal1 - signal2"
   ]
  },
  {
   "cell_type": "code",
   "execution_count": 34,
   "metadata": {},
   "outputs": [
    {
     "data": {
      "text/plain": [
       "array([            nan,             nan,             nan, ...,\n",
       "       -1.38777878e-17, -1.38777878e-17,  8.32667268e-17])"
      ]
     },
     "execution_count": 34,
     "metadata": {},
     "output_type": "execute_result"
    }
   ],
   "source": [
    "hist1 - hist2"
   ]
  },
  {
   "cell_type": "code",
   "execution_count": 35,
   "metadata": {},
   "outputs": [
    {
     "data": {
      "text/plain": [
       "array([nan, nan, nan, ..., nan, nan, nan])"
      ]
     },
     "execution_count": 35,
     "metadata": {},
     "output_type": "execute_result"
    }
   ],
   "source": [
    "np.set_printoptions(threshold=200)\n",
    "np.array(NATR) - talib.NATR(high, low, close)"
   ]
  },
  {
   "cell_type": "code",
   "execution_count": 36,
   "metadata": {},
   "outputs": [
    {
     "data": {
      "text/plain": [
       "array([nan, nan, nan, ...,  0.,  0.,  0.])"
      ]
     },
     "execution_count": 36,
     "metadata": {},
     "output_type": "execute_result"
    }
   ],
   "source": [
    "np.set_printoptions(threshold=200)\n",
    "\n",
    "np.array(PLUS_DM) - talib.PLUS_DM(high, low)"
   ]
  },
  {
   "cell_type": "code",
   "execution_count": 37,
   "metadata": {},
   "outputs": [
    {
     "data": {
      "text/plain": [
       "array([nan, nan, nan, ...,  0.,  0.,  0.])"
      ]
     },
     "execution_count": 37,
     "metadata": {},
     "output_type": "execute_result"
    }
   ],
   "source": [
    "np.set_printoptions(threshold=200)\n",
    "\n",
    "np.array(RSI) - talib.RSI(close)"
   ]
  },
  {
   "cell_type": "code",
   "execution_count": 38,
   "metadata": {},
   "outputs": [
    {
     "data": {
      "text/plain": [
       "array([            nan,             nan,             nan, ...,\n",
       "       -1.11022302e-16, -1.11022302e-16,  1.66533454e-16])"
      ]
     },
     "execution_count": 38,
     "metadata": {},
     "output_type": "execute_result"
    }
   ],
   "source": [
    "np.array(TEMA) - talib.TEMA(close)"
   ]
  },
  {
   "cell_type": "code",
   "execution_count": 61,
   "metadata": {},
   "outputs": [
    {
     "data": {
      "text/plain": [
       "array([            nan,             nan,             nan,             nan,\n",
       "                   nan,             nan,             nan,             nan,\n",
       "                   nan,             nan,             nan,             nan,\n",
       "                   nan,  5.68434189e-14,  0.00000000e+00,  2.84217094e-14,\n",
       "        5.32907052e-14,  5.32907052e-14,  1.42108547e-14,  0.00000000e+00,\n",
       "       -3.55271368e-15,  1.42108547e-14,  1.42108547e-14,  0.00000000e+00,\n",
       "        5.68434189e-14,  1.42108547e-14,  2.84217094e-14,  8.52651283e-14,\n",
       "        6.39488462e-14,  1.02140518e-13,  7.10542736e-14,  5.68434189e-14,\n",
       "        5.68434189e-14,  5.50670620e-14,  9.94759830e-14,  5.68434189e-14,\n",
       "        5.68434189e-14,  3.55271368e-14,  8.52651283e-14,  8.52651283e-14,\n",
       "        8.52651283e-14,  1.13686838e-13,  1.42108547e-14,  7.81597009e-14,\n",
       "        0.00000000e+00,  3.55271368e-14,  4.26325641e-14,  6.39488462e-14,\n",
       "        5.68434189e-14,  1.13686838e-13,  1.17239551e-13,  1.17239551e-13,\n",
       "        1.31450406e-13,  9.94759830e-14,  1.52766688e-13,  1.74082970e-13,\n",
       "        1.13686838e-13,  9.23705556e-14,  1.42108547e-13,  6.39488462e-14,\n",
       "        9.94759830e-14,  5.32907052e-14,  1.13686838e-13,  1.98951966e-13,\n",
       "        7.10542736e-14,  3.55271368e-15, -1.42108547e-14,  4.97379915e-14,\n",
       "        5.68434189e-14,  5.68434189e-14,  1.42108547e-13,  5.32907052e-14,\n",
       "        1.56319402e-13,  1.27897692e-13,  1.26121336e-13,  1.70530257e-13,\n",
       "        1.27897692e-13,  2.41584530e-13,  2.27373675e-13,  1.27897692e-13,\n",
       "        1.27675648e-13,  1.49213975e-13,  1.98951966e-13,  1.70530257e-13,\n",
       "        2.27373675e-13,  1.60760294e-13,  1.27897692e-13,  1.75859327e-13,\n",
       "        1.84741111e-13,  2.02504680e-13,  1.63424829e-13,  1.98951966e-13,\n",
       "        1.54543045e-13,  2.27373675e-13,  1.70530257e-13,  1.70530257e-13,\n",
       "        1.56319402e-13,  1.24344979e-13,  1.70530257e-13,  1.45661261e-13])"
      ]
     },
     "execution_count": 61,
     "metadata": {},
     "output_type": "execute_result"
    }
   ],
   "source": [
    "np.array(CCI) - talib.CCI(high, low, close)"
   ]
  }
 ],
 "metadata": {
  "kernelspec": {
   "display_name": "Python 3",
   "language": "python",
   "name": "python3"
  },
  "language_info": {
   "codemirror_mode": {
    "name": "ipython",
    "version": 3
   },
   "file_extension": ".py",
   "mimetype": "text/x-python",
   "name": "python",
   "nbconvert_exporter": "python",
   "pygments_lexer": "ipython3",
   "version": "3.7.4"
  }
 },
 "nbformat": 4,
 "nbformat_minor": 4
}
