{
 "cells": [
  {
   "cell_type": "code",
   "execution_count": 32,
   "metadata": {},
   "outputs": [],
   "source": [
    "\n",
    "def TR(high, low, preClose):\n",
    "    return max(abs(high-low), abs(high-preClose), abs(preClose-low))\n",
    "\n",
    "def DM(high, preHigh, low, preLow):\n",
    "    deltaHigh = high - preHigh\n",
    "    deltaLow = preLow - low\n",
    "\n",
    "    DMplus = None\n",
    "    DMminus = None\n",
    "    if (deltaHigh < 0 and deltaLow < 0) or deltaHigh == deltaLow:\n",
    "        DMplus = 0\n",
    "        DMminus = 0\n",
    "    elif deltaHigh > deltaLow:\n",
    "        DMplus = deltaHigh\n",
    "        DMminus = 0\n",
    "    elif deltaHigh < deltaLow:\n",
    "        DMplus = 0\n",
    "        DMminus = deltaLow\n",
    "    else:\n",
    "        raise \n",
    "\n",
    "    return DMplus, DMminus\n",
    "\n",
    "def DIplus(preADMplus, preATR, DMplus, TR, n):\n",
    "    return 100 * ((n-1)*preADMplus + DMplus) / ((n-1)*preATR + TR)\n",
    "\n",
    "def DIminus(preADMminus, preATR, DMminus, TR, n):\n",
    "    return 100 * (((n-1)*preADMminus + DMminus)) / ((n-1)*preATR + TR)\n",
    "\n",
    "def _DX(DIplus, DIminus):\n",
    "    return (DIplus - DIminus) / (DIplus + DIminus)\n",
    "\n",
    "def DX(preADMplus, preADMminus, preATR, DMplus, DMminus, n,\n",
    "      high, preHigh, low, preLow,\n",
    "      preClose):\n",
    "    DMplus, DMminus = DM(high, preHigh, low, preLow)\n",
    "    TR_val = TR(high, low, preClose)\n",
    "    DIplus_val = DIplus(preADMplus, preATR, DMplus, TR, n)\n",
    "    DIminus_val = DIminus(preADMminus, preATR, DMminus, TR, n)\n",
    "    \n",
    "    DX_val = _DX(DIplus_val, DIminus_val)\n",
    "    \n",
    "    return DX_val\n",
    "    \n"
   ]
  },
  {
   "cell_type": "code",
   "execution_count": 119,
   "metadata": {},
   "outputs": [],
   "source": [
    "import numpy\n",
    "\n",
    "def TR(inputs: dict):\n",
    "    '''\n",
    "    向量运算\n",
    "    '''\n",
    "    high = inputs['high']\n",
    "    low = inputs['low']\n",
    "    close = inputs['close']\n",
    "    preClose = shift(close, 1, cval=np.nan)\n",
    "    \n",
    "    return np.amax(np.array([abs(high-low), abs(high-preClose), abs(preClose-low)]), axis=0)\n",
    "\n",
    "def ATR(TR: numpy.ndarray, n):\n",
    "    '''\n",
    "    增量算法\n",
    "    '''\n",
    "    atr = np.full_like(tr, fill_value=np.nan)\n",
    "    set_first_atr = False\n",
    "    for i in range(len(tr)):\n",
    "        if not set_first_atr:\n",
    "            if not np.isnan(tr[i]):\n",
    "                atr[i] = tr[i]\n",
    "                set_first_atr = True\n",
    "        else:\n",
    "            atr[i] = ((n-1)/n)*atr[i-1] + tr[i]/n    \n",
    "            \n",
    "    return atr\n",
    "\n",
    "def DM(inputs: dict):\n",
    "    '''\n",
    "    向量运算\n",
    "    '''\n",
    "    high = inputs['high']\n",
    "\n",
    "    preHigh = shift(high, 1, cval=np.nan)\n",
    "    low = inputs['low']\n",
    "    preLow = shift(low, 1, cval=np.nan)\n",
    "\n",
    "    deltaHigh = high - preHigh\n",
    "    deltaLow = preLow - low\n",
    "\n",
    "    DMplus = np.full_like(deltaHigh, fill_value=np.nan)\n",
    "    DMminus = np.full_like(deltaHigh, fill_value=np.nan)\n",
    "\n",
    "    condition1= np.logical_or(np.logical_and(deltaHigh < 0, deltaLow < 0), deltaHigh == deltaLow)\n",
    "    DMplus[condition1] = 0\n",
    "    DMminus[condition1] = 0\n",
    "    condition2 = np.logical_and(deltaHigh > deltaLow, np.isnan(DMplus))\n",
    "    DMplus[condition2] = deltaHigh[condition2]\n",
    "    DMminus[condition2] = 0\n",
    "    condition3 = np.logical_and(deltaHigh < deltaLow, np.isnan(DMplus))\n",
    "    DMplus[condition3] = 0\n",
    "    DMminus[condition3] = deltaLow[condition3]\n",
    "    \n",
    "    return DMplus, DMminus\n",
    "\n",
    "def ADM(DMplus:numpy.ndarray, DMminus: numpy.ndarray, n) -> (numpy.ndarray, numpy.ndarray):\n",
    "    '''\n",
    "    增量算法\n",
    "    '''\n",
    "    admPlus = np.full_like(DMplus, fill_value=np.nan)\n",
    "    admMinus = np.full_like(DMminus, fill_value=np.nan)\n",
    "    set_first_adm = False\n",
    "    assert len(DMplus) == len(DMminus)\n",
    "    for i in range(len(DMplus)):\n",
    "        if not set_first_adm:\n",
    "            if not np.isnan(DMplus[i]):\n",
    "                admPlus[i] = DMplus[i]\n",
    "                admMinus[i] = DMminus[i]\n",
    "                set_first_adm = True\n",
    "        else:\n",
    "            admPlus[i] = ((n-1)/n)*admPlus[i-1] + DMplus[i]/n    \n",
    "            admMinus[i] = ((n-1)/n)*admMinus[i-1] + DMminus[i]/n\n",
    "\n",
    "    return admPlus, admMinus\n",
    "def DI(admPlus: numpy.ndarray, admMinus: numpy.ndarray, atr: numpy.ndarray) -> (numpy.ndarray, numpy.ndarray):\n",
    "    '''\n",
    "    向量运算\n",
    "    '''\n",
    "    DIplus = 100 * admPlus/atr\n",
    "    DIminus = 100 * admMinus/atr\n",
    "    \n",
    "    return DIplus, DIminus\n",
    "\n",
    "def DX_helper(DIplus: numpy.ndarray, DIminus: numpy.ndarray):\n",
    "    '''\n",
    "    向量运算\n",
    "    '''\n",
    "    return 100*abs(DIplus - DIminus)/(DIplus + DIminus)\n",
    "def DX(inputs: dict, n: int):\n",
    "    '''\n",
    "    API\n",
    "    '''\n",
    "    np.set_printoptions(suppress=True)\n",
    "    tr = TR(inputs)\n",
    "    atr = ATR(tr, n)\n",
    "    dmPlus, dmMinus = DM(inputs)\n",
    "    admPlus, admMinus = ADM(dmPlus, dmMinus, n)\n",
    "    DIplus, DIminus = DI(admPlus, admMinus, atr)\n",
    "\n",
    "    \n",
    "    return DX_helper(DIplus, DIminus)\n",
    "    \n",
    "def ADX_helper(dx: numpy.ndarray, n):\n",
    "    '''\n",
    "    增量算法\n",
    "    '''\n",
    "    adx = np.full_like(dx, fill_value=np.nan)\n",
    "    set_first_adx = False\n",
    "    for i in range(len(dx)):\n",
    "        if not set_first_adx:\n",
    "            if not np.isnan(dx[i]):\n",
    "                adx[i] = dx[i]\n",
    "                set_first_adx = True\n",
    "        else:\n",
    "            adx[i] = ((n-1)/n)*adx[i-1] + dx[i]/n    \n",
    "            \n",
    "    return adx    \n",
    "\n",
    "def ADX(inputs: dict, n: int):\n",
    "    '''\n",
    "    API\n",
    "    '''\n",
    "    dx = DX(inputs, n)\n",
    "    return ADX_helper(dx, n)"
   ]
  },
  {
   "cell_type": "markdown",
   "metadata": {},
   "source": [
    "https://www.douban.com/note/270010228/"
   ]
  },
  {
   "cell_type": "code",
   "execution_count": 103,
   "metadata": {},
   "outputs": [],
   "source": [
    "import numpy as np\n",
    "import pandas as pd\n",
    "from scipy.ndimage.interpolation import shift\n",
    "\n",
    "inputs = {\n",
    "    'open': np.random.random(100),\n",
    "    'high': np.random.random(100),\n",
    "    'low': np.random.random(100),\n",
    "    'close': np.random.random(100),\n",
    "    'volume': np.random.random(100)\n",
    "}\n",
    "\n",
    "\n",
    "\n",
    "    "
   ]
  },
  {
   "cell_type": "code",
   "execution_count": 116,
   "metadata": {},
   "outputs": [
    {
     "name": "stderr",
     "output_type": "stream",
     "text": [
      "/opt/anaconda3/lib/python3.6/site-packages/ipykernel/__main__.py:46: RuntimeWarning: invalid value encountered in less\n",
      "/opt/anaconda3/lib/python3.6/site-packages/ipykernel/__main__.py:49: RuntimeWarning: invalid value encountered in greater\n",
      "/opt/anaconda3/lib/python3.6/site-packages/ipykernel/__main__.py:52: RuntimeWarning: invalid value encountered in less\n"
     ]
    },
    {
     "data": {
      "text/plain": [
       "array([         nan, 100.        ,  84.7569065 ,  72.56243171,\n",
       "        66.5583988 ,  61.75517247,  50.01882833,  46.74670677,\n",
       "        40.71468571,  34.54644997,  30.04036895,  25.82854659,\n",
       "        21.45414542,  17.95462449,  25.08206414,  21.63980992,\n",
       "        24.67548447,  27.1040241 ,  32.26990472,  35.75100573,\n",
       "        28.62859847,  30.49443042,  31.98709597,  33.18122842,\n",
       "        39.78623967,  44.42520339,  48.13637436,  54.04583412,\n",
       "        45.73414291,  43.55737161,  36.64113899,  30.27725905,\n",
       "        25.1861551 ,  24.60718521,  22.69893201,  19.64319098,\n",
       "        17.14653615,  18.05288549,  18.89528817,  18.05463821,\n",
       "        17.38211825,  21.41670927,  25.01480182,  26.17525565,\n",
       "        27.10361872,  28.04006791,  25.74004841,  23.90003282,\n",
       "        27.80090443,  32.10042382,  35.54003933,  36.5964461 ,\n",
       "        33.73904683,  33.11156841,  39.0791998 ,  43.85330491,\n",
       "        40.06900481,  42.34256242,  35.0633874 ,  35.61974719,\n",
       "        36.06483503,  40.57674739,  38.08721665,  40.39850881,\n",
       "        42.24754253,  43.72676951,  49.01076082,  45.21252493,\n",
       "        42.17393622,  41.55779992,  41.92808744,  37.55293566,\n",
       "        31.52700583,  26.70626197,  22.84966688,  22.82670559,\n",
       "        25.70141798,  28.00118789,  28.94708407,  26.6738082 ,\n",
       "        22.05874141,  21.17169682,  20.46206114,  25.24871919,\n",
       "        30.69690124,  24.80387539,  20.0894547 ,  16.31791816,\n",
       "        13.30068892,  21.06231009,  27.27160702,  33.48476782,\n",
       "        39.98575316,  46.82238764,  38.21866531,  33.83979214,\n",
       "        32.26370976,  29.0310758 ,  23.86437147,  19.55056866])"
      ]
     },
     "execution_count": 116,
     "metadata": {},
     "output_type": "execute_result"
    }
   ],
   "source": [
    "ADX(inputs, 5)\n"
   ]
  },
  {
   "cell_type": "code",
   "execution_count": 121,
   "metadata": {},
   "outputs": [
    {
     "name": "stderr",
     "output_type": "stream",
     "text": [
      "/opt/anaconda3/lib/python3.6/site-packages/ipykernel/__main__.py:46: RuntimeWarning: invalid value encountered in less\n",
      "/opt/anaconda3/lib/python3.6/site-packages/ipykernel/__main__.py:49: RuntimeWarning: invalid value encountered in greater\n",
      "/opt/anaconda3/lib/python3.6/site-packages/ipykernel/__main__.py:52: RuntimeWarning: invalid value encountered in less\n"
     ]
    },
    {
     "data": {
      "text/plain": [
       "array([         nan,          nan,          nan,          nan,\n",
       "                nan,          nan,          nan,          nan,\n",
       "                nan, -12.77830392, -11.88552869,  -8.20863399,\n",
       "        -6.97204915,  -5.98278127,  -4.31750013,  -3.09056941,\n",
       "        -2.23758566,  -1.55519865,  -1.07516522,  -0.69352834,\n",
       "        -0.48690059,  -0.31878678,  -0.18429574,  -0.0767029 ,\n",
       "        -0.02517417,   0.01561033,   0.04823792,   0.05942089,\n",
       "         0.06275819,   0.06101964,   0.04082983,   0.03944985,\n",
       "         0.03834586,   0.02537076,   0.01537315,   0.01608715,\n",
       "         0.00949851,   0.00467345,   0.00545043,   0.00307379,\n",
       "         0.00117248,  -0.00004555,  -0.00099409,  -0.00167962,\n",
       "        -0.00222804,  -0.00137561,  -0.00138469,  -0.00139195,\n",
       "        -0.00131628,  -0.00123661,  -0.00117287,  -0.00110879,\n",
       "        -0.00103005,  -0.00095381,  -0.00083656,  -0.00074275,\n",
       "        -0.00064675,  -0.00055311,  -0.00046542,  -0.00038844,\n",
       "        -0.00032686,  -0.00027262,  -0.0002266 ,  -0.00018748,\n",
       "        -0.00015618,  -0.00013115,  -0.00010873,  -0.00008969,\n",
       "        -0.00007446,  -0.00006197,  -0.00005182,  -0.00004035,\n",
       "        -0.00003318,  -0.00002745,  -0.00002286,  -0.00001768,\n",
       "        -0.00001366,  -0.00001045,  -0.00000863,  -0.00000714,\n",
       "        -0.00000553,  -0.00000457,  -0.00000381,  -0.00000316,\n",
       "        -0.00000262,  -0.00000215,  -0.00000178,  -0.00000148,\n",
       "        -0.00000124,  -0.00000102,  -0.00000085,  -0.0000007 ,\n",
       "        -0.00000059,  -0.00000049,  -0.00000038,  -0.00000031,\n",
       "        -0.00000024,  -0.0000002 ,  -0.00000016,  -0.00000013])"
      ]
     },
     "execution_count": 121,
     "metadata": {},
     "output_type": "execute_result"
    }
   ],
   "source": [
    "import talib\n",
    "\n",
    "talib.abstract.ADX(inputs, 5) - ADX(inputs, 5)"
   ]
  },
  {
   "cell_type": "code",
   "execution_count": 110,
   "metadata": {},
   "outputs": [],
   "source": [
    "def ADX(dx, n):\n",
    "    adx = np.full_like(dx, fill_value=np.nan)\n",
    "    set_first_adx = False\n",
    "    for i in range(len(dx)):\n",
    "        if not set_first_adx:\n",
    "            if not np.isnan(dx[i]):\n",
    "                adx[i] = dx[i]\n",
    "                set_first_adx = True\n",
    "        else:\n",
    "            adx[i] = ((n-1)/n)*adx[i-1] + dx[i]/n    \n",
    "            \n",
    "    return adx    "
   ]
  },
  {
   "cell_type": "code",
   "execution_count": 111,
   "metadata": {},
   "outputs": [
    {
     "data": {
      "text/plain": [
       "array([         nan, 100.        ,  84.7569065 ,  72.56243171,\n",
       "        66.5583988 ,  61.75517247,  50.01882833,  46.74670677,\n",
       "        40.71468571,  34.54644997,  30.04036895,  25.82854659,\n",
       "        21.45414542,  17.95462449,  25.08206414,  21.63980992,\n",
       "        24.67548447,  27.1040241 ,  32.26990472,  35.75100573,\n",
       "        28.62859847,  30.49443042,  31.98709597,  33.18122842,\n",
       "        39.78623967,  44.42520339,  48.13637436,  54.04583412,\n",
       "        45.73414291,  43.55737161,  36.64113899,  30.27725905,\n",
       "        25.1861551 ,  24.60718521,  22.69893201,  19.64319098,\n",
       "        17.14653615,  18.05288549,  18.89528817,  18.05463821,\n",
       "        17.38211825,  21.41670927,  25.01480182,  26.17525565,\n",
       "        27.10361872,  28.04006791,  25.74004841,  23.90003282,\n",
       "        27.80090443,  32.10042382,  35.54003933,  36.5964461 ,\n",
       "        33.73904683,  33.11156841,  39.0791998 ,  43.85330491,\n",
       "        40.06900481,  42.34256242,  35.0633874 ,  35.61974719,\n",
       "        36.06483503,  40.57674739,  38.08721665,  40.39850881,\n",
       "        42.24754253,  43.72676951,  49.01076082,  45.21252493,\n",
       "        42.17393622,  41.55779992,  41.92808744,  37.55293566,\n",
       "        31.52700583,  26.70626197,  22.84966688,  22.82670559,\n",
       "        25.70141798,  28.00118789,  28.94708407,  26.6738082 ,\n",
       "        22.05874141,  21.17169682,  20.46206114,  25.24871919,\n",
       "        30.69690124,  24.80387539,  20.0894547 ,  16.31791816,\n",
       "        13.30068892,  21.06231009,  27.27160702,  33.48476782,\n",
       "        39.98575316,  46.82238764,  38.21866531,  33.83979214,\n",
       "        32.26370976,  29.0310758 ,  23.86437147,  19.55056866])"
      ]
     },
     "execution_count": 111,
     "metadata": {},
     "output_type": "execute_result"
    }
   ],
   "source": [
    "ADX(dx,5)"
   ]
  },
  {
   "cell_type": "code",
   "execution_count": 107,
   "metadata": {},
   "outputs": [
    {
     "name": "stderr",
     "output_type": "stream",
     "text": [
      "/opt/anaconda3/lib/python3.6/site-packages/ipykernel/__main__.py:46: RuntimeWarning: invalid value encountered in less\n",
      "/opt/anaconda3/lib/python3.6/site-packages/ipykernel/__main__.py:49: RuntimeWarning: invalid value encountered in greater\n",
      "/opt/anaconda3/lib/python3.6/site-packages/ipykernel/__main__.py:52: RuntimeWarning: invalid value encountered in less\n"
     ]
    },
    {
     "data": {
      "text/plain": [
       "array([         nan,          nan,          nan,          nan,\n",
       "                nan, -27.73575335,  17.56303831,  11.40924677,\n",
       "        10.34810368,  -8.47795311,  -8.31442776,   6.4989448 ,\n",
       "        -2.02570977,  -2.02570977,   2.34362443,   1.81715347,\n",
       "         1.17434936,   1.17434936,   0.8449685 ,   0.8330192 ,\n",
       "         0.33961042,   0.35366844,   0.35366844,   0.35366844,\n",
       "         0.18094077,   0.17874831,   0.17874831,   0.10415274,\n",
       "         0.07610738,   0.05406548,  -0.03992943,   0.03392991,\n",
       "         0.03392991,  -0.02652961,  -0.02461732,   0.01894316,\n",
       "        -0.01685607,  -0.01462676,   0.00855834,  -0.00643278,\n",
       "        -0.00643278,  -0.00491768,  -0.00478825,  -0.00442173,\n",
       "        -0.00442173,   0.0020341 ,  -0.00142098,  -0.00142098,\n",
       "        -0.00101364,  -0.00091792,  -0.00091792,  -0.00085246,\n",
       "        -0.00071508,  -0.00064888,  -0.00036752,  -0.00036752,\n",
       "        -0.00026277,  -0.00017856,  -0.00011463,  -0.00008052,\n",
       "        -0.00008052,  -0.00005567,  -0.00004252,  -0.000031  ,\n",
       "        -0.000031  ,  -0.000031  ,  -0.00001906,  -0.00001354,\n",
       "        -0.00001354,  -0.00001199,  -0.00001123,   0.00000553,\n",
       "        -0.00000451,  -0.00000451,  -0.00000451,   0.00000305,\n",
       "         0.0000024 ,   0.0000024 ,  -0.00000136,  -0.00000117,\n",
       "         0.00000092,  -0.00000076,  -0.00000076,  -0.00000054,\n",
       "        -0.00000047,  -0.00000028,  -0.00000028,  -0.00000028,\n",
       "        -0.00000028,  -0.00000015,  -0.00000015,  -0.00000013,\n",
       "        -0.00000011,  -0.00000008,   0.00000004,  -0.00000003,\n",
       "         0.00000002,  -0.00000001,   0.00000001,  -0.00000001])"
      ]
     },
     "execution_count": 107,
     "metadata": {},
     "output_type": "execute_result"
    }
   ],
   "source": [
    "import talib\n",
    "talib.abstract.DX(inputs, 5) - DX(inputs, 5)"
   ]
  },
  {
   "cell_type": "code",
   "execution_count": 58,
   "metadata": {},
   "outputs": [],
   "source": [
    "def DX(DIplus: numpy.ndarray, DIminus: numpy.ndarray):\n",
    "    \n",
    "    return (DIplus - DIminus)/(DIplus + DIminus)"
   ]
  },
  {
   "cell_type": "code",
   "execution_count": 78,
   "metadata": {},
   "outputs": [
    {
     "name": "stderr",
     "output_type": "stream",
     "text": [
      "/opt/anaconda3/lib/python3.6/site-packages/ipykernel/__main__.py:46: RuntimeWarning: invalid value encountered in less\n",
      "/opt/anaconda3/lib/python3.6/site-packages/ipykernel/__main__.py:49: RuntimeWarning: invalid value encountered in greater\n",
      "/opt/anaconda3/lib/python3.6/site-packages/ipykernel/__main__.py:52: RuntimeWarning: invalid value encountered in less\n"
     ]
    }
   ],
   "source": [
    "DMplus, DMminus = DM(inputs)"
   ]
  },
  {
   "cell_type": "code",
   "execution_count": 37,
   "metadata": {},
   "outputs": [],
   "source": [
    "admPlus, admMinus = ADM(DMplus, DMminus, 5)"
   ]
  },
  {
   "cell_type": "code",
   "execution_count": null,
   "metadata": {},
   "outputs": [],
   "source": []
  },
  {
   "cell_type": "code",
   "execution_count": 43,
   "metadata": {},
   "outputs": [],
   "source": [
    "tr = TR(inputs)\n",
    "atr = ATR(tr, 5)"
   ]
  },
  {
   "cell_type": "code",
   "execution_count": 50,
   "metadata": {},
   "outputs": [],
   "source": [
    "DIplus, DIminus = DI(admPlus, admMinus, atr)"
   ]
  },
  {
   "cell_type": "code",
   "execution_count": 59,
   "metadata": {},
   "outputs": [
    {
     "data": {
      "text/plain": [
       "array([            nan, -1.00000000e+00, -1.00000000e+00, -1.83404498e+00,\n",
       "       -2.01505784e+00,  2.73019198e+01,  4.15202525e-01,  6.18107959e-01,\n",
       "        5.92185502e-01, -4.29190831e-01,  5.76178668e-01,  8.85702253e-01,\n",
       "        8.27232520e-01,  6.51020819e-01, -1.66625959e-01, -3.21189852e-01,\n",
       "        2.08994321e-01,  3.55924080e-01,  3.99569094e-01, -3.50129967e-01,\n",
       "       -1.77783762e+00, -4.26704172e-01, -6.45649155e-01, -1.34944853e-01,\n",
       "        8.08988261e-02,  1.01583128e-01, -2.16431787e-01, -4.33673638e-01,\n",
       "        1.45835393e-01,  2.79952053e-02, -4.16424302e-01, -4.93321376e-01,\n",
       "       -2.38316809e-01, -3.12514632e-01, -4.86858330e-01, -2.52946832e-01,\n",
       "       -1.75432382e-01, -5.10631104e-01, -2.21796130e-01, -1.37425248e-01,\n",
       "       -2.64763699e-01, -6.94487961e-02,  3.66856418e-01,  4.12430402e-01,\n",
       "        3.39225150e-01, -2.25481084e-01, -6.32802718e-04,  2.71855498e-01,\n",
       "        1.91708952e-03, -6.42234732e-01, -8.44188777e-01, -8.16888302e-01,\n",
       "       -1.27711645e+00, -4.39562236e-01, -6.64129542e-01, -4.23706142e-01,\n",
       "       -5.86049098e-01, -3.90713475e-01,  2.69366553e-01,  5.58053688e-01,\n",
       "        6.96450591e-01,  7.54297123e-01,  8.68241521e-01,  1.20331133e+00,\n",
       "        1.11274616e+00,  4.45000989e-01,  4.41307121e-01, -1.44517648e-01,\n",
       "        5.73251820e-02,  2.98106249e-01, -2.91796867e-01, -2.90087036e-01,\n",
       "       -5.86412171e-01, -2.51903317e-01, -4.16860228e-01, -4.06278044e-01,\n",
       "       -1.74289030e-01,  4.00803912e-01,  2.60560394e+00,  1.43445627e+00,\n",
       "        2.01620891e+00,  1.43713163e+00,  1.04748793e+00,  1.03045216e+00,\n",
       "        1.03164654e+00,  2.66707924e+00,  7.35047463e-01,  8.21739338e-01,\n",
       "        6.28476583e-01,  7.69437504e-01,  7.60351983e-01,  5.54983268e-01,\n",
       "        7.01836616e-01,  4.83430577e-01,  7.25858411e-01,  7.04522465e-01,\n",
       "        6.28807855e-01,  7.29952688e-01,  4.74242021e-02,  4.52685862e-01])"
      ]
     },
     "execution_count": 59,
     "metadata": {},
     "output_type": "execute_result"
    }
   ],
   "source": [
    "DX(DIplus, DIminus)"
   ]
  },
  {
   "cell_type": "code",
   "execution_count": null,
   "metadata": {},
   "outputs": [],
   "source": [
    "n = 5\n",
    "atr = np.full_like(tr, fill_value=np.nan)\n",
    "set_first_atr = False\n",
    "for i in range(len(tr)):\n",
    "    if not set_first_atr and not np.isnan(tr[i]):\n",
    "        atr[i] = tr[i]\n",
    "        set_first_atr = True\n",
    "    else:\n",
    "        atr[i] = ((n-1)/n)*atr[i-1] + tr[i]/n\n"
   ]
  },
  {
   "cell_type": "code",
   "execution_count": null,
   "metadata": {},
   "outputs": [],
   "source": [
    "def ATR(TR, n):\n",
    "    atr = np.full_like(tr, fill_value=np.nan)\n",
    "    set_first_atr = False\n",
    "    for i in range(len(tr)):\n",
    "        if not set_first_atr and not np.isnan(tr[i]):\n",
    "            atr[i] = tr[i]\n",
    "            set_first_atr = True\n",
    "        else:\n",
    "            atr[i] = ((n-1)/n)*atr[i-1] + tr[i]/n    \n",
    "            \n",
    "    return atr"
   ]
  },
  {
   "cell_type": "code",
   "execution_count": 6,
   "metadata": {},
   "outputs": [
    {
     "data": {
      "text/plain": [
       "array([-9223372036854775808,                    0,                    1,\n",
       "                          2,                    3,                    4,\n",
       "                          5,                    6])"
      ]
     },
     "execution_count": 6,
     "metadata": {},
     "output_type": "execute_result"
    }
   ],
   "source": [
    "import scipy.ndimage\n",
    "import numpy as np\n",
    "\n",
    "scipy.ndimage.interpolation.shift(np.arange(8), 1, cval=np.nan)"
   ]
  },
  {
   "cell_type": "code",
   "execution_count": 12,
   "metadata": {},
   "outputs": [
    {
     "name": "stdout",
     "output_type": "stream",
     "text": [
      "2\n"
     ]
    }
   ],
   "source": [
    "i = 2\n",
    "\n",
    "if i == 1:\n",
    "    print(1)\n",
    "elif i == 2:\n",
    "    print(2)"
   ]
  }
 ],
 "metadata": {
  "kernelspec": {
   "display_name": "Python [conda env:pd24]",
   "language": "python",
   "name": "conda-env-pd24-py"
  },
  "language_info": {
   "codemirror_mode": {
    "name": "ipython",
    "version": 3
   },
   "file_extension": ".py",
   "mimetype": "text/x-python",
   "name": "python",
   "nbconvert_exporter": "python",
   "pygments_lexer": "ipython3",
   "version": "3.7.0"
  }
 },
 "nbformat": 4,
 "nbformat_minor": 4
}
