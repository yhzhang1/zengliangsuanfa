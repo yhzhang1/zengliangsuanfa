{
 "cells": [
  {
   "cell_type": "code",
   "execution_count": 27,
   "metadata": {},
   "outputs": [],
   "source": [
    "def trueRange_inc(preClose, high, low):\n",
    "    return max([high-low,abs(high-preClose),abs(low-preClose)])\n",
    "\n",
    "def true_range_n_inc(pre_true_range_n, preClose, high, low, n):\n",
    "    tr = trueRange_inc(preClose, high, low)\n",
    "    true_range_n = pre_true_range_n - pre_true_range_n / n + tr\n",
    "    return true_range_n\n",
    "\n",
    "def PLUS_DM_inc(high, prehigh, low, prelow, pre_plus_dm_n, n):\n",
    "    plusdm, _ = dm_one_period(high, prehigh, low, prelow)\n",
    "        \n",
    "    plus_dm_n = pre_plus_dm_n - pre_plus_dm_n/n + plusdm\n",
    "    \n",
    "    return plus_dm_n\n",
    "\n",
    "def dm_one_period(high, prehigh, low, prelow):\n",
    "    deltahigh = high - prehigh\n",
    "    deltalow = prelow - low\n",
    "    \n",
    "    if (deltahigh < 0 and deltalow < 0) or deltahigh == deltalow:\n",
    "        plusdm = 0\n",
    "        minusdm = 0\n",
    "    elif deltahigh > deltalow:\n",
    "        plusdm = deltahigh\n",
    "        minusdm = 0\n",
    "    elif deltahigh < deltalow:\n",
    "        plusdm = 0\n",
    "        minusdm = deltalow\n",
    "    else:\n",
    "        raise ExceptionError\n",
    "        \n",
    "    return plusdm, minusdm\n",
    "\n",
    "def PLUS_DI_inc(plus_dm_n, true_range_n):\n",
    "    return plus_dm_n / true_range_n * 100\n",
    "\n",
    "def PLUS_DI(high, low, close, n=14):\n",
    "    plus_dm = np.full_like(high, fill_value=np.nan)\n",
    "    true_range_n = np.full_like(high, fill_value=np.nan)\n",
    "    plus_di = np.full_like(high, fill_value=np.nan)\n",
    "    init_plusdm = 0\n",
    "    init_true_range_n = 0\n",
    "    \n",
    "    for i in range(len(high)):\n",
    "        if i == 0:\n",
    "            pass\n",
    "        elif i < n:\n",
    "            init_plusdm += dm_one_period(high[i], high[i-1], low[i], low[i])[0]\n",
    "            init_true_range_n += trueRange_inc(close[i-1], high[i], low[i])\n",
    "            if i == n-1:\n",
    "                plus_dm[i] = init_plusdm\n",
    "                true_range_n[i] = init_true_range_n\n",
    "                plus_di[i] = PLUS_DI_inc(plus_dm[i], true_range_n[i])\n",
    "        else:\n",
    "            plus_dm[i] = PLUS_DM_inc(high[i], high[i-1], low[i], low[i-1], plus_dm[i-1], n)\n",
    "            true_range_n[i] = true_range_n_inc(true_range_n[i-1], close[i-1], high[i], low[i], n)\n",
    "            plus_di[i] = PLUS_DI_inc(plus_dm[i], true_range_n[i])\n",
    "            \n",
    "    return plus_di\n",
    "            \n",
    "            "
   ]
  },
  {
   "cell_type": "code",
   "execution_count": 22,
   "metadata": {},
   "outputs": [],
   "source": [
    "import numpy as np\n",
    "\n",
    "size = 100\n",
    "high = np.random.random(size)\n",
    "low = np.random.random(size)\n",
    "close = np.random.random(size)"
   ]
  },
  {
   "cell_type": "code",
   "execution_count": 26,
   "metadata": {},
   "outputs": [
    {
     "data": {
      "text/plain": [
       "array([nan, nan, nan, nan, nan, nan, nan, nan, nan, nan, nan, nan, nan,\n",
       "       nan,  0.,  0.,  0.,  0.,  0.,  0.,  0.,  0.,  0.,  0.,  0.,  0.,\n",
       "        0.,  0.,  0.,  0.,  0.,  0.,  0.,  0.,  0.,  0.,  0.,  0.,  0.,\n",
       "        0.,  0.,  0.,  0.,  0.,  0.,  0.,  0.,  0.,  0.,  0.,  0.,  0.,\n",
       "        0.,  0.,  0.,  0.,  0.,  0.,  0.,  0.,  0.,  0.,  0.,  0.,  0.,\n",
       "        0.,  0.,  0.,  0.,  0.,  0.,  0.,  0.,  0.,  0.,  0.,  0.,  0.,\n",
       "        0.,  0.,  0.,  0.,  0.,  0.,  0.,  0.,  0.,  0.,  0.,  0.,  0.,\n",
       "        0.,  0.,  0.,  0.,  0.,  0.,  0.,  0.,  0.])"
      ]
     },
     "execution_count": 26,
     "metadata": {},
     "output_type": "execute_result"
    }
   ],
   "source": [
    "import talib\n",
    "\n",
    "PLUS_DI(high, low, close) - talib.PLUS_DI(high, low, close)"
   ]
  },
  {
   "cell_type": "code",
   "execution_count": 24,
   "metadata": {},
   "outputs": [
    {
     "data": {
      "text/plain": [
       "array([        nan,         nan,         nan,         nan,         nan,\n",
       "               nan,         nan,         nan,         nan,         nan,\n",
       "               nan,         nan,         nan, 32.42948781, 30.26720826,\n",
       "       31.6243857 , 28.36257342, 27.38834522, 25.34628334, 24.20296863,\n",
       "       24.79876593, 23.03717174, 24.43277816, 21.65802369, 29.44613491,\n",
       "       27.10052854, 24.88114341, 24.53214714, 24.18678095, 28.29442641,\n",
       "       28.06613627, 25.82126288, 27.36034034, 24.52117724, 28.93045526,\n",
       "       27.33166514, 26.29016675, 23.72936426, 29.39939081, 26.3981342 ,\n",
       "       24.93990103, 32.14110149, 30.52730819, 28.87390823, 33.71557407,\n",
       "       32.771985  , 36.40795796, 34.27196166, 33.15265169, 34.97017976,\n",
       "       33.85266265, 30.65161216, 27.88483928, 27.00244388, 30.82090549,\n",
       "       27.18264555, 34.56320823, 33.54600475, 32.00647335, 29.37631729,\n",
       "       27.38539419, 24.42934647, 31.92548998, 28.2339292 , 26.98752733,\n",
       "       36.15151681, 32.47222265, 37.65478434, 35.72885813, 34.65871753,\n",
       "       35.56852193, 31.55410092, 27.95802293, 27.93733584, 35.91968915,\n",
       "       32.96999207, 28.9598021 , 37.25846564, 33.84656232, 31.51745903,\n",
       "       31.41087941, 34.64193045, 32.10623218, 36.89642849, 32.55784958,\n",
       "       40.18220853, 37.84064908, 38.59919755, 34.13590598, 39.38473102,\n",
       "       37.56971305, 35.73831008, 33.37525811, 32.11723271, 30.30557751,\n",
       "       37.4880891 , 35.37438774, 34.29357596, 29.92261675, 28.30434707])"
      ]
     },
     "execution_count": 24,
     "metadata": {},
     "output_type": "execute_result"
    }
   ],
   "source": [
    "PLUS_DI(high, low, close)"
   ]
  },
  {
   "cell_type": "code",
   "execution_count": 25,
   "metadata": {},
   "outputs": [
    {
     "data": {
      "text/plain": [
       "array([        nan,         nan,         nan,         nan,         nan,\n",
       "               nan,         nan,         nan,         nan,         nan,\n",
       "               nan,         nan,         nan,         nan, 30.26720826,\n",
       "       31.6243857 , 28.36257342, 27.38834522, 25.34628334, 24.20296863,\n",
       "       24.79876593, 23.03717174, 24.43277816, 21.65802369, 29.44613491,\n",
       "       27.10052854, 24.88114341, 24.53214714, 24.18678095, 28.29442641,\n",
       "       28.06613627, 25.82126288, 27.36034034, 24.52117724, 28.93045526,\n",
       "       27.33166514, 26.29016675, 23.72936426, 29.39939081, 26.3981342 ,\n",
       "       24.93990103, 32.14110149, 30.52730819, 28.87390823, 33.71557407,\n",
       "       32.771985  , 36.40795796, 34.27196166, 33.15265169, 34.97017976,\n",
       "       33.85266265, 30.65161216, 27.88483928, 27.00244388, 30.82090549,\n",
       "       27.18264555, 34.56320823, 33.54600475, 32.00647335, 29.37631729,\n",
       "       27.38539419, 24.42934647, 31.92548998, 28.2339292 , 26.98752733,\n",
       "       36.15151681, 32.47222265, 37.65478434, 35.72885813, 34.65871753,\n",
       "       35.56852193, 31.55410092, 27.95802293, 27.93733584, 35.91968915,\n",
       "       32.96999207, 28.9598021 , 37.25846564, 33.84656232, 31.51745903,\n",
       "       31.41087941, 34.64193045, 32.10623218, 36.89642849, 32.55784958,\n",
       "       40.18220853, 37.84064908, 38.59919755, 34.13590598, 39.38473102,\n",
       "       37.56971305, 35.73831008, 33.37525811, 32.11723271, 30.30557751,\n",
       "       37.4880891 , 35.37438774, 34.29357596, 29.92261675, 28.30434707])"
      ]
     },
     "execution_count": 25,
     "metadata": {},
     "output_type": "execute_result"
    }
   ],
   "source": [
    "talib.PLUS_DI(high, low, close)"
   ]
  }
 ],
 "metadata": {
  "kernelspec": {
   "display_name": "Python 3",
   "language": "python",
   "name": "python3"
  },
  "language_info": {
   "codemirror_mode": {
    "name": "ipython",
    "version": 3
   },
   "file_extension": ".py",
   "mimetype": "text/x-python",
   "name": "python",
   "nbconvert_exporter": "python",
   "pygments_lexer": "ipython3",
   "version": "3.7.4"
  }
 },
 "nbformat": 4,
 "nbformat_minor": 4
}
