{
 "cells": [
  {
   "cell_type": "code",
   "execution_count": 1,
   "metadata": {},
   "outputs": [],
   "source": [
    "def MFI_inc(MoneyRatio):\n",
    "    return 100 - (100/(1+MoneyRatio))\n",
    "\n",
    "def MFI(high, low, close, vol, n=14):\n",
    "    typical_price = np.full_like(high, fill_value=np.nan)\n",
    "    money_flow = np.full_like(high, fill_value=np.nan)\n",
    "    positive_money_flow = np.full_like(high, fill_value=np.nan)\n",
    "    negative_money_flow = np.full_like(high, fill_value=np.nan)\n",
    "    money_ratio = np.full_like(high, fill_value=np.nan)\n",
    "    mfi = np.full_like(high, fill_value=np.nan)\n",
    "    \n",
    "    for i in range(len(high)):\n",
    "        # 更新 typicalprice, moneyflow\n",
    "        typical_price[i] = (high[i] + low[i] + close[i]) / 3\n",
    "        money_flow[i] = typical_price[i] * vol[i]\n",
    "        \n",
    "        if i == 0:\n",
    "            pass\n",
    "        else:\n",
    "            # 更新 positivemoneyflow, negativemoneyflow\n",
    "            if typical_price[i] > typical_price[i-1]:\n",
    "                positive_money_flow[i] = money_flow[i]\n",
    "                negative_money_flow[i] = 0\n",
    "            else:\n",
    "                positive_money_flow[i] = 0\n",
    "                negative_money_flow[i] = money_flow[i]\n",
    "                \n",
    "            # 更新 moneyratio\n",
    "            if i >= n:\n",
    "                money_ratio[i] = positive_money_flow[i-n+1:i+1].sum() / negative_money_flow[i-n+1:i+1].sum()\n",
    "                # 更新 moneyflowindex\n",
    "                mfi[i] = MFI_inc(money_ratio[i])\n",
    "                                \n",
    "    return mfi\n",
    "            \n",
    "    "
   ]
  },
  {
   "cell_type": "code",
   "execution_count": 2,
   "metadata": {},
   "outputs": [
    {
     "data": {
      "text/plain": [
       "array([            nan,             nan,             nan,             nan,\n",
       "                   nan,             nan,             nan,             nan,\n",
       "                   nan,             nan,             nan,             nan,\n",
       "                   nan,             nan,  7.10542736e-15,  0.00000000e+00,\n",
       "        1.42108547e-14,  1.42108547e-14,  2.13162821e-14,  7.10542736e-15,\n",
       "        7.10542736e-15,  0.00000000e+00,  7.10542736e-15,  0.00000000e+00,\n",
       "        1.42108547e-14,  0.00000000e+00,  2.13162821e-14,  0.00000000e+00,\n",
       "        0.00000000e+00,  1.42108547e-14,  7.10542736e-15,  0.00000000e+00,\n",
       "        1.42108547e-14,  2.13162821e-14,  7.10542736e-15,  1.42108547e-14,\n",
       "        1.42108547e-14,  1.42108547e-14,  2.84217094e-14,  2.13162821e-14,\n",
       "        2.84217094e-14,  2.84217094e-14,  2.13162821e-14,  3.55271368e-14,\n",
       "        4.26325641e-14,  2.84217094e-14,  2.84217094e-14,  1.42108547e-14,\n",
       "        2.84217094e-14,  1.42108547e-14,  2.84217094e-14,  1.42108547e-14,\n",
       "        1.42108547e-14,  2.13162821e-14,  3.55271368e-14,  1.42108547e-14,\n",
       "        1.42108547e-14,  1.42108547e-14,  1.42108547e-14,  1.42108547e-14,\n",
       "        1.42108547e-14,  2.84217094e-14,  1.42108547e-14,  2.13162821e-14,\n",
       "        2.13162821e-14,  2.84217094e-14,  1.42108547e-14,  1.42108547e-14,\n",
       "        1.42108547e-14,  2.13162821e-14,  7.10542736e-15,  0.00000000e+00,\n",
       "        1.42108547e-14,  0.00000000e+00,  7.10542736e-15,  7.10542736e-15,\n",
       "        1.42108547e-14,  0.00000000e+00,  0.00000000e+00,  2.13162821e-14,\n",
       "        1.42108547e-14,  0.00000000e+00,  1.42108547e-14,  2.13162821e-14,\n",
       "        2.13162821e-14,  2.13162821e-14,  1.42108547e-14,  1.42108547e-14,\n",
       "        2.84217094e-14,  2.84217094e-14,  2.84217094e-14,  2.84217094e-14,\n",
       "        2.13162821e-14,  1.42108547e-14,  0.00000000e+00,  1.42108547e-14,\n",
       "        0.00000000e+00,  0.00000000e+00,  1.42108547e-14, -1.42108547e-14])"
      ]
     },
     "execution_count": 2,
     "metadata": {},
     "output_type": "execute_result"
    }
   ],
   "source": [
    "# test\n",
    "\n",
    "import numpy as np\n",
    "import talib\n",
    "\n",
    "high = np.random.random(100)\n",
    "low = np.random.random(100)\n",
    "close = np.random.random(100)\n",
    "vol = np.random.random(100)\n",
    "\n",
    "MFI(high, low, close, vol) - talib.MFI(high, low, close, vol)"
   ]
  }
 ],
 "metadata": {
  "kernelspec": {
   "display_name": "Python 3",
   "language": "python",
   "name": "python3"
  },
  "language_info": {
   "codemirror_mode": {
    "name": "ipython",
    "version": 3
   },
   "file_extension": ".py",
   "mimetype": "text/x-python",
   "name": "python",
   "nbconvert_exporter": "python",
   "pygments_lexer": "ipython3",
   "version": "3.7.4"
  }
 },
 "nbformat": 4,
 "nbformat_minor": 4
}
