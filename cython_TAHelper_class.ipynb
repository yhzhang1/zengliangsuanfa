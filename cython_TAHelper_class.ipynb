{
 "cells": [
  {
   "cell_type": "code",
   "execution_count": 4,
   "metadata": {},
   "outputs": [],
   "source": [
    "%load_ext Cython"
   ]
  },
  {
   "cell_type": "code",
   "execution_count": 12,
   "metadata": {},
   "outputs": [],
   "source": [
    "%%cython\n",
    "import numpy as np\n",
    "cimport numpy as np\n",
    "\n",
    "cdef class TAHelper:\n",
    "    cpdef list indicators_name\n",
    "    \n",
    "    cdef int i\n",
    "    cdef int length\n",
    "    cdef np.ndarray high\n",
    "    cdef np.ndarray low\n",
    "    cdef np.ndarray close\n",
    "    cdef np.ndarray vol\n",
    "    \n",
    "    # 计算DX需要的变量\n",
    "    cdef int dx_n\n",
    "    cdef np.ndarray deltahigh\n",
    "    cdef np.ndarray deltalow\n",
    "    cdef np.ndarray plusdm\n",
    "    cdef np.ndarray minusdm\n",
    "    cdef np.ndarray admplus\n",
    "    cdef np.ndarray admminus\n",
    "    cdef np.ndarray tr\n",
    "    cdef np.ndarray dx_atr\n",
    "    cdef np.ndarray plusdi\n",
    "    cdef np.ndarray minusdi\n",
    "    cdef np.ndarray dx\n",
    "    \n",
    "    # 计算ADX需要的变量\n",
    "    cdef np.ndarray adx\n",
    "    \n",
    "    # 计算MFI需要的变量\n",
    "    cdef int mfi_n\n",
    "    cdef np.ndarray typical_price\n",
    "    cdef np.ndarray money_flow\n",
    "    cdef np.ndarray positive_money_flow\n",
    "    cdef np.ndarray negative_money_flow\n",
    "    cdef np.ndarray money_ratio\n",
    "    cdef np.ndarray mfi\n",
    "    \n",
    "    # 计算APO需要的变量\n",
    "    cdef int apo_fast_n\n",
    "    cdef int apo_slow_n\n",
    "    cdef np.ndarray apo_fastma \n",
    "    cdef np.ndarray apo_slowma\n",
    "    cdef np.ndarray apo\n",
    "\n",
    "    # 计算MACD需要的变量\n",
    "    cdef int macd_fast_n\n",
    "    cdef int macd_slow_n\n",
    "    cdef int macd_signal_n\n",
    "    cdef np.ndarray macd_fastema \n",
    "    cdef np.ndarray macd_slowema\n",
    "    cdef np.ndarray macd\n",
    "    cdef np.ndarray macdsignal\n",
    "    cdef np.ndarray macdhist\n",
    "    \n",
    "    # 计算NATR需要的变量\n",
    "    cdef int natr_n\n",
    "    cdef np.ndarray natr_atr\n",
    "    cdef np.ndarray natr\n",
    "    \n",
    "    # 计算PLUS_DM需要的变量\n",
    "    cdef int plus_dm_n\n",
    "    cdef np.ndarray plus_dm\n",
    "    cdef double init_plusdm\n",
    "    \n",
    "    # 计算PLUS_DI需要的变量\n",
    "    cdef int plus_di_n\n",
    "    cdef np.ndarray true_range_n\n",
    "    cdef np.ndarray plus_di\n",
    "    cdef double init_true_range_n\n",
    "    \n",
    "    # 计算RSI需要的变量\n",
    "    cdef int rsi_n\n",
    "    cdef np.ndarray upavg\n",
    "    cdef np.ndarray dnavg\n",
    "    cdef np.ndarray rsi\n",
    "    \n",
    "    # 计算TEMA需要的变量\n",
    "    cdef int tema_n\n",
    "    cdef np.ndarray tema_ema1\n",
    "    cdef np.ndarray tema_ema2\n",
    "    cdef np.ndarray tema_ema3\n",
    "    cdef np.ndarray tema\n",
    "    \n",
    "    # 计算自定义指标1需要的变量\n",
    "    cdef int customized_indicator_n\n",
    "    cdef np.ndarray customized_indicator\n",
    "    cdef np.ndarray customized_indicator_max_part\n",
    "    cdef np.ndarray customized_indicator_abs_part\n",
    "    cdef np.ndarray customized_indicator_sma_max_part\n",
    "    cdef np.ndarray customized_indicator_sma_abs_part\n",
    "    \n",
    "    # 计算CCI需要的变量\n",
    "    cdef int cci_n\n",
    "    cdef np.ndarray avg_typical_price\n",
    "    cdef np.ndarray mean_deviation\n",
    "    cdef np.ndarray cci\n",
    "    \n",
    "    # 计算KDJ需要的变量\n",
    "    cdef int kdj_n\n",
    "    cdef int k_n\n",
    "    cdef int d_n\n",
    "    cdef np.ndarray highest_high\n",
    "    cdef np.ndarray lowest_low\n",
    "    cdef np.ndarray rsv\n",
    "    cdef np.ndarray k\n",
    "    cdef np.ndarray d\n",
    "    cdef np.ndarray j\n",
    "    \n",
    "    def __init__(self, mom_window=12, std_window=26):\n",
    "        assert mom_window*2 < std_window\n",
    "        self.indicators_name = ['DX', 'ADX', 'MFI', 'APO', 'MACD', 'MACDsignal', 'MACDhist', 'NATR', 'PLUS_DM', 'RSI', 'TEMA', 'CUSTOMIZED_INDICATOR', 'CCI', 'RSV', 'KDJ_K', 'KDJ_D', 'KDJ_J', 'ATR', 'PLUS_DI']\n",
    "        self.i = -1\n",
    "        self.length = 10000\n",
    "        self.high = np.full(self.length, fill_value=np.nan, dtype=np.float64)\n",
    "        self.low = np.full(self.length, fill_value=np.nan, dtype=np.float64)\n",
    "        self.close = np.full(self.length, fill_value=np.nan, dtype=np.float64)\n",
    "        self.vol = np.full(self.length, fill_value=np.nan, dtype=np.float64)\n",
    "        \n",
    "        # 计算DX需要的变量\n",
    "        self.dx_n = mom_window\n",
    "        self.deltahigh = np.full(self.length, fill_value=np.nan, dtype=np.float64)\n",
    "        self.deltalow = np.full(self.length, fill_value=np.nan, dtype=np.float64)\n",
    "        self.plusdm = np.full(self.length, fill_value=np.nan, dtype=np.float64)\n",
    "        self.minusdm = np.full(self.length, fill_value=np.nan, dtype=np.float64)\n",
    "        self.admplus = np.full(self.length, fill_value=np.nan, dtype=np.float64)\n",
    "        self.admminus = np.full(self.length, fill_value=np.nan, dtype=np.float64)\n",
    "        self.tr = np.full(self.length, fill_value=np.nan, dtype=np.float64)\n",
    "        self.dx_atr = np.full(self.length, fill_value=np.nan, dtype=np.float64)\n",
    "        self.plusdi = np.full(self.length, fill_value=np.nan, dtype=np.float64)\n",
    "        self.minusdi = np.full(self.length, fill_value=np.nan, dtype=np.float64)\n",
    "        self.dx = np.full(self.length, fill_value=np.nan, dtype=np.float64)\n",
    "        \n",
    "        # 计算ADX需要的变量\n",
    "        self.adx = np.full(self.length, fill_value=np.nan, dtype=np.float64)\n",
    "        \n",
    "        # 计算MFI需要的变量\n",
    "        self.mfi_n = mom_window\n",
    "        self.typical_price = np.full(self.length, fill_value=np.nan, dtype=np.float64)\n",
    "        self.money_flow = np.full(self.length, fill_value=np.nan, dtype=np.float64)\n",
    "        self.positive_money_flow = np.full(self.length, fill_value=np.nan, dtype=np.float64)\n",
    "        self.negative_money_flow = np.full(self.length, fill_value=np.nan, dtype=np.float64)\n",
    "        self.money_ratio = np.full(self.length, fill_value=np.nan, dtype=np.float64)\n",
    "        self.mfi = np.full(self.length, fill_value=np.nan, dtype=np.float64)\n",
    "        \n",
    "        # 计算APO需要的变量\n",
    "        self.apo_fast_n = mom_window\n",
    "        self.apo_slow_n = std_window\n",
    "        self.apo_fastma = np.full(self.length, fill_value=np.nan, dtype=np.float64)\n",
    "        self.apo_slowma = np.full(self.length, fill_value=np.nan, dtype=np.float64)\n",
    "        self.apo = np.full(self.length, fill_value=np.nan, dtype=np.float64)\n",
    "        \n",
    "        # 计算MACD需要的变量\n",
    "        self.macd_fast_n = mom_window\n",
    "        self.macd_slow_n = std_window\n",
    "        self.macd_signal_n = round(0.75 * mom_window)\n",
    "        self.macd_fastema = np.full(self.length, fill_value=np.nan, dtype=np.float64)\n",
    "        self.macd_slowema = np.full(self.length, fill_value=np.nan, dtype=np.float64)\n",
    "        self.macd = np.full(self.length, fill_value=np.nan, dtype=np.float64)\n",
    "        self.macdsignal = np.full(self.length, fill_value=np.nan, dtype=np.float64)\n",
    "        self.macdhist = np.full(self.length, fill_value=np.nan, dtype=np.float64)\n",
    "        \n",
    "        # 计算NATR需要的变量\n",
    "        self.natr_n = mom_window\n",
    "        self.natr_atr = np.full(self.length, fill_value=np.nan, dtype=np.float64)\n",
    "        self.natr = np.full(self.length, fill_value=np.nan, dtype=np.float64)\n",
    "        \n",
    "        # 计算PLUS_DM需要的变量\n",
    "        self.plus_dm_n = mom_window\n",
    "        self.plus_dm = np.full(self.length, fill_value=np.nan, dtype=np.float64)\n",
    "        self.init_plusdm = 0\n",
    "        \n",
    "        # 计算PLUS_DI需要的变量\n",
    "        self.plus_di_n = self.plus_dm_n\n",
    "        self.true_range_n = np.full(self.length, fill_value=np.nan, dtype=np.float64)\n",
    "        self.plus_di = np.full(self.length, fill_value=np.nan, dtype=np.float64)\n",
    "        self.init_true_range_n = 0\n",
    "        \n",
    "        # 计算RSI需要的变量\n",
    "        self.rsi_n = mom_window\n",
    "        self.upavg = np.full(self.length, fill_value=np.nan, dtype=np.float64)\n",
    "        self.dnavg = np.full(self.length, fill_value=np.nan, dtype=np.float64)\n",
    "        self.rsi = np.full(self.length, fill_value=np.nan, dtype=np.float64)\n",
    "        \n",
    "        # 计算TEMA需要的变量\n",
    "        self.tema_n = std_window\n",
    "        self.tema_ema1 = np.full(self.length, fill_value=np.nan, dtype=np.float64)\n",
    "        self.tema_ema2 = np.full(self.length, fill_value=np.nan, dtype=np.float64)\n",
    "        self.tema_ema3 = np.full(self.length, fill_value=np.nan, dtype=np.float64)\n",
    "        self.tema = np.full(self.length, fill_value=np.nan, dtype=np.float64)\n",
    "        \n",
    "        # 计算自定义指标1需要的变量\n",
    "        self.customized_indicator_n = std_window\n",
    "        self.customized_indicator = np.full(self.length, fill_value=np.nan, dtype=np.float64)\n",
    "        self.customized_indicator_max_part = np.full(self.length, fill_value=np.nan, dtype=np.float64)\n",
    "        self.customized_indicator_abs_part = np.full(self.length, fill_value=np.nan, dtype=np.float64)\n",
    "        self.customized_indicator_sma_max_part = np.full(self.length, fill_value=np.nan, dtype=np.float64)\n",
    "        self.customized_indicator_sma_abs_part = np.full(self.length, fill_value=np.nan, dtype=np.float64)\n",
    "        \n",
    "        # 计算CCI需要的变量\n",
    "        self.cci_n = mom_window\n",
    "        self.avg_typical_price = np.full(self.length, fill_value=np.nan, dtype=np.float64)\n",
    "        self.mean_deviation = np.full(self.length, fill_value=np.nan, dtype=np.float64)\n",
    "        self.cci = np.full(self.length, fill_value=np.nan, dtype=np.float64)\n",
    "        \n",
    "        # 计算KDJ需要的变量\n",
    "        self.kdj_n = mom_window\n",
    "        self.k_n = round(0.75*mom_window)\n",
    "        self.d_n = round(0.75*mom_window)\n",
    "        self.highest_high = np.full(self.length, fill_value=np.nan, dtype=np.float64)\n",
    "        self.lowest_low = np.full(self.length, fill_value=np.nan, dtype=np.float64)\n",
    "        self.rsv = np.full(self.length, fill_value=np.nan, dtype=np.float64)\n",
    "        self.k = np.full(self.length, fill_value=np.nan, dtype=np.float64)\n",
    "        self.d = np.full(self.length, fill_value=np.nan, dtype=np.float64)\n",
    "        self.j = np.full(self.length, fill_value=np.nan, dtype=np.float64)\n",
    "        \n",
    "    cdef double TrueRange(self, double high, double low, double preClose):\n",
    "        return max([high-low, abs(high-preClose), abs(preClose-low)])\n",
    "    \n",
    "    cdef double DX_inc(self, double plusDI, double minusDI):\n",
    "        return 100 * abs(plusDI - minusDI) / (plusDI + minusDI + np.finfo(float).eps)\n",
    "    \n",
    "    cdef double MFI_inc(self, double MoneyRatio):\n",
    "        return 100 - (100/(1+MoneyRatio))\n",
    "    \n",
    "    cdef double APO_inc(self, double fastMA, double slowMA):    \n",
    "        return fastMA - slowMA\n",
    "    \n",
    "    cdef np.ndarray MACD_inc(self, double fastema, double slowema, double preSignal, int signal_n):\n",
    "        cdef double macd = fastema - slowema\n",
    "        cdef double signal = ((signal_n-1)/(signal_n+1))*preSignal + (2/(signal_n+1))*macd\n",
    "        cdef double hist = macd - signal\n",
    "        return np.array([macd, signal, hist])\n",
    "    \n",
    "    cdef double NATR_inc(self, double close, double atr):\n",
    "        cdef double natr = 100*atr/close\n",
    "        return natr\n",
    "    \n",
    "    cdef np.ndarray dm_one_period(self, double high, double prehigh, double low, double prelow):\n",
    "        cdef double deltahigh = high - prehigh\n",
    "        cdef double deltalow = prelow - low\n",
    "        cdef double plusdm\n",
    "        cdef double minusdm\n",
    "\n",
    "        if (deltahigh < 0 and deltalow < 0) or deltahigh == deltalow:\n",
    "            plusdm = 0\n",
    "            minusdm = 0\n",
    "        elif deltahigh > deltalow:\n",
    "            plusdm = deltahigh\n",
    "            minusdm = 0\n",
    "        else:\n",
    "            plusdm = 0\n",
    "            minusdm = deltalow\n",
    "\n",
    "        return np.array([plusdm, minusdm])\n",
    "    \n",
    "    cdef double PLUS_DM_inc(self, double high, double prehigh, double low, double prelow, double pre_plus_dm_n, int n):\n",
    "        plusdm, _ = self.dm_one_period(high, prehigh, low, prelow)\n",
    "        plus_dm_n = pre_plus_dm_n - pre_plus_dm_n/n + plusdm\n",
    "\n",
    "        return plus_dm_n\n",
    "    \n",
    "    cdef double PLUS_DI_inc(self, double plus_dm_n, double true_range_n):\n",
    "        return plus_dm_n / true_range_n * 100\n",
    "    \n",
    "    cdef double true_range_n_inc(self, double pre_true_range_n, double preClose, double high, double low, int n):\n",
    "        cdef double tr\n",
    "        tr = self.TrueRange(high, low, preClose)\n",
    "        true_range_n = pre_true_range_n - pre_true_range_n / n + tr\n",
    "        return true_range_n  \n",
    "    \n",
    "    cdef double RSI_inc(self, double close, double preClose, double preUpavg, double preDnavg, int n=14):\n",
    "        cdef double up\n",
    "        cdef double dn\n",
    "        if close > preClose:\n",
    "            up = close - preClose\n",
    "            dn = 0\n",
    "        else:\n",
    "            up = 0\n",
    "            dn = preClose - close\n",
    "\n",
    "        upavg = (preUpavg*(n-1) + up) / n\n",
    "        dnavg = (preDnavg*(n-1) + dn) / n\n",
    "        rsi = 100 * upavg/(upavg + dnavg)\n",
    "\n",
    "        return rsi\n",
    "    \n",
    "    cdef double TEMA_inc(self, double ema1, double ema2, double ema3):\n",
    "        return 3*ema1 - 3*ema2 + ema3\n",
    "    \n",
    "    cdef double customized_indicator_inc(self, double sma_max_part, double sma_abs_part):\n",
    "        return sma_max_part/sma_abs_part*100\n",
    " \n",
    "    cdef double CCI_inc(self, double typical_price, double avg_typical_price, double avg_deviation):\n",
    "        return (typical_price - avg_typical_price)/(0.015*avg_deviation)\n",
    "    \n",
    "    cdef dx_depends_update(self):\n",
    "        # DX 依赖变量更新\n",
    "        # 更新 typicalprice, moneyflow\n",
    "        self.typical_price[self.i] = (self.high[self.i] + self.low[self.i] + self.close[self.i]) / 3\n",
    "        self.money_flow[self.i] = self.typical_price[self.i] * self.vol[self.i]\n",
    "        \n",
    "        if self.i == 0:\n",
    "            pass\n",
    "        else:\n",
    "            self.deltahigh[self.i] = self.high[self.i] - self.high[self.i-1]\n",
    "            self.deltalow[self.i] = self.low[self.i-1] - self.low[self.i]\n",
    "            self.tr[self.i] = self.TrueRange(self.high[self.i], self.low[self.i], self.close[self.i-1])\n",
    "            # 更新 plusdm minusdm\n",
    "            if (self.deltahigh[self.i] < 0 and self.deltalow[self.i] < 0) or \\\n",
    "            (self.deltahigh[self.i] == self.deltalow[self.i]):\n",
    "                self.plusdm[self.i] = 0\n",
    "                self.minusdm[self.i] = 0\n",
    "            elif self.deltahigh[self.i] > self.deltalow[self.i]:\n",
    "                self.plusdm[self.i] = self.deltahigh[self.i]\n",
    "                self.minusdm[self.i] = 0\n",
    "            elif self.deltahigh[self.i] < self.deltalow[self.i]:\n",
    "                self.plusdm[self.i] = 0\n",
    "                self.minusdm[self.i] = self.deltalow[self.i]\n",
    "                \n",
    "            if self.i == 1:\n",
    "                # 更新第一个 adm\n",
    "                \n",
    "                self.admplus[self.i] = self.plusdm[self.i]\n",
    "                self.admminus[self.i] = self.minusdm[self.i]\n",
    "                \n",
    "                # 更新第一个 atr\n",
    "                self.dx_atr[self.i] = self.tr[self.i]  \n",
    "            else:\n",
    "                # 更新第二个及以后的 adm\n",
    "                \n",
    "                self.admplus[self.i] = (self.plusdm[self.i] + (self.dx_n-1)*self.admplus[self.i-1]) / self.dx_n\n",
    "                self.admminus[self.i] = (self.minusdm[self.i] + (self.dx_n-1)*self.admminus[self.i-1]) / self.dx_n\n",
    "\n",
    "                # 更新第二个及以后的 atr\n",
    "                self.dx_atr[self.i] = (self.tr[self.i] + (self.dx_n-1)*self.dx_atr[self.i-1]) / self.dx_n\n",
    "            # 更新 di\n",
    "            self.plusdi[self.i] = 100 * self.admplus[self.i] / self.dx_atr[self.i]\n",
    "            self.minusdi[self.i] = 100 * self.admminus[self.i] / self.dx_atr[self.i]\n",
    "            # 更新 dx\n",
    "            self.dx[self.i] = self.DX_inc(self.plusdi[self.i], self.minusdi[self.i])\n",
    "            \n",
    "            # 更新 adx\n",
    "            if self.i == 1:\n",
    "                self.adx[self.i] = self.dx[self.i]\n",
    "            else:\n",
    "                self.adx[self.i] = ((self.dx_n-1) * self.adx[self.i-1] + self.dx[self.i]) / self.dx_n\n",
    "                \n",
    "    cdef mfi_depends_update(self):\n",
    "        # MFI 依赖变量更新\n",
    "        # 更新 typicalprice, moneyflow\n",
    "        self.typical_price[self.i] = (self.high[self.i] + self.low[self.i] + self.close[self.i]) / 3\n",
    "        self.money_flow[self.i] = self.typical_price[self.i] * self.vol[self.i]\n",
    "\n",
    "        if self.i == 0:\n",
    "            pass\n",
    "        else:\n",
    "            # 更新 positivemoneyflow, negativemoneyflow\n",
    "            if self.typical_price[self.i] > self.typical_price[self.i-1]:\n",
    "                self.positive_money_flow[self.i] = self.money_flow[self.i]\n",
    "                self.negative_money_flow[self.i] = 0\n",
    "            else:\n",
    "                self.positive_money_flow[self.i] = 0\n",
    "                self.negative_money_flow[self.i] = self.money_flow[self.i]\n",
    "\n",
    "            # 更新 moneyratio\n",
    "            if self.i >= self.mfi_n:\n",
    "                self.money_ratio[self.i] = ( self.positive_money_flow[self.i-self.mfi_n+1:self.i+1].sum() /                                                          self.negative_money_flow[self.i-self.mfi_n+1:self.i+1].sum() )\n",
    "                # 更新 moneyflowindex\n",
    "                self.mfi[self.i] = self.MFI_inc(self.money_ratio[self.i])\n",
    "           \n",
    "    cdef apo_depends_update(self):\n",
    "        # APO 依赖变量更新\n",
    "        # 更新fastma\n",
    "        if self.i >= self.apo_fast_n-1:\n",
    "            self.apo_fastma[self.i] = self.close[self.i-self.apo_fast_n+1:self.i+1].mean()\n",
    "        # 更新slowma\n",
    "        if self.i >= self.apo_slow_n-1:\n",
    "            self.apo_slowma[self.i] = self.close[self.i-self.apo_slow_n+1:self.i+1].mean()\n",
    "            # 更新apo\n",
    "            self.apo[self.i] = self.APO_inc(self.apo_fastma[self.i], self.apo_slowma[self.i])\n",
    "            \n",
    "    cdef macd_depends_update(self):\n",
    "        # MACD 依赖变量更新\n",
    "        # 更新第一个fastema slowema\n",
    "        if self.i == 0:\n",
    "            self.macd_fastema[self.i] = self.close[self.i]\n",
    "            self.macd_slowema[self.i] = self.close[self.i]\n",
    "            self.macd[self.i] = self.macd_fastema[self.i] - self.macd_slowema[self.i]\n",
    "            self.macdsignal[self.i] = self.macd[self.i]\n",
    "            self.macdhist[self.i] = self.macd[self.i] - self.macdsignal[self.i]\n",
    "        else:\n",
    "            self.macd_fastema[self.i] = self.macd_fastema[self.i-1]*((self.macd_fast_n-1)/(self.macd_fast_n+1)) + (2/(self.macd_fast_n+1))*self.close[self.i]\n",
    "            self.macd_slowema[self.i] = self.macd_slowema[self.i-1]*((self.macd_slow_n-1)/(self.macd_slow_n+1)) + (2/(self.macd_slow_n+1))*self.close[self.i]\n",
    "            self.macd[self.i], self.macdsignal[self.i], self.macdhist[self.i] = self.MACD_inc(self.macd_fastema[self.i], self.macd_slowema[self.i], self.macdsignal[self.i-1], self.macd_signal_n)                \n",
    "            \n",
    "    cdef natr_depends_update(self):\n",
    "        # NATR 依赖变量更新\n",
    "        if self.i == 0:\n",
    "            pass\n",
    "        else:\n",
    "            if self.i == 1:\n",
    "                # 更新第一个natr_atr\n",
    "                self.natr_atr[self.i] = self.tr[self.i] \n",
    "            elif self.i >= 2:\n",
    "                self.natr_atr[self.i] = (self.tr[self.i] + (self.natr_n-1)*self.natr_atr[self.i-1]) / self.natr_n\n",
    "                self.natr[self.i] = self.NATR_inc(self.close[self.i], self.natr_atr[self.i])\n",
    "                \n",
    "    cdef plus_dm_depends_update(self):\n",
    "        # PLUS_DM 依赖变量更新\n",
    "        if self.i == 0:\n",
    "            pass\n",
    "        elif self.i < self.plus_dm_n:\n",
    "            self.init_plusdm += self.dm_one_period(self.high[self.i], self.high[self.i-1], self.low[self.i], self.low[self.i])[0]\n",
    "            if self.i == self.plus_dm_n-1:\n",
    "                self.plus_dm[self.i] = self.init_plusdm\n",
    "        else:\n",
    "            self.plus_dm[self.i] = self.PLUS_DM_inc(self.high[self.i], self.high[self.i-1], self.low[self.i], self.low[self.i-1], self.plus_dm[self.i-1], self.plus_dm_n) \n",
    "            \n",
    "    cdef plus_di_depends_update(self):\n",
    "        # PLUS_DI 依赖变量更新\n",
    "        if self.i == 0:\n",
    "            pass\n",
    "        elif self.i < self.plus_di_n:\n",
    "            self.init_true_range_n += self.TrueRange(self.high[self.i], self.low[self.i], self.close[self.i-1])\n",
    "            if self.i == self.plus_di_n-1:\n",
    "                self.true_range_n[self.i] = self.init_true_range_n\n",
    "                self.plus_di[self.i] = self.PLUS_DI_inc(self.plus_dm[self.i], self.true_range_n[self.i])\n",
    "        else:\n",
    "            self.true_range_n[self.i] = self.true_range_n_inc(self.true_range_n[self.i-1], self.close[self.i-1], self.high[self.i], self.low[self.i], self.plus_di_n)\n",
    "            self.plus_di[self.i] = self.PLUS_DI_inc(self.plus_dm[self.i], self.true_range_n[self.i])\n",
    "    \n",
    "    cdef rsi_depends_update(self):\n",
    "        # RSI 依赖变量更新\n",
    "        if self.i == 0:\n",
    "            pass\n",
    "        else:\n",
    "            if self.close[self.i] > self.close[self.i-1]:\n",
    "                up = self.close[self.i] - self.close[self.i-1]\n",
    "                dn = 0\n",
    "            else:\n",
    "                up = 0\n",
    "                dn = self.close[self.i-1] - self.close[self.i]\n",
    "                \n",
    "            if self.i == 1:\n",
    "                self.upavg[self.i] = up\n",
    "                self.dnavg[self.i] = dn\n",
    "            else:\n",
    "                self.rsi[self.i] = self.RSI_inc(self.close[self.i], self.close[self.i-1], self.upavg[self.i-1], self.dnavg[self.i-1], self.rsi_n)\n",
    "                self.upavg[self.i] = ((self.rsi_n-1)*self.upavg[self.i-1] + up) / self.rsi_n\n",
    "                self.dnavg[self.i] = ((self.rsi_n-1)*self.dnavg[self.i-1] + dn) / self.rsi_n    \n",
    " \n",
    "    cdef tema_depends_update(self):\n",
    "        # TEMA 依赖变量更新\n",
    "        if self.i == 0:\n",
    "            # 更新第一个ema1 ema2 ema3\n",
    "            self.tema_ema1[self.i] = self.close[self.i]\n",
    "            self.tema_ema2[self.i] = self.tema_ema1[self.i]\n",
    "            self.tema_ema3[self.i] = self.tema_ema2[self.i]\n",
    "        else:\n",
    "            self.tema_ema1[self.i] = ((self.tema_n-1)/(self.tema_n+1))*self.tema_ema1[self.i-1] + (2/(self.tema_n+1))*self.close[self.i]\n",
    "            self.tema_ema2[self.i] = ((self.tema_n-1)/(self.tema_n+1))*self.tema_ema2[self.i-1] + (2/(self.tema_n+1))*self.tema_ema1[self.i]\n",
    "            self.tema_ema3[self.i] = ((self.tema_n-1)/(self.tema_n+1))*self.tema_ema3[self.i-1] + (2/(self.tema_n+1))*self.tema_ema2[self.i]\n",
    "            \n",
    "        self.tema[self.i] = self.TEMA_inc(self.tema_ema1[self.i], self.tema_ema2[self.i], self.tema_ema3[self.i])  \n",
    "        \n",
    "    cdef customized_indicator_depends_update(self):\n",
    "        # 自定义指标 依赖变量更新\n",
    "        cdef double vol_inc\n",
    "        if self.i == 0:\n",
    "            pass\n",
    "        else:\n",
    "            vol_inc = self.vol[self.i] - self.vol[self.i-1]\n",
    "            self.customized_indicator_max_part[self.i] = max(vol_inc, 0)\n",
    "            self.customized_indicator_abs_part[self.i] = abs(vol_inc)\n",
    "            if self.i == self.customized_indicator_n:\n",
    "                self.customized_indicator_sma_max_part[self.i] = self.customized_indicator_max_part[self.i-self.customized_indicator_n+1:self.i+1].mean()\n",
    "                self.customized_indicator_sma_abs_part[self.i] = self.customized_indicator_abs_part[self.i-self.customized_indicator_n+1:self.i+1].mean()\n",
    "                self.customized_indicator[self.i] = self.customized_indicator_inc(self.customized_indicator_sma_max_part[self.i], self.customized_indicator_sma_abs_part[self.i])\n",
    "            elif self.i > self.customized_indicator_n:\n",
    "                self.customized_indicator_sma_max_part[self.i] = self.customized_indicator_sma_max_part[self.i-1] - self.customized_indicator_max_part[self.i-self.customized_indicator_n]/self.customized_indicator_n + self.customized_indicator_max_part[self.i]/self.customized_indicator_n\n",
    "                self.customized_indicator_sma_abs_part[self.i] = self.customized_indicator_sma_abs_part[self.i-1] - self.customized_indicator_abs_part[self.i-self.customized_indicator_n]/self.customized_indicator_n + self.customized_indicator_abs_part[self.i]/self.customized_indicator_n\n",
    "                self.customized_indicator[self.i] = self.customized_indicator_inc(self.customized_indicator_sma_max_part[self.i], self.customized_indicator_sma_abs_part[self.i])\n",
    "          \n",
    "    cdef cci_depends_update(self):\n",
    "        # CCI 依赖变量更新\n",
    "        # typical_price 已在mfi update 更新了\n",
    "        if self.i >= self.cci_n-1:\n",
    "            if self.i == self.cci_n-1:\n",
    "                self.avg_typical_price[self.i] = self.typical_price[self.i-self.cci_n+1:self.i+1].mean()\n",
    "            elif self.i > self.cci_n-1:\n",
    "                self.avg_typical_price[self.i] = self.avg_typical_price[self.i-1] - self.typical_price[self.i-self.cci_n]/self.cci_n + self.typical_price[self.i]/self.cci_n\n",
    "            self.mean_deviation[self.i] = abs(self.typical_price[self.i-self.cci_n+1:self.i+1] - self.avg_typical_price[self.i]).mean()\n",
    "            self.cci[self.i] = self.CCI_inc(self.typical_price[self.i], self.avg_typical_price[self.i], self.mean_deviation[self.i])\n",
    "            \n",
    "    cdef kdj_depends_update(self):\n",
    "        # KDJ 依赖变量更新\n",
    "        if self.i >= self.kdj_n - 1:\n",
    "            self.lowest_low[self.i] = self.low[self.i+1-self.kdj_n:self.i+1].min()\n",
    "            self.highest_high[self.i] = self.high[self.i+1-self.kdj_n:self.i+1].max()\n",
    "            self.rsv[self.i] = (self.close[self.i] - self.lowest_low[self.i])/(self.highest_high[self.i] - self.lowest_low[self.i]) * 100\n",
    "            if self.i == self.kdj_n - 1 + self.k_n - 1:\n",
    "                self.k[self.i] = self.rsv[self.i+1-self.k_n:self.i+1].mean()\n",
    "            elif self.i > self.kdj_n - 1 + self.k_n - 1:\n",
    "                self.k[self.i] = self.k[self.i-1] - self.rsv[self.i-self.k_n]/self.k_n + self.rsv[self.i]/self.k_n\n",
    "                if self.i >= self.kdj_n - 1 + self.k_n - 1 + self.d_n - 1:\n",
    "                    if self.i == self.kdj_n - 1 + self.k_n - 1 + self.d_n - 1:\n",
    "                        self.d[self.i] = self.k[self.i+1-self.d_n:self.i+1].mean()\n",
    "                    elif self.i > self.kdj_n - 1 + self.k_n - 1 + self.d_n - 1:\n",
    "                        self.d[self.i] = self.d[self.i-1] - self.k[self.i-self.d_n]/self.d_n + self.k[self.i]/self.d_n\n",
    "                    self.j[self.i] = 3*self.k[self.i] - 2*self.d[self.i]    \n",
    "   \n",
    "            \n",
    "    cpdef new_bar(self, double new_high, double new_low, double new_close, double new_vol):\n",
    "        self.i += 1\n",
    "        self.high[self.i] = new_high\n",
    "        self.low[self.i] = new_low\n",
    "        self.close[self.i] = new_close\n",
    "        self.vol[self.i] = new_vol\n",
    "        \n",
    "\n",
    "        self.dx_depends_update()\n",
    "        self.mfi_depends_update()\n",
    "        self.apo_depends_update()\n",
    "        self.macd_depends_update()\n",
    "        self.natr_depends_update()\n",
    "        self.plus_dm_depends_update()    \n",
    "        self.rsi_depends_update()\n",
    "        self.tema_depends_update()\n",
    "        self.customized_indicator_depends_update()\n",
    "        self.cci_depends_update()\n",
    "        self.kdj_depends_update()\n",
    "        self.plus_di_depends_update()\n",
    "        \n",
    "    cpdef list get_indicators_name(self):\n",
    "        return self.indicators_name\n",
    "    \n",
    "    cpdef np.ndarray get_indicators(self):\n",
    "        return np.array([\n",
    "                self.dx[self.i],\n",
    "                self.adx[self.i],\n",
    "                self.mfi[self.i],\n",
    "                self.apo[self.i],\n",
    "                self.macd[self.i],\n",
    "                self.macdsignal[self.i],\n",
    "                self.macdhist[self.i],\n",
    "                self.natr[self.i],\n",
    "                self.plus_dm[self.i],\n",
    "                self.rsi[self.i],\n",
    "                self.tema[self.i],\n",
    "                self.customized_indicator[self.i],\n",
    "                self.cci[self.i],\n",
    "                self.rsv[self.i],\n",
    "                self.k[self.i],\n",
    "                self.d[self.i],\n",
    "                self.j[self.i],\n",
    "                self.natr_atr[self.i],\n",
    "                self.plus_di[self.i]\n",
    "        ]\n",
    "        )"
   ]
  },
  {
   "cell_type": "code",
   "execution_count": 6,
   "metadata": {},
   "outputs": [],
   "source": [
    "# test\n",
    "\n",
    "import numpy as np \n",
    "\n",
    "size = 1000\n",
    "high = np.random.random(size)\n",
    "low = np.random.random(size)\n",
    "close = np.random.random(size)\n",
    "vol = np.random.random(size)\n"
   ]
  },
  {
   "cell_type": "code",
   "execution_count": 13,
   "metadata": {},
   "outputs": [],
   "source": [
    "fast_n=12\n",
    "slow_n=26\n",
    "ta = TAHelper(mom_window=fast_n, std_window=slow_n)\n",
    "\n",
    "DX = list()\n",
    "ADX = list()\n",
    "MFI = list()\n",
    "APO = list()\n",
    "MACD = list()\n",
    "MACDsignal = list()\n",
    "MACDhist = list()\n",
    "NATR = list()\n",
    "PLUS_DM = list()\n",
    "RSI = list()\n",
    "TEMA = list()\n",
    "CUSTOMIZED_INDICATOR = list()\n",
    "CCI = list()\n",
    "RSV = list()\n",
    "KDJ_K = list()\n",
    "KDJ_D = list()\n",
    "KDJ_J = list()\n",
    "ATR = list()\n",
    "PLUS_DI = list()\n",
    "\n",
    "for i in range(len(high)):\n",
    "    ta.new_bar(high[i], low[i], close[i], vol[i])\n",
    "    indicators = ta.get_indicators()\n",
    "    DX.append(indicators[0])\n",
    "    ADX.append(indicators[1])\n",
    "    MFI.append(indicators[2])\n",
    "    APO.append(indicators[3])\n",
    "    MACD.append(indicators[4])\n",
    "    MACDsignal.append(indicators[5])\n",
    "    MACDhist.append(indicators[6])\n",
    "    NATR.append(indicators[7])\n",
    "    PLUS_DM.append(indicators[8])\n",
    "    RSI.append(indicators[9])\n",
    "    TEMA.append(indicators[10])\n",
    "    CUSTOMIZED_INDICATOR.append(indicators[11])\n",
    "    CCI.append(indicators[12])\n",
    "    RSV.append(indicators[13])\n",
    "    KDJ_K.append(indicators[14])\n",
    "    KDJ_D.append(indicators[15])\n",
    "    KDJ_J.append(indicators[16])\n",
    "    ATR.append(indicators[17])\n",
    "    PLUS_DI.append(indicators[18])\n",
    "    "
   ]
  },
  {
   "cell_type": "code",
   "execution_count": 9,
   "metadata": {},
   "outputs": [
    {
     "data": {
      "text/plain": [
       "array([            nan,             nan,             nan, ...,\n",
       "       -1.33226763e-14, -7.10542736e-15,  0.00000000e+00])"
      ]
     },
     "execution_count": 9,
     "metadata": {},
     "output_type": "execute_result"
    }
   ],
   "source": [
    "import talib \n",
    "np.set_printoptions(threshold=200)\n",
    "\n",
    "np.array(DX) - talib.DX(high, low, close, timeperiod=fast_n)"
   ]
  },
  {
   "cell_type": "code",
   "execution_count": 6,
   "metadata": {},
   "outputs": [
    {
     "data": {
      "text/plain": [
       "array([nan, nan, nan, ...,  0.,  0.,  0.])"
      ]
     },
     "execution_count": 6,
     "metadata": {},
     "output_type": "execute_result"
    }
   ],
   "source": [
    "np.array(ADX) - talib.ADX(high, low, close, timeperiod=fast_n)"
   ]
  },
  {
   "cell_type": "code",
   "execution_count": 7,
   "metadata": {},
   "outputs": [
    {
     "data": {
      "text/plain": [
       "array([           nan,            nan,            nan, ...,\n",
       "       2.84217094e-14, 2.84217094e-14, 1.42108547e-14])"
      ]
     },
     "execution_count": 7,
     "metadata": {},
     "output_type": "execute_result"
    }
   ],
   "source": [
    "np.array(MFI) - talib.MFI(high, low, close, vol, timeperiod=fast_n)"
   ]
  },
  {
   "cell_type": "code",
   "execution_count": 8,
   "metadata": {},
   "outputs": [
    {
     "data": {
      "text/plain": [
       "array([            nan,             nan,             nan, ...,\n",
       "       -2.22044605e-16, -1.66533454e-16, -1.66533454e-16])"
      ]
     },
     "execution_count": 8,
     "metadata": {},
     "output_type": "execute_result"
    }
   ],
   "source": [
    "np.array(APO) - talib.APO(close, fastperiod=fast_n, slowperiod=slow_n)"
   ]
  },
  {
   "cell_type": "code",
   "execution_count": 9,
   "metadata": {},
   "outputs": [],
   "source": [
    "macd1 = np.array(MACD)\n",
    "signal1 = np.array(MACDsignal)\n",
    "hist1 = np.array(MACDhist)\n",
    "macd2, signal2, hist2 = talib.MACD(close, fastperiod=fast_n, slowperiod=slow_n)"
   ]
  },
  {
   "cell_type": "code",
   "execution_count": 10,
   "metadata": {},
   "outputs": [
    {
     "data": {
      "text/plain": [
       "array([            nan,             nan,             nan, ...,\n",
       "       -1.11022302e-16, -1.11022302e-16, -1.11022302e-16])"
      ]
     },
     "execution_count": 10,
     "metadata": {},
     "output_type": "execute_result"
    }
   ],
   "source": [
    "macd1 - macd2"
   ]
  },
  {
   "cell_type": "code",
   "execution_count": 11,
   "metadata": {},
   "outputs": [
    {
     "data": {
      "text/plain": [
       "array([            nan,             nan,             nan, ...,\n",
       "       -7.97972799e-17, -8.67361738e-17, -9.71445147e-17])"
      ]
     },
     "execution_count": 11,
     "metadata": {},
     "output_type": "execute_result"
    }
   ],
   "source": [
    "signal1 - signal2"
   ]
  },
  {
   "cell_type": "code",
   "execution_count": 12,
   "metadata": {},
   "outputs": [
    {
     "data": {
      "text/plain": [
       "array([            nan,             nan,             nan, ...,\n",
       "       -3.12250226e-17, -2.42861287e-17, -1.38777878e-17])"
      ]
     },
     "execution_count": 12,
     "metadata": {},
     "output_type": "execute_result"
    }
   ],
   "source": [
    "hist1 - hist2"
   ]
  },
  {
   "cell_type": "code",
   "execution_count": 13,
   "metadata": {},
   "outputs": [
    {
     "data": {
      "text/plain": [
       "array([           nan,            nan,            nan, ...,\n",
       "       2.84217094e-14, 0.00000000e+00, 1.42108547e-14])"
      ]
     },
     "execution_count": 13,
     "metadata": {},
     "output_type": "execute_result"
    }
   ],
   "source": [
    "np.set_printoptions(threshold=200)\n",
    "np.array(NATR) - talib.NATR(high, low, close, timeperiod=fast_n)"
   ]
  },
  {
   "cell_type": "code",
   "execution_count": 14,
   "metadata": {},
   "outputs": [
    {
     "data": {
      "text/plain": [
       "array([nan, nan, nan, ...,  0.,  0.,  0.])"
      ]
     },
     "execution_count": 14,
     "metadata": {},
     "output_type": "execute_result"
    }
   ],
   "source": [
    "np.set_printoptions(threshold=200)\n",
    "\n",
    "np.array(PLUS_DM) - talib.PLUS_DM(high, low, timeperiod=fast_n)"
   ]
  },
  {
   "cell_type": "code",
   "execution_count": 19,
   "metadata": {},
   "outputs": [
    {
     "data": {
      "text/plain": [
       "array([nan, nan, nan, ...,  0.,  0.,  0.])"
      ]
     },
     "execution_count": 19,
     "metadata": {},
     "output_type": "execute_result"
    }
   ],
   "source": [
    "np.set_printoptions(threshold=200)\n",
    "\n",
    "np.array(RSI) - talib.RSI(close, timeperiod=fast_n)"
   ]
  },
  {
   "cell_type": "code",
   "execution_count": 16,
   "metadata": {},
   "outputs": [
    {
     "data": {
      "text/plain": [
       "array([           nan,            nan,            nan, ...,\n",
       "       7.77156117e-16, 3.33066907e-16, 2.22044605e-16])"
      ]
     },
     "execution_count": 16,
     "metadata": {},
     "output_type": "execute_result"
    }
   ],
   "source": [
    "np.array(TEMA) - talib.TEMA(close, timeperiod=slow_n)"
   ]
  },
  {
   "cell_type": "code",
   "execution_count": 28,
   "metadata": {},
   "outputs": [
    {
     "data": {
      "text/plain": [
       "array([            nan,             nan,             nan, ...,\n",
       "       -7.10542736e-15,  0.00000000e+00,  0.00000000e+00])"
      ]
     },
     "execution_count": 28,
     "metadata": {},
     "output_type": "execute_result"
    }
   ],
   "source": [
    "np.array(RSI_VOL) - talib.RSI(vol, timeperiod=fast_n)"
   ]
  },
  {
   "cell_type": "code",
   "execution_count": 33,
   "metadata": {},
   "outputs": [
    {
     "data": {
      "text/plain": [
       "array([           nan,            nan,            nan, ...,\n",
       "       0.00000000e+00, 0.00000000e+00, 7.10542736e-15])"
      ]
     },
     "execution_count": 33,
     "metadata": {},
     "output_type": "execute_result"
    }
   ],
   "source": [
    "np.array(CCI) - talib.CCI(high, low, close, timeperiod=fast_n)"
   ]
  },
  {
   "cell_type": "code",
   "execution_count": 10,
   "metadata": {},
   "outputs": [
    {
     "data": {
      "text/plain": [
       "array([nan, nan, nan, ...,  0.,  0.,  0.])"
      ]
     },
     "execution_count": 10,
     "metadata": {},
     "output_type": "execute_result"
    }
   ],
   "source": [
    "np.array(ATR) - talib.ATR(high, low, close, timeperiod=fast_n)"
   ]
  },
  {
   "cell_type": "code",
   "execution_count": 14,
   "metadata": {},
   "outputs": [
    {
     "data": {
      "text/plain": [
       "array([nan, nan, nan, ...,  0.,  0.,  0.])"
      ]
     },
     "execution_count": 14,
     "metadata": {},
     "output_type": "execute_result"
    }
   ],
   "source": [
    "np.array(PLUS_DI) - talib.PLUS_DI(high, low, close, timeperiod=fast_n)"
   ]
  },
  {
   "cell_type": "code",
   "execution_count": 15,
   "metadata": {},
   "outputs": [
    {
     "data": {
      "text/plain": [
       "['DX',\n",
       " 'ADX',\n",
       " 'MFI',\n",
       " 'APO',\n",
       " 'MACD',\n",
       " 'MACDsignal',\n",
       " 'MACDhist',\n",
       " 'NATR',\n",
       " 'PLUS_DM',\n",
       " 'RSI',\n",
       " 'TEMA',\n",
       " 'CUSTOMIZED_INDICATOR',\n",
       " 'CCI',\n",
       " 'RSV',\n",
       " 'KDJ_K',\n",
       " 'KDJ_D',\n",
       " 'KDJ_J',\n",
       " 'ATR',\n",
       " 'PLUS_DI']"
      ]
     },
     "execution_count": 15,
     "metadata": {},
     "output_type": "execute_result"
    }
   ],
   "source": [
    "ta.get_indicators_name()"
   ]
  }
 ],
 "metadata": {
  "kernelspec": {
   "display_name": "Python 3",
   "language": "python",
   "name": "python3"
  },
  "language_info": {
   "codemirror_mode": {
    "name": "ipython",
    "version": 3
   },
   "file_extension": ".py",
   "mimetype": "text/x-python",
   "name": "python",
   "nbconvert_exporter": "python",
   "pygments_lexer": "ipython3",
   "version": "3.7.4"
  }
 },
 "nbformat": 4,
 "nbformat_minor": 4
}
