{
 "cells": [
  {
   "cell_type": "code",
   "execution_count": 1,
   "metadata": {},
   "outputs": [],
   "source": [
    "import numba\n",
    "\n",
    "@numba.njit\n",
    "def RSI_inc(close, preClose, preUpavg, preDnavg, n=14):\n",
    "    if close > preClose:\n",
    "        up = close - preClose\n",
    "        dn = 0\n",
    "    else:\n",
    "        up = 0\n",
    "        dn = preClose - close\n",
    "        \n",
    "    upavg = (preUpavg*(n-1) + up) / n\n",
    "    dnavg = (preDnavg*(n-1) + dn) / n\n",
    "    rsi = 100 * upavg/(upavg + dnavg)\n",
    "    \n",
    "    return rsi"
   ]
  },
  {
   "cell_type": "code",
   "execution_count": 2,
   "metadata": {},
   "outputs": [],
   "source": [
    "\n",
    "def RSI(close, n):\n",
    "    upavg = np.full_like(close, fill_value=np.nan)\n",
    "    dnavg = np.full_like(close, fill_value=np.nan)\n",
    "    rsi = np.full_like(close, fill_value=np.nan)\n",
    "    \n",
    "    for i in range(len(close)):\n",
    "        if i == 0:\n",
    "            pass\n",
    "        else:\n",
    "            if close[i] > close[i-1]:\n",
    "                up = close[i] - close[i-1]\n",
    "                dn = 0\n",
    "            else:\n",
    "                up = 0\n",
    "                dn = close[i-1] - close[i]\n",
    "                \n",
    "            if i == 1:\n",
    "                upavg[i] = up\n",
    "                dnavg[i] = dn\n",
    "            else:\n",
    "                rsi[i] = RSI_inc(close[i], close[i-1], upavg[i-1], dnavg[i-1], n)\n",
    "                upavg[i] = ((n-1)*upavg[i-1] + up) / n\n",
    "                dnavg[i] = ((n-1)*dnavg[i-1] + dn) / n\n",
    "                \n",
    "    return rsi"
   ]
  },
  {
   "cell_type": "code",
   "execution_count": 4,
   "metadata": {},
   "outputs": [
    {
     "name": "stdout",
     "output_type": "stream",
     "text": [
      "5.66 ms ± 105 µs per loop (mean ± std. dev. of 7 runs, 1 loop each)\n"
     ]
    }
   ],
   "source": [
    "import numpy as np\n",
    "import talib\n",
    "\n",
    "close = np.random.random(1000)\n",
    "%timeit RSI(close, 14)"
   ]
  },
  {
   "cell_type": "code",
   "execution_count": 3,
   "metadata": {},
   "outputs": [
    {
     "ename": "NameError",
     "evalue": "name 'close' is not defined",
     "output_type": "error",
     "traceback": [
      "\u001b[0;31m---------------------------------------------------------------------------\u001b[0m",
      "\u001b[0;31mNameError\u001b[0m                                 Traceback (most recent call last)",
      "\u001b[0;32m<ipython-input-3-8ef29020fee1>\u001b[0m in \u001b[0;36m<module>\u001b[0;34m\u001b[0m\n\u001b[0;32m----> 1\u001b[0;31m \u001b[0mRSI\u001b[0m\u001b[0;34m(\u001b[0m\u001b[0mclose\u001b[0m\u001b[0;34m,\u001b[0m \u001b[0;36m14\u001b[0m\u001b[0;34m)\u001b[0m \u001b[0;34m-\u001b[0m \u001b[0mtalib\u001b[0m\u001b[0;34m.\u001b[0m\u001b[0mRSI\u001b[0m\u001b[0;34m(\u001b[0m\u001b[0mclose\u001b[0m\u001b[0;34m,\u001b[0m \u001b[0;36m14\u001b[0m\u001b[0;34m)\u001b[0m\u001b[0;34m\u001b[0m\u001b[0;34m\u001b[0m\u001b[0m\n\u001b[0m",
      "\u001b[0;31mNameError\u001b[0m: name 'close' is not defined"
     ]
    }
   ],
   "source": [
    "RSI(close, 14) - talib.RSI(close, 14)"
   ]
  }
 ],
 "metadata": {
  "kernelspec": {
   "display_name": "Python 3",
   "language": "python",
   "name": "python3"
  },
  "language_info": {
   "codemirror_mode": {
    "name": "ipython",
    "version": 3
   },
   "file_extension": ".py",
   "mimetype": "text/x-python",
   "name": "python",
   "nbconvert_exporter": "python",
   "pygments_lexer": "ipython3",
   "version": "3.7.4"
  }
 },
 "nbformat": 4,
 "nbformat_minor": 4
}
