{
 "cells": [
  {
   "cell_type": "code",
   "execution_count": 2,
   "metadata": {},
   "outputs": [],
   "source": [
    "import numpy as np\n",
    "from scipy.ndimage.interpolation import shift\n",
    "\n",
    "inp = {\n",
    "    'open': np.random.random(5),\n",
    "    'high': np.random.random(5),\n",
    "    'low': np.random.random(5),\n",
    "    'close': np.random.random(5),\n",
    "    'volume': np.random.random(5)\n",
    "}"
   ]
  },
  {
   "cell_type": "code",
   "execution_count": 16,
   "metadata": {},
   "outputs": [
    {
     "name": "stdout",
     "output_type": "stream",
     "text": [
      "typicalPrice: \n",
      " [0.51450324 0.71384514 0.41606231 0.68065635 0.52018719]\n",
      "preTypicalPrice: \n",
      " [       nan 0.51450324 0.71384514 0.41606231 0.68065635]\n",
      "moneyFlow: \n",
      " [0.3391579  0.39209354 0.20457458 0.38608484 0.37730763]\n",
      "pmf: \n",
      " [0.39209354 0.38608484]\n"
     ]
    },
    {
     "name": "stderr",
     "output_type": "stream",
     "text": [
      "/opt/anaconda3/lib/python3.6/site-packages/ipykernel/__main__.py:14: RuntimeWarning: invalid value encountered in greater\n"
     ]
    }
   ],
   "source": [
    "highs = inp['high']\n",
    "lows = inp['low']\n",
    "closes = inp['close']\n",
    "vols = inp['volume']\n",
    "\n",
    "n = 4\n",
    "assert len(highs) == n+1\n",
    "typicalPrice = (highs + lows + closes) / 3\n",
    "print('typicalPrice: \\n', typicalPrice)\n",
    "preTypicalPrice = shift(typicalPrice, 1, cval=np.nan)\n",
    "print('preTypicalPrice: \\n', preTypicalPrice)\n",
    "moneyFlow = typicalPrice * vols\n",
    "print('moneyFlow: \\n', moneyFlow)\n",
    "pmf = moneyFlow[typicalPrice > preTypicalPrice]\n",
    "print('pmf: \\n', pmf)\n",
    "pmfs = pmf.sum()\n",
    "mfs = moneyFlow[1:].sum()\n",
    "mfi = 100*pmfs/mfs\n"
   ]
  }
 ],
 "metadata": {
  "kernelspec": {
   "display_name": "Python [conda env:anaconda3]",
   "language": "python",
   "name": "conda-env-anaconda3-py"
  },
  "language_info": {
   "codemirror_mode": {
    "name": "ipython",
    "version": 3
   },
   "file_extension": ".py",
   "mimetype": "text/x-python",
   "name": "python",
   "nbconvert_exporter": "python",
   "pygments_lexer": "ipython3",
   "version": "3.6.8"
  }
 },
 "nbformat": 4,
 "nbformat_minor": 4
}
