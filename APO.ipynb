{
 "cells": [
  {
   "cell_type": "code",
   "execution_count": 13,
   "metadata": {},
   "outputs": [],
   "source": [
    "import numba\n",
    "\n",
    "\n",
    "def APO_inc(fastMA, slowMA):    \n",
    "    return fastMA - slowMA\n",
    "\n",
    "\n",
    "def APO(close, fastperiod=12, slowperiod=26):\n",
    "\n",
    "    fastma = np.full_like(close, fill_value=np.nan)\n",
    "    slowma = np.full_like(close, fill_value=np.nan)\n",
    "    apo = np.full_like(close, fill_value=np.nan)\n",
    "\n",
    "    \n",
    "    for i in range(len(close)):\n",
    "        # 更新fastma\n",
    "        if i >= fastperiod-1:\n",
    "            fastma[i] = close[i-fastperiod+1:i+1].mean()\n",
    "        # 更新slowma\n",
    "        if i >= slowperiod-1:\n",
    "            slowma[i] = close[i-slowperiod+1:i+1].mean()\n",
    "            # 更新apo\n",
    "            apo[i] = APO_inc(fastma[i], slowma[i])\n",
    "            \n",
    "    return apo"
   ]
  },
  {
   "cell_type": "code",
   "execution_count": 14,
   "metadata": {},
   "outputs": [
    {
     "data": {
      "text/plain": [
       "array([           nan,            nan,            nan,            nan,\n",
       "                  nan,            nan,            nan,            nan,\n",
       "                  nan,            nan,            nan,            nan,\n",
       "                  nan,            nan,            nan,            nan,\n",
       "                  nan,            nan,            nan,            nan,\n",
       "                  nan,            nan,            nan,            nan,\n",
       "                  nan, 2.77555756e-16, 3.33066907e-16, 4.44089210e-16,\n",
       "       3.33066907e-16, 3.33066907e-16, 2.77555756e-16, 2.22044605e-16,\n",
       "       2.22044605e-16, 2.77555756e-16, 2.22044605e-16, 2.77555756e-16,\n",
       "       1.66533454e-16, 3.33066907e-16, 3.88578059e-16, 1.66533454e-16,\n",
       "       2.77555756e-16, 2.22044605e-16, 1.66533454e-16, 3.33066907e-16,\n",
       "       1.11022302e-16, 2.22044605e-16, 2.77555756e-16, 2.77555756e-16,\n",
       "       2.77555756e-16, 3.33066907e-16, 4.44089210e-16, 3.33066907e-16,\n",
       "       3.33066907e-16, 3.33066907e-16, 3.88578059e-16, 4.44089210e-16,\n",
       "       3.88578059e-16, 4.44089210e-16, 3.33066907e-16, 3.88578059e-16,\n",
       "       3.33066907e-16, 3.33066907e-16, 3.33066907e-16, 3.33066907e-16,\n",
       "       3.88578059e-16, 4.44089210e-16, 3.33066907e-16, 3.88578059e-16,\n",
       "       3.33066907e-16, 3.33066907e-16, 4.44089210e-16, 2.22044605e-16,\n",
       "       2.22044605e-16, 3.33066907e-16, 4.99600361e-16, 3.33066907e-16,\n",
       "       3.33066907e-16, 3.88578059e-16, 3.88578059e-16, 3.88578059e-16,\n",
       "       3.33066907e-16, 2.22044605e-16, 2.22044605e-16, 2.22044605e-16,\n",
       "       3.33066907e-16, 3.33066907e-16, 3.33066907e-16, 2.22044605e-16,\n",
       "       3.33066907e-16, 3.33066907e-16, 4.44089210e-16, 3.33066907e-16,\n",
       "       5.55111512e-16, 5.55111512e-16, 5.55111512e-16, 5.55111512e-16,\n",
       "       3.88578059e-16, 4.99600361e-16, 4.44089210e-16, 4.44089210e-16])"
      ]
     },
     "execution_count": 14,
     "metadata": {},
     "output_type": "execute_result"
    }
   ],
   "source": [
    "import numpy as np\n",
    "close = np.random.random(100)\n",
    "import talib\n",
    "\n",
    "APO(close) - talib.APO(close)"
   ]
  }
 ],
 "metadata": {
  "kernelspec": {
   "display_name": "Python 3",
   "language": "python",
   "name": "python3"
  },
  "language_info": {
   "codemirror_mode": {
    "name": "ipython",
    "version": 3
   },
   "file_extension": ".py",
   "mimetype": "text/x-python",
   "name": "python",
   "nbconvert_exporter": "python",
   "pygments_lexer": "ipython3",
   "version": "3.7.4"
  }
 },
 "nbformat": 4,
 "nbformat_minor": 4
}
