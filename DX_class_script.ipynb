{
 "cells": [
  {
   "cell_type": "code",
   "execution_count": null,
   "metadata": {},
   "outputs": [],
   "source": [
    "def TrueRange(high, low, preClose):\n",
    "    return max([abs(high-low), abs(high-preClose), abs(preClose-low)])\n",
    "\n",
    "class DX:\n",
    "    def __init__(self, n=14):\n",
    "        self.n = n\n",
    "        self.num_bars = 0\n",
    "        self.high = list()\n",
    "        self.low = list()\n",
    "        self.close = list()\n",
    "        \n",
    "        self.deltahigh = list()\n",
    "        self.deltalow = list()\n",
    "        self.plusdm = list()\n",
    "        self.minusdm = list()\n",
    "        self.admplus = list()\n",
    "        self.admminus = list()\n",
    "        self.tr = list()\n",
    "        self.atr = list()\n",
    "        self.plusdi = list()\n",
    "        self.miusdi = list()\n",
    "        self.dx = list()\n",
    "        \n",
    "    def new_bar(o = None, h, l, c):\n",
    "        self.high.append(h)\n",
    "        self.low.append(l)\n",
    "        self.close.append(c)\n",
    "        \n",
    "        self.num_bars += 1\n",
    "        \n",
    "        if self.num_bars == 1:\n",
    "            self.deltahigh.append(np.nan)\n",
    "            self.deltalow.append(np.nan)\n",
    "            self.plusdm.append(np.nan)\n",
    "            self.minusdm.append(np.nan)\n",
    "            self.admplus.append(np.nan)\n",
    "            self.admminus.append(np.nan)\n",
    "            self.tr.append(np.nan)\n",
    "            self.atr.append(np.nan)\n",
    "            self.plusdi.append(np.nan)\n",
    "            self.minusdi.append(np.nan)\n",
    "            self.dx.append(np.nan)\n",
    "        else:\n",
    "            self.deltahigh.append(self.high[-1] - self.high[-2]) # 更新deltahigh\n",
    "            self.deltalow.append(self.low[-2] - self.low[-1]) # 更新deltalow\n",
    "            self.tr.append(TrueRange(self.high[-1], self.low[-1], self.close[-2])) # 更新truerange\n",
    "            # 更新 plusdm minusdm\n",
    "            if (self.deltahigh[-1] < 0 and self.deltalow[-1] < 0) or self.deltahigh[-1] == self.deltalow[-1]:\n",
    "                self.plusdm.append(0)\n",
    "                self.minusdm.append(0)\n",
    "            elif self.deltahigh[-1] > self.deltalow[-1]:\n",
    "                self.plusdm.append(self.deltahigh[-1])\n",
    "                self.minusdm.append(0)\n",
    "            elif self.deltahigh[-1] < self.deltalow[-1]:\n",
    "                self.plusdm.append(0)\n",
    "                self.minusdm.append(self.deltalow[-1])\n",
    "            if self.num_bars == 2:\n",
    "                # 更新第一个 adm\n",
    "\n",
    "                self.admplus.append(self.plusdm[-1])\n",
    "                self.admminus.append(self.minusdm[-1])\n",
    "\n",
    "                # 更新第一个 atr\n",
    "                atr[i] = tr[i]\n",
    "            else:\n",
    "                # 更新第二个及以后的 adm\n",
    "\n",
    "                admplus[i] = (plusdm[i] + (n-1)*admplus[i-1]) / n\n",
    "                admminus[i] = (minusdm[i] + (n-1)*admminus[i-1]) / n\n",
    "\n",
    "                # 更新第二个及以后的 atr\n",
    "                atr[i] = (tr[i] + (n-1)*atr[i-1]) / n\n",
    "            # 更新 di\n",
    "            plusdi[i] = 100 * admplus[i] / atr[i]\n",
    "            minusdi[i] = 100 * admminus[i] / atr[i]\n",
    "            # 更新 dx\n",
    "            dx[i] = DX_inc(plusdi[i], minusdi[i])\n",
    "        "
   ]
  },
  {
   "cell_type": "code",
   "execution_count": 5,
   "metadata": {},
   "outputs": [
    {
     "data": {
      "text/plain": [
       "2"
      ]
     },
     "execution_count": 5,
     "metadata": {},
     "output_type": "execute_result"
    }
   ],
   "source": [
    "import numpy as np\n",
    "\n",
    "l = [1,2,3]\n",
    "l[-2]"
   ]
  },
  {
   "cell_type": "code",
   "execution_count": 8,
   "metadata": {},
   "outputs": [
    {
     "data": {
      "text/plain": [
       "array([nan, nan, nan, nan, nan, nan, nan, nan, nan, nan, nan, nan, nan,\n",
       "       nan, nan, nan, nan, nan, nan, nan, nan, nan, nan, nan, nan, nan,\n",
       "       nan, nan, nan, nan, nan, nan, nan, nan, nan, nan, nan, nan, nan,\n",
       "       nan, nan, nan, nan, nan, nan, nan, nan, nan, nan, nan, nan, nan,\n",
       "       nan, nan, nan, nan, nan, nan, nan, nan, nan, nan, nan, nan, nan,\n",
       "       nan, nan, nan, nan, nan, nan, nan, nan, nan, nan, nan, nan, nan,\n",
       "       nan, nan, nan, nan, nan, nan, nan, nan, nan, nan, nan, nan, nan,\n",
       "       nan, nan, nan, nan, nan, nan, nan, nan, nan])"
      ]
     },
     "execution_count": 8,
     "metadata": {},
     "output_type": "execute_result"
    }
   ],
   "source": [
    "np.full(100, fill_value=np.nan)"
   ]
  }
 ],
 "metadata": {
  "kernelspec": {
   "display_name": "Python 3",
   "language": "python",
   "name": "python3"
  },
  "language_info": {
   "codemirror_mode": {
    "name": "ipython",
    "version": 3
   },
   "file_extension": ".py",
   "mimetype": "text/x-python",
   "name": "python",
   "nbconvert_exporter": "python",
   "pygments_lexer": "ipython3",
   "version": "3.7.4"
  }
 },
 "nbformat": 4,
 "nbformat_minor": 4
}
