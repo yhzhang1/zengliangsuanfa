{
 "cells": [
  {
   "cell_type": "code",
   "execution_count": 12,
   "metadata": {},
   "outputs": [],
   "source": [
    "def customized_indicator_1_inc(sma_max_part, sma_abs_part):\n",
    "    return sma_max_part/sma_abs_part*100\n",
    "\n",
    "def customized_indicator_1(vol, timeperiod=30):\n",
    "    indicator = np.full_like(vol, fill_value=np.nan)\n",
    "    max_part = np.full_like(vol, fill_value=np.nan)\n",
    "    abs_part = np.full_like(vol, fill_value=np.nan)\n",
    "    sma_max_part = np.full_like(vol, fill_value=np.nan)\n",
    "    sma_abs_part = np.full_like(vol, fill_value=np.nan)\n",
    "    \n",
    "    for i in range(len(vol)):\n",
    "        if i == 0:\n",
    "            pass\n",
    "        else:\n",
    "            vol_inc = vol[i] - vol[i-1]\n",
    "            max_part[i] = max(vol_inc, 0)\n",
    "            abs_part[i] = abs(vol_inc)\n",
    "            if i == timeperiod:\n",
    "                sma_max_part[i] = max_part[i-timeperiod+1:i+1].mean()\n",
    "                sma_abs_part[i] = abs_part[i-timeperiod+1:i+1].mean()\n",
    "                indicator[i] = customized_indicator_1_inc(sma_max_part[i], sma_abs_part[i])\n",
    "            elif i > timeperiod:\n",
    "                sma_max_part[i] = sma_max_part[i-1] - max_part[i-timeperiod]/timeperiod + max_part[i]/timeperiod\n",
    "                sma_abs_part[i] = sma_abs_part[i-1] - abs_part[i-timeperiod]/timeperiod + abs_part[i]/timeperiod\n",
    "                indicator[i] = customized_indicator_1_inc(sma_max_part[i], sma_abs_part[i])\n",
    "                \n",
    "    return indicator"
   ]
  },
  {
   "cell_type": "code",
   "execution_count": 13,
   "metadata": {},
   "outputs": [],
   "source": [
    "import numpy as np\n",
    "\n",
    "vol = np.random.random(100)"
   ]
  },
  {
   "cell_type": "code",
   "execution_count": 14,
   "metadata": {},
   "outputs": [
    {
     "data": {
      "text/plain": [
       "array([        nan,         nan,         nan,         nan,         nan,\n",
       "               nan,         nan,         nan,         nan,         nan,\n",
       "               nan,         nan,         nan,         nan,         nan,\n",
       "               nan,         nan,         nan,         nan,         nan,\n",
       "               nan,         nan,         nan,         nan,         nan,\n",
       "               nan,         nan,         nan,         nan,         nan,\n",
       "       50.27585342, 49.64256726, 49.84166868, 48.65817887, 52.8202552 ,\n",
       "       46.90057772, 50.81151557, 50.39509405, 48.42462776, 51.15274648,\n",
       "       50.44962889, 50.75784966, 46.52242545, 51.09890566, 48.72561202,\n",
       "       51.76278764, 51.98570119, 47.39430057, 50.53647343, 50.41252889,\n",
       "       50.35169646, 48.10429167, 52.67616797, 48.63267376, 52.36130255,\n",
       "       47.27051496, 47.39717659, 46.57680333, 50.08834725, 51.65645565,\n",
       "       47.98059653, 48.36547781, 52.1983015 , 51.63139363, 50.63636329,\n",
       "       52.78879527, 51.97117208, 48.52902952, 52.6652579 , 51.24347026,\n",
       "       51.86151319, 49.31410836, 54.74207153, 45.47014336, 50.69847655,\n",
       "       49.22388872, 50.66490818, 53.72581568, 49.77745931, 53.9801402 ,\n",
       "       48.59964308, 49.86397268, 49.10516911, 48.19508096, 47.3479588 ,\n",
       "       50.41687228, 53.52990187, 53.77095073, 50.75077352, 52.63520941,\n",
       "       52.65487704, 52.05600862, 47.79648383, 48.15375936, 46.12108066,\n",
       "       51.30663449, 49.1013387 , 51.51187454, 48.42013597, 47.6429282 ])"
      ]
     },
     "execution_count": 14,
     "metadata": {},
     "output_type": "execute_result"
    }
   ],
   "source": [
    "customized_indicator_1(vol)"
   ]
  }
 ],
 "metadata": {
  "kernelspec": {
   "display_name": "Python 3",
   "language": "python",
   "name": "python3"
  },
  "language_info": {
   "codemirror_mode": {
    "name": "ipython",
    "version": 3
   },
   "file_extension": ".py",
   "mimetype": "text/x-python",
   "name": "python",
   "nbconvert_exporter": "python",
   "pygments_lexer": "ipython3",
   "version": "3.7.4"
  }
 },
 "nbformat": 4,
 "nbformat_minor": 4
}
